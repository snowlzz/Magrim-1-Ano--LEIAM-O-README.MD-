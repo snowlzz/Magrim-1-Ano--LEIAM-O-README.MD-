{
  "nbformat": 4,
  "nbformat_minor": 0,
  "metadata": {
    "colab": {
      "name": "Cópia de Condicional_2021.ipynb",
      "provenance": [],
      "collapsed_sections": [],
      "include_colab_link": true
    },
    "kernelspec": {
      "name": "python3",
      "display_name": "Python 3"
    },
    "language_info": {
      "name": "python"
    }
  },
  "cells": [
    {
      "cell_type": "markdown",
      "metadata": {
        "id": "view-in-github",
        "colab_type": "text"
      },
      "source": [
        "<a href=\"https://colab.research.google.com/github/snowlzz/ELP-Movers/blob/main/C%C3%B3pia_de_Condicional_2021.ipynb\" target=\"_parent\"><img src=\"https://colab.research.google.com/assets/colab-badge.svg\" alt=\"Open In Colab\"/></a>"
      ]
    },
    {
      "cell_type": "markdown",
      "metadata": {
        "id": "hijP9Q12HNJW"
      },
      "source": [
        "# **Estrutura Lógica Condicional**\n",
        "---\n",
        "---"
      ]
    },
    {
      "cell_type": "markdown",
      "metadata": {
        "id": "PL-G_qmOJzyz"
      },
      "source": [
        "> ## **Algoritmo** (Livro: Fundamentos da Programação de Computadores):\n",
        "---\n",
        "\n",
        "    se ? então     SIMPLES        ? : condição\n",
        "    início\n",
        "        ...   VERDADEIRO\n",
        "    fim\n",
        "\n",
        "    se ? então     COMPOSTO       ? : condição\n",
        "    início\n",
        "        ...   VERDADEIRO\n",
        "    fim\n",
        "    senão\n",
        "    início\n",
        "        ...   FALSO\n",
        "    fim"
      ]
    },
    {
      "cell_type": "markdown",
      "metadata": {
        "id": "E80HoQzlKQ1Q"
      },
      "source": [
        " > ## **Linguagem Python:** o deslocamento para direita (Tab) abre um bloco de comandos e o retorno para a coluna à esquerda fecha o bloco.\n",
        " ---\n",
        "\n",
        "    if ?:       SIMPLES     ? : condição\n",
        "        ...\n",
        "        ...\n",
        "\n",
        "    if ?:       COMPOSTO    ? : condição\n",
        "        ...\n",
        "        ...\n",
        "    else:\n",
        "        ...\n",
        "        ...\n"
      ]
    },
    {
      "cell_type": "markdown",
      "metadata": {
        "id": "UNXFis5JOmwU"
      },
      "source": [
        "> ## **Condição (?):**\n",
        "---\n",
        "- ### Expressão que resulta sempre em **V** ou **F** (True ou False)."
      ]
    },
    {
      "cell_type": "markdown",
      "metadata": {
        "id": "cH22o2Y1Pe7L"
      },
      "source": [
        "> ## **Operadores relacionais:**\n",
        "---\n",
        "\n",
        "- ## Algoritmo: < <= > >= = <> (diferente).\n",
        "- ## Python: `<` `<=` `>` `>=` `==` `!=`"
      ]
    },
    {
      "cell_type": "markdown",
      "metadata": {
        "id": "RRA49rGMQury"
      },
      "source": [
        "> ### **Exemplos:**\n",
        "\n",
        "- ### a == 0\n",
        "- ### nota >= 6\n",
        "- ### salario != 5000.0\n",
        "- ### x < 0\n",
        "- ### sqrt(w) >= 10 - y\n"
      ]
    },
    {
      "cell_type": "markdown",
      "metadata": {
        "id": "k6_Qh36ERwzV"
      },
      "source": [
        "> ## **Operadores Lógicos:**\n",
        "---\n",
        "\n",
        "- ### Condições compostas: duas ou mais condições.\n",
        "\n",
        "- ## Algoritmo: e ou não (negação)\n",
        "- ## Python: `and` `or` `not`"
      ]
    },
    {
      "cell_type": "markdown",
      "metadata": {
        "id": "qzDV85e5Tah0"
      },
      "source": [
        "> ## Tabela Verdade - `and`\n",
        "---\n",
        "Condição 1 | Condição 2 | Operador `and`\n",
        "- | - | -\n",
        "F | F | F\n",
        "F | V | F\n",
        "V | F | F\n",
        "V | V | V"
      ]
    },
    {
      "cell_type": "markdown",
      "metadata": {
        "id": "upPXJyjJUUJJ"
      },
      "source": [
        "> ## Tabela Verdade - `or`\n",
        "---\n",
        "Condição 1 | Condição 2 | Operador `or`\n",
        "- | - | -\n",
        "F | F | F\n",
        "F | V | V\n",
        "V | F | V\n",
        "V | V | V"
      ]
    },
    {
      "cell_type": "markdown",
      "metadata": {
        "id": "2c3W340eUtZg"
      },
      "source": [
        "> ## Tabela Verdade - `not`\n",
        "---\n",
        "Condição | Operador `not`\n",
        "- | -\n",
        "F | V\n",
        "V | F\n"
      ]
    },
    {
      "cell_type": "markdown",
      "metadata": {
        "id": "HPCcTAYPVGRB"
      },
      "source": [
        "> ### **Exemplos:**\n",
        "\n",
        "- ### a >= 0 and a <= 10\n",
        "- ### a < 0 or a > 10\n",
        "- ### not (a >= 0 and a <= 10)\n",
        "- ### not (a < 0 and (x != 2 or d == -1) and nota != 10)"
      ]
    },
    {
      "cell_type": "markdown",
      "metadata": {
        "id": "k6wOcJ7wWrLc"
      },
      "source": [
        "> ## **Prioridade (ou precedência) de Operadores:**\n",
        "\n",
        "[https://www.inf.pucrs.br/flash/algfis/aulas/selecao/build/selecao/PrecedenceofOperators.html](https://www.inf.pucrs.br/flash/algfis/aulas/selecao/build/selecao/PrecedenceofOperators.html)\n"
      ]
    },
    {
      "cell_type": "markdown",
      "metadata": {
        "id": "w5TmTOMFZtOr"
      },
      "source": [
        "> ## **Exercícios:**\n",
        "---\n",
        "---"
      ]
    },
    {
      "cell_type": "markdown",
      "metadata": {
        "id": "hq3ZRq2YaGQo"
      },
      "source": [
        "## `1)` Crie um programa para ler `2 notas`, calcular e mostrar a média aritmética e informar se o aluno foi aprovado ou reprovado (média mínima = 6.0). Mostrar também uma mensagem de 'Parabéns!', caso ele tenha uma média igual a 10."
      ]
    },
    {
      "cell_type": "code",
      "metadata": {
        "colab": {
          "base_uri": "https://localhost:8080/"
        },
        "id": "RAgU7Ngxbhr1",
        "outputId": "a68ed596-6871-41b3-b822-62dad1f4bc7f"
      },
      "source": [
        "n1 = float(input('Nota 1 (0 a 10): '))\n",
        "n2 = float(input('\\nNota 2 (0 a 10): '))\n",
        "ma = (n1 + n2) / 2\n",
        "print(f'\\nMédia final = {ma:.1f}')\n",
        "\n",
        "if ma >= 6:\n",
        "    print('\\nAPROVADO!!!', end='') # end='' impede que o print vá para a próxima linha\n",
        "    if ma == 10:\n",
        "        print('  PARABÉNS!!!')\n",
        "else:\n",
        "    print('\\nREPROVADO!!!')"
      ],
      "execution_count": null,
      "outputs": [
        {
          "output_type": "stream",
          "text": [
            "Nota 1 (0 a 10): 10\n",
            "\n",
            "Nota 2 (0 a 10): 10\n",
            "\n",
            "Média final = 10.0\n",
            "\n",
            "APROVADO!!!  PARABÉNS!!!\n"
          ],
          "name": "stdout"
        }
      ]
    },
    {
      "cell_type": "markdown",
      "metadata": {
        "id": "W8A1MoY0NuNz"
      },
      "source": [
        "## `2)` Criar um programa para ler `3 valores` inteiros e, após as leituras, mostrar o menor e o maior valor entre os 3."
      ]
    },
    {
      "cell_type": "code",
      "metadata": {
        "colab": {
          "base_uri": "https://localhost:8080/"
        },
        "id": "gft0lfhGOv5u",
        "outputId": "fdb74b7a-060d-4bde-cd84-2328fc35b2bc"
      },
      "source": [
        "a = int(input('Valor de A: '))\n",
        "b = int(input('\\nValor de B: '))\n",
        "c = int(input('\\nValor de C: '))\n",
        "\n",
        "if a < b and a < c:\n",
        "    me = a\n",
        "elif b < c:\n",
        "    me = b\n",
        "else:\n",
        "    me = c\n",
        "\n",
        "if a > b and a > c:\n",
        "    ma = a\n",
        "elif b > c:\n",
        "    ma = b\n",
        "else:\n",
        "    ma = c\n",
        "\n",
        "print(f'\\nMenor = {me}\\n\\nMaior = {ma}')"
      ],
      "execution_count": null,
      "outputs": [
        {
          "output_type": "stream",
          "text": [
            "Valor de A: 5\n",
            "\n",
            "Valor de B: 3\n",
            "\n",
            "Valor de C: 8\n",
            "\n",
            "Menor = 3\n",
            "\n",
            "Maior = 8\n"
          ],
          "name": "stdout"
        }
      ]
    },
    {
      "cell_type": "markdown",
      "metadata": {
        "id": "96MckkghYqUv"
      },
      "source": [
        "## `3)` Criar um programa para ler `3 valores` inteiros e, após as leituras, mostrar o menor e o maior valor digitado pelo usuário, seguindo as regras:\n",
        "\n",
        "- ### Use apenas if (NÃO pode usar else, nem elif).\n",
        "- ### NÃO pode usar o operador lógico and."
      ]
    },
    {
      "cell_type": "code",
      "metadata": {
        "id": "V95uA7D_aptD",
        "colab": {
          "base_uri": "https://localhost:8080/"
        },
        "outputId": "afc91f4d-7c71-4482-e3ce-16e6991e3a97"
      },
      "source": [
        "a = int(input('Valor de A: '))\n",
        "b = int(input('\\nValor de B: '))\n",
        "c = int(input('\\nValor de C: '))\n",
        "\n",
        "me = a # primeiro é o menor\n",
        "if b < me: # verifica se o segundo é o menor\n",
        "    me = b\n",
        "if c < me: # verifica se o terceiro é o menor\n",
        "    me = c\n",
        "\n",
        "ma = a # primeiro é o maior\n",
        "if b > ma: # verifica se o segundo é o maior\n",
        "    ma = b\n",
        "if c > ma: # verifica se o terceiro é o maior\n",
        "    ma = c\n",
        "\n",
        "print(f'\\nMenor = {me}\\n\\nMaior = {ma}')"
      ],
      "execution_count": null,
      "outputs": [
        {
          "output_type": "stream",
          "text": [
            "Valor de A: 8\n",
            "\n",
            "Valor de B: 5\n",
            "\n",
            "Valor de C: 9\n",
            "\n",
            "Menor = 5\n",
            "\n",
            "Maior = 9\n"
          ],
          "name": "stdout"
        }
      ]
    },
    {
      "cell_type": "markdown",
      "metadata": {
        "id": "uuN-VaRrapWf"
      },
      "source": [
        "## `4)` Criar um programa para ler um número inteiro qualquer e, após a leitura, mostrar se o número é PAR ou ÍMPAR."
      ]
    },
    {
      "cell_type": "code",
      "metadata": {
        "id": "o3sob8TZbZTb",
        "colab": {
          "base_uri": "https://localhost:8080/"
        },
        "outputId": "9fdc7249-9df5-497c-de9b-98a7724188f4"
      },
      "source": [
        "num = int(input('Número inteiro: '))\n",
        "\n",
        "if num % 2 == 0: # verificar se num é múltiplo de 2 (resto da divisão por 2 igual a zero)\n",
        "    print(f'\\n{num} é PAR!!')\n",
        "else:\n",
        "    print(f'\\n{num} é ÍMPAR!!')"
      ],
      "execution_count": null,
      "outputs": [
        {
          "output_type": "stream",
          "text": [
            "Número inteiro: 46\n",
            "\n",
            "46 é PAR!!\n"
          ],
          "name": "stdout"
        }
      ]
    },
    {
      "cell_type": "markdown",
      "metadata": {
        "id": "beBs-VSYN5pB"
      },
      "source": [
        "> ### `Observação`: o operador `%` pode ser usado para verificar se um número é múltiplo de qualquer outro número."
      ]
    },
    {
      "cell_type": "code",
      "metadata": {
        "colab": {
          "base_uri": "https://localhost:8080/"
        },
        "id": "1O_cJLipOFWy",
        "outputId": "3876d254-a90e-4bdf-8be9-e0783de54c9d"
      },
      "source": [
        "x = int(input('X: '))\n",
        "y = int(input('\\nY: '))\n",
        "\n",
        "if x % y == 0:\n",
        "    print(f'\\n{x} é múltiplo de {y}')\n",
        "else:\n",
        "    print(f'\\n{x} NÃO é múltiplo de {y}')"
      ],
      "execution_count": null,
      "outputs": [
        {
          "output_type": "stream",
          "text": [
            "X: 3567\n",
            "\n",
            "Y: 29\n",
            "\n",
            "3567 é múltiplo de 29\n"
          ],
          "name": "stdout"
        }
      ]
    },
    {
      "cell_type": "markdown",
      "metadata": {
        "id": "Q7oTTm6EbaBl"
      },
      "source": [
        "## `5)` Criar um programa para ler `2 valores` reais (float) e, caso o primeiro valor seja maior que o segundo, trocar os valores das duas variáveis e mostrar seus resultados."
      ]
    },
    {
      "cell_type": "code",
      "metadata": {
        "id": "m5h5BBgfbjBN",
        "colab": {
          "base_uri": "https://localhost:8080/"
        },
        "outputId": "82039dc3-bbf1-45cb-fff5-ef1aabef48f7"
      },
      "source": [
        "p = float(input('Primeiro valor: '))\n",
        "s = float(input('\\nSegundo valor: '))\n",
        "\n",
        "if p > s:\n",
        "    aux = p\n",
        "    p = s\n",
        "    s = aux\n",
        "    print('\\nTrocou...')\n",
        "\n",
        "print(f'\\nPrimeiro = {p}\\n\\nSegundo = {s}')"
      ],
      "execution_count": null,
      "outputs": [
        {
          "output_type": "stream",
          "text": [
            "Primeiro valor: 40\n",
            "\n",
            "Segundo valor: 10\n",
            "\n",
            "Trocou...\n",
            "\n",
            "Primeiro: 10.0\n",
            "\n",
            "Segundo = 40.0\n"
          ],
          "name": "stdout"
        }
      ]
    },
    {
      "cell_type": "markdown",
      "metadata": {
        "id": "WCZzuPXTXYyN"
      },
      "source": [
        "> ### `Outra forma`: \"método Python\" de trocar."
      ]
    },
    {
      "cell_type": "code",
      "metadata": {
        "colab": {
          "base_uri": "https://localhost:8080/"
        },
        "id": "J3IdUQKKXhC3",
        "outputId": "2ecd87c6-fe73-4e5b-c13f-a554d64d0dd6"
      },
      "source": [
        "p = float(input('Primeiro valor: '))\n",
        "s = float(input('\\nSegundo valor: '))\n",
        "\n",
        "if p > s:\n",
        "    p, s = s, p\n",
        "    print('\\nTrocou...')\n",
        "\n",
        "print(f'\\nPrimeiro: {p}\\n\\nSegundo = {s}')"
      ],
      "execution_count": null,
      "outputs": [
        {
          "output_type": "stream",
          "text": [
            "Primeiro valor: 20\n",
            "\n",
            "Segundo valor: 10\n",
            "\n",
            "Trocou...\n",
            "\n",
            "Primeiro: 10.0\n",
            "\n",
            "Segundo = 20.0\n"
          ],
          "name": "stdout"
        }
      ]
    },
    {
      "cell_type": "markdown",
      "metadata": {
        "id": "MX89SPPmZ3qn"
      },
      "source": [
        "## `6)` Criar um programa para ler `5 valores` inteiros e, após as leituras, calcular e mostrar a qtde de valores negativos entre os 5 valores.\n",
        "+ ### `Dica`: use um contador."
      ]
    },
    {
      "cell_type": "code",
      "metadata": {
        "colab": {
          "base_uri": "https://localhost:8080/"
        },
        "id": "M2izKPVPc97J",
        "outputId": "f4bd7fa1-680f-4f61-d39e-5d0de885eb3b"
      },
      "source": [
        "v1 = int(input('Valor 1: '))\n",
        "v2 = int(input('Valor 2: '))\n",
        "v3 = int(input('Valor 3: '))\n",
        "v4 = int(input('Valor 4: '))\n",
        "v5 = int(input('Valor 5: '))\n",
        "\n",
        "qn = 0 # qtde de negativos (contador)\n",
        "\n",
        "if v1 < 0:\n",
        "    qn += 1\n",
        "\n",
        "if v2 < 0:\n",
        "    qn += 1\n",
        "\n",
        "if v3 < 0:\n",
        "    qn += 1\n",
        "\n",
        "if v4 < 0:\n",
        "    qn += 1\n",
        "    \n",
        "if v5 < 0:\n",
        "    qn += 1\n",
        "\n",
        "print(f'\\nQtde de negativos = {qn}')\n"
      ],
      "execution_count": null,
      "outputs": [
        {
          "output_type": "stream",
          "text": [
            "Valor 1: 6\n",
            "Valor 2: -3\n",
            "Valor 3: -9\n",
            "Valor 4: 3\n",
            "Valor 5: -34\n",
            "\n",
            "Qtde de negativos = 3\n"
          ],
          "name": "stdout"
        }
      ]
    },
    {
      "cell_type": "markdown",
      "metadata": {
        "id": "O7jxPzfPgQE3"
      },
      "source": [
        "## `7)` Criar um programa para ler a `distância` (em Km) e o `consumo` de combustível (em litros) de um carro ao percorrer um trajeto qualquer. Após as leituras, calcular e mostrar o consumo médio (em Km/litro) do carro e um aviso seguinto a tabela abaixo:\n",
        "Consumo Médio (Km/litro)|Aviso!\n",
        "-|-\n",
        "Abaixo de 8|Venda o carro!!\n",
        "Entre 8 e 14|Econômico!!\n",
        "Acima de 14|Super econômico!!\n",
        "\n",
        "<br>"
      ]
    },
    {
      "cell_type": "code",
      "metadata": {
        "id": "Lw8a8hp1gSVj",
        "colab": {
          "base_uri": "https://localhost:8080/"
        },
        "outputId": "13a30f9a-15fa-4533-de4a-32f113157488"
      },
      "source": [
        "di = float(input('Distância (Km): '))\n",
        "cc = float(input('\\nConsumo de combustível (litros): '))\n",
        "cm = di / cc\n",
        "print(f'\\nConsumo médio do veículo = {cm:.1f} Km/l')\n",
        "\n",
        "print('\\nAVISO: ', end='')\n",
        "if cm < 8:\n",
        "    print('Venda o carro!!')\n",
        "elif cm <= 14:\n",
        "    print('Econômico!!')\n",
        "else:\n",
        "    print('Super econômico!!')"
      ],
      "execution_count": null,
      "outputs": [
        {
          "output_type": "stream",
          "text": [
            "Distância (Km): 350\n",
            "\n",
            "Consumo de combustível (litros): 27.8\n",
            "\n",
            "Consumo médio do veículo = 12.6 Km/l\n",
            "\n",
            "AVISO: Econômico!!\n"
          ],
          "name": "stdout"
        }
      ]
    },
    {
      "cell_type": "markdown",
      "metadata": {
        "id": "GLzIwiITgUbB"
      },
      "source": [
        "## `8)` Criar um programa para ler a `idade` (em anos) de um nadador e, após a leitura, mostrar sua categoria seguindo a tabela abaixo:\n",
        "Categoria|Idade (em anos)\n",
        "-|-\n",
        "NA|Abaixo de 5\n",
        "Infantil A|5 a 7\n",
        "Infantil B|8 a 10\n",
        "Juvenil A|11 a 14\n",
        "Juvenil B|15 a 18\n",
        "Senior|Acima de 18\n",
        "\n",
        "<br>"
      ]
    },
    {
      "cell_type": "code",
      "metadata": {
        "id": "QHeHFnWIgcrE",
        "colab": {
          "base_uri": "https://localhost:8080/"
        },
        "outputId": "fc94bf79-9f71-461d-8bce-ac608988b8a0"
      },
      "source": [
        "id = int(input('Idade em anos: '))\n",
        "\n",
        "if id < 5:\n",
        "    cat = 'NA'\n",
        "elif id <= 7:\n",
        "    cat = 'Infantil A'\n",
        "elif id <= 10:\n",
        "    cat = 'Infantil B'\n",
        "elif id <= 14:\n",
        "    cat = 'Juvenil A'\n",
        "elif id <= 18:\n",
        "    cat = 'Juvenil B'\n",
        "else:\n",
        "    cat = 'Senior'\n",
        "\n",
        "print(f'\\nCategoria: {cat}')"
      ],
      "execution_count": null,
      "outputs": [
        {
          "output_type": "stream",
          "text": [
            "Idade em anos: 16\n",
            "\n",
            "Categoria: Juvenil B\n"
          ],
          "name": "stdout"
        }
      ]
    },
    {
      "cell_type": "markdown",
      "metadata": {
        "id": "cZHJxKEzhUN4"
      },
      "source": [
        "## `9)` Criar um programa para ler `3 valores` reais (float) e, após as leituras, verificar se os valores podem ou não formar um triângulo. Caso formem um triângulo, mostrar qual o seu tipo.\n",
        "- ### `Regra para formar um triângulo`: cada um dos lados deve ser menor que a soma dos outros dois lados.\n",
        "- ### Tipos: **equilátero** (3 lados iguais), **isósceles** (apenas 2 lados iguais) ou **escaleno** (3 lados diferentes)."
      ]
    },
    {
      "cell_type": "code",
      "metadata": {
        "id": "gjMRpLaOislj",
        "colab": {
          "base_uri": "https://localhost:8080/"
        },
        "outputId": "683edf8c-8ba2-44d8-c6e9-ba3f8f8c4663"
      },
      "source": [
        "a = float(input('Lado A: '))\n",
        "b = float(input('\\nLado B: '))\n",
        "c = float(input('\\nLado C: '))\n",
        "\n",
        "if a < b + c and b < a + c and c < a + b:\n",
        "    if a == b and b == c:\n",
        "        print('\\nTriângulo Equilátero!')\n",
        "    elif a == b or a == c or b == c:\n",
        "        print('\\nTriângulo Isósceles!')\n",
        "    else:\n",
        "        print('\\nTriângulo Escaleno!')\n",
        "else:\n",
        "    print('\\nNão formam um triângulo!')"
      ],
      "execution_count": null,
      "outputs": [
        {
          "output_type": "stream",
          "text": [
            "Lado A: 9\n",
            "\n",
            "Lado B: 9\n",
            "\n",
            "Lado C: 9\n",
            "\n",
            "Triângulo Equilátero!\n"
          ],
          "name": "stdout"
        }
      ]
    },
    {
      "cell_type": "markdown",
      "metadata": {
        "id": "QCW3WOkwNqwt"
      },
      "source": [
        "## `10)` Criar um programa para ler `3 valores` inteiros e, após as leituras, mostrá-los em ordem decrescente."
      ]
    },
    {
      "cell_type": "code",
      "metadata": {
        "id": "_6QtZNdEOR7L",
        "colab": {
          "base_uri": "https://localhost:8080/"
        },
        "outputId": "31aa14b4-d6a8-400b-82f4-17495c9c8304"
      },
      "source": [
        "a = int(input('A: '))\n",
        "b = int(input('\\nB: '))\n",
        "c = int(input('\\nC: '))\n",
        "\n",
        "print('\\nOrdem decrescente: ', end='')\n",
        "if a > b and b > c:\n",
        "    print(f'{a}, {b}, {c}')\n",
        "elif a > c and c > b:\n",
        "    print(f'{a}, {c}, {b}')\n",
        "elif b > a and a > c:\n",
        "    print(f'{b}, {a}, {c}')\n",
        "elif b > c and c > a:\n",
        "    print(f'{b}, {c}, {a}')\n",
        "elif c > a and a > b:\n",
        "    print(f'{c}, {a}, {b}')\n",
        "else:\n",
        "    print(f'{c}, {b}, {a}')"
      ],
      "execution_count": null,
      "outputs": [
        {
          "output_type": "stream",
          "text": [
            "A: 6\n",
            "\n",
            "B: 3\n",
            "\n",
            "C: 9\n",
            "\n",
            "Ordem decrescente: 9, 6, 3\n"
          ],
          "name": "stdout"
        }
      ]
    },
    {
      "cell_type": "markdown",
      "metadata": {
        "id": "dAX9a3JPOScf"
      },
      "source": [
        "> ### `Outra forma`: fazer o mesmo que foi pedido no exercício `10` usando apenas `3 if's` (sem else ou elif)."
      ]
    },
    {
      "cell_type": "code",
      "metadata": {
        "id": "wjqDfFqzOwcD",
        "colab": {
          "base_uri": "https://localhost:8080/"
        },
        "outputId": "d0142ad8-8f8c-4593-e2b6-fc51faf41c25"
      },
      "source": [
        "a = int(input('A: '))\n",
        "b = int(input('\\nB: '))\n",
        "c = int(input('\\nC: '))\n",
        "\n",
        "ca, cb, cc = a, b, c # copiar para não perder os valores originais\n",
        "\n",
        "if ca < cb:\n",
        "    ca, cb = cb, ca\n",
        "\n",
        "if cb < cc:\n",
        "    cb, cc = cc, cb\n",
        "\n",
        "if ca < cb:\n",
        "    ca, cb = cb, ca\n",
        "\n",
        "print(f'\\nOrdem decrescente: {ca}, {cb}, {cc}')"
      ],
      "execution_count": null,
      "outputs": [
        {
          "output_type": "stream",
          "text": [
            "A: 6\n",
            "\n",
            "B: 3\n",
            "\n",
            "C: 9\n",
            "\n",
            "Ordem decrescente: 9, 6, 3\n"
          ],
          "name": "stdout"
        }
      ]
    },
    {
      "cell_type": "markdown",
      "metadata": {
        "id": "ujqaDA_hlvw6"
      },
      "source": [
        "## `11)` Criar um programa para ler uma `data` (dia, mês e ano) e, após a leitura, mostrar uma mensagem informando se a data é válida ou inválida."
      ]
    },
    {
      "cell_type": "code",
      "metadata": {
        "id": "UMsJyWf5miiA",
        "colab": {
          "base_uri": "https://localhost:8080/"
        },
        "outputId": "cfd7176a-a5d6-4946-f265-fb1642f14884"
      },
      "source": [
        "d, m, a = input('Data (dd/mm/aaaa): ').split('/')\n",
        "d, m, a = int(d), int(m), int(a)\n",
        "\n",
        "val = True # val é a variável que indica se a data é válida ou não (flag)\n",
        "\n",
        "if a < 1 or m < 1 or m > 12 or d < 1 or d > 31:\n",
        "    val = False\n",
        "elif (m == 4 or m == 6 or m == 9 or m == 11) and d > 30:\n",
        "    val = False\n",
        "elif m == 2:\n",
        "    if a % 4 == 0: # ano bissexto (múltiplo de 4)\n",
        "        if d > 29:\n",
        "            val = False\n",
        "    elif d > 28: # ano não bissexto\n",
        "        val = False\n",
        "\n",
        "if val:\n",
        "    print('\\nVÁLIDA!!!')\n",
        "else:\n",
        "    print('\\nINVÁLIDA!!!')"
      ],
      "execution_count": null,
      "outputs": [
        {
          "output_type": "stream",
          "text": [
            "Data (dd/mm/aaaa): 30/02/2020\n",
            "\n",
            "INVÁLIDA!!!\n"
          ],
          "name": "stdout"
        }
      ]
    },
    {
      "cell_type": "markdown",
      "metadata": {
        "id": "_kvWu9Dify20"
      },
      "source": [
        "## `12)` Criar um programa para ler a `idade` e o `tempo` de serviço de um trabalhador (em anos) e, após as leituras, mostrar uma mensagem informando se ele pode ou não se aposentar. As condições para aposentadoria são:\n",
        "+ ### Ter pelo menos 65 anos de idade.\n",
        "+ ### Ou ter trabalhado pelo menos 30 anos.\n",
        "+ ### Ou ter pelo menos 60 anos de idade e ter trabalhado pelo menos 25 anos."
      ]
    },
    {
      "cell_type": "code",
      "metadata": {
        "colab": {
          "base_uri": "https://localhost:8080/"
        },
        "id": "GFEeA1R0hLBn",
        "outputId": "ba54d3ce-34bf-49ba-c8d1-3d4c77bf7edd"
      },
      "source": [
        "id = int(input('Idade (em anos): '))\n",
        "tp = int(input('\\nTempo (em anos): '))\n",
        "\n",
        "if id >= 65 or tp >= 30 or (id >= 60 and tp >= 25):\n",
        "    print('\\nAposenta')\n",
        "else:\n",
        "    print('\\nNÃO aposenta')"
      ],
      "execution_count": null,
      "outputs": [
        {
          "output_type": "stream",
          "text": [
            "Idade (em anos): 64\n",
            "\n",
            "Tempo (em anos): 25\n",
            "\n",
            "Aposenta\n"
          ],
          "name": "stdout"
        }
      ]
    },
    {
      "cell_type": "markdown",
      "metadata": {
        "id": "EbSgSEG2tXrP"
      },
      "source": [
        "## `13)` Criar um programa para ler a `altura` (m) e o `peso` (Kg) de uma pessoa e, após as leituras, mostrar a classificação dessa pessoa através da tabela abaixo:\n",
        "Altura||Peso||\n",
        ":-:|:-:|:-:|:-:\n",
        "|Até 60|Entre 60 e 90 (inclusive)|Acima de 90\n",
        "Menor que 1,2|A|D|G\n",
        "De 1,2 a 1,7|B|E|H\n",
        "Maior que 1,7|C|F|I\n",
        "\n",
        "<br>"
      ]
    },
    {
      "cell_type": "code",
      "metadata": {
        "id": "c-XaYEJDtcvW",
        "colab": {
          "base_uri": "https://localhost:8080/"
        },
        "outputId": "aab499fa-9679-4f36-f200-0c4940e16552"
      },
      "source": [
        "alt = float(input('Altura (m): '))\n",
        "peso = float(input('\\nPeso (Kg): '))\n",
        "\n",
        "if alt < 1.2:\n",
        "    if peso <= 60:\n",
        "        cla = 'A'\n",
        "    elif peso <= 90:\n",
        "        cla = 'D'\n",
        "    else:\n",
        "        cla = 'G'\n",
        "elif alt <= 1.7:\n",
        "    if peso <= 60:\n",
        "        cla = 'B'\n",
        "    elif peso <= 90:\n",
        "        cla = 'E'\n",
        "    else:\n",
        "        cla = 'H'\n",
        "else:\n",
        "    if peso <= 60:\n",
        "        cla = 'C'\n",
        "    elif peso <= 90:\n",
        "        cla = 'F'\n",
        "    else:\n",
        "        cla = 'I'\n",
        "\n",
        "print(f'\\nClassificação: {cla}')"
      ],
      "execution_count": null,
      "outputs": [
        {
          "output_type": "stream",
          "text": [
            "Altura (m): 1.78\n",
            "\n",
            "Peso (Kg): 80\n",
            "\n",
            "Classificação: F\n"
          ],
          "name": "stdout"
        }
      ]
    },
    {
      "cell_type": "markdown",
      "metadata": {
        "id": "7rOmG_Y0tcU3"
      },
      "source": [
        "## `14)` Criar um programa para ler `2 valores` reais (float) e, após as leituras, mostrar o menu de opções mostrado abaixo e ler a `escolha` do usuário. Após a escolha, calcular e mostrar o resultado da operação selecionada. Caso a opção escolhida seja inválida, mostrar uma mensagem ao usuário.\n",
        "### Opções:\n",
        "### 1. Soma dos dois valores.\n",
        "### 2. Diferença dos dois valores (maior - menor).\n",
        "### 3. Multiplicação dos dois valores.\n",
        "### 4. Divisão dos dois valores (1º pelo 2º).\n",
        "### Escolha:\n"
      ]
    },
    {
      "cell_type": "code",
      "metadata": {
        "id": "uAVgmha4tfBY",
        "colab": {
          "base_uri": "https://localhost:8080/"
        },
        "outputId": "3c5046fc-37c9-44b7-a34a-9309e06b5f6e"
      },
      "source": [
        "from IPython.display import clear_output\n",
        "\n",
        "v1 = float(input('Valor 1: '))\n",
        "v2 = float(input('\\nValor 2: '))\n",
        "clear_output(True) # limpa a saída de dados\n",
        "print('Opções:')\n",
        "print('1 - Soma dos dois valores.')\n",
        "print('2 - Diferença dos dois valores (maior - menor).')\n",
        "print('3 - Multiplicação dos dois valores.')\n",
        "print('4 - Divisão dos dois valores (1º pelo 2º).')\n",
        "op = int(input('Escolha: '))\n",
        "\n",
        "if op == 1:\n",
        "    soma = v1 + v2\n",
        "    print(f'\\nSoma = {v1} + {v2} = {soma}')\n",
        "elif op == 2:\n",
        "    if v1 < v2:\n",
        "        v1, v2 = v2, v1 # troca o valor de v1 com v2, se v1 for menor que v2\n",
        "    dif = v1 - v2\n",
        "    print(f'\\nDiferença = {v1} - {v2} = {dif}')\n",
        "elif op == 3:\n",
        "    mult = v1 * v2\n",
        "    print(f'\\nMultiplicação = {v1} * {v2} = {mult}')\n",
        "elif op == 4:\n",
        "    div = v1 / v2\n",
        "    print(f'\\nDivisão = {v1} / {v2} = {div}')\n",
        "else:\n",
        "    print(f'\\nOpção inválida!!')"
      ],
      "execution_count": null,
      "outputs": [
        {
          "output_type": "stream",
          "text": [
            "Opções:\n",
            "1 - Soma dos dois valores.\n",
            "2 - Diferença dos dois valores (maior - menor).\n",
            "3 - Multiplicação dos dois valores.\n",
            "4 - Divisão dos dois valores (1º pelo 2º).\n",
            "Escolha: 2\n",
            "\n",
            "Diferença = 20.0 - 5.0 = 15.0\n"
          ],
          "name": "stdout"
        }
      ]
    },
    {
      "cell_type": "markdown",
      "metadata": {
        "id": "IbSiXvcqX8Mx"
      },
      "source": [
        "---\n",
        "---\n",
        "## Comando `switch` (exemplo em linguagem C, pois Python não possui o comando).\n",
        "---\n",
        "---"
      ]
    },
    {
      "cell_type": "code",
      "metadata": {
        "id": "kZUoYOaSXgty"
      },
      "source": [
        "switch (op)\n",
        "{\n",
        "    case 1:\n",
        "        printf('\\nOpcao 1');\n",
        "        break;\n",
        "    case 2:\n",
        "        printf('\\nOpcao 2');\n",
        "        break;\n",
        "    default:\n",
        "        printf('\\nOpcao invalida!!');\n",
        "}"
      ],
      "execution_count": null,
      "outputs": []
    }
  ]
}