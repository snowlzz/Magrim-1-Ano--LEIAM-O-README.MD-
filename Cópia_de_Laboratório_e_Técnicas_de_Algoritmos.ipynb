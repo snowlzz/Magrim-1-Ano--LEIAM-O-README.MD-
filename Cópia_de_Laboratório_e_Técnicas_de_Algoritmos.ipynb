{
  "nbformat": 4,
  "nbformat_minor": 0,
  "metadata": {
    "colab": {
      "name": "Cópia de Laboratório e Técnicas de Algoritmos.ipynb",
      "provenance": [],
      "collapsed_sections": [],
      "include_colab_link": true
    },
    "kernelspec": {
      "name": "python3",
      "display_name": "Python 3"
    },
    "language_info": {
      "name": "python"
    }
  },
  "cells": [
    {
      "cell_type": "markdown",
      "metadata": {
        "id": "view-in-github",
        "colab_type": "text"
      },
      "source": [
        "<a href=\"https://colab.research.google.com/github/snowlzz/ELP-Movers/blob/main/C%C3%B3pia_de_Laborat%C3%B3rio_e_T%C3%A9cnicas_de_Algoritmos.ipynb\" target=\"_parent\"><img src=\"https://colab.research.google.com/assets/colab-badge.svg\" alt=\"Open In Colab\"/></a>"
      ]
    },
    {
      "cell_type": "markdown",
      "metadata": {
        "id": "_BGshMO2gS7c"
      },
      "source": [
        "> # **Laboratório e Técnicas de Desenvolvimento de Algoritmos**\n",
        "> ## **CC - 2º semestre**\n",
        "---\n",
        "---"
      ]
    },
    {
      "cell_type": "markdown",
      "metadata": {
        "id": "_T3eTBmghImC"
      },
      "source": [
        "> # **Revisão:**\n",
        "---\n",
        "+ ## Estrutura lógica sequencial (bloco de comandos).\n",
        "    + ### Variáveis e Comandos de Entrada e Saída de dados.\n",
        "    + ### Comando de atribuição, cálculos e funções matemáticas.\n",
        "+ ## Estrutura lógica condicional (simples e composta).\n",
        "    + ### Operadores relacionais e operadores lógicos."
      ]
    },
    {
      "cell_type": "markdown",
      "metadata": {
        "id": "ylzwPZhKiizU"
      },
      "source": [
        "> ## **Estrutura lógica sequencial (bloco de comandos)**:\n",
        "---\n",
        "+ ### Variáveis:\n",
        "    + #### Regra para nomes de variáveis: `letra ou _, seguido ou não de letras, dígitos ou _`."
      ]
    },
    {
      "cell_type": "code",
      "metadata": {
        "colab": {
          "base_uri": "https://localhost:8080/"
        },
        "id": "J-DHldHOisX3",
        "outputId": "649ce0fd-53a0-49fb-b05c-49dc60f9ce6a"
      },
      "source": [
        "a = 10\n",
        "b = 20\n",
        "soma = a + b\n",
        "print('Soma =', soma)"
      ],
      "execution_count": null,
      "outputs": [
        {
          "output_type": "stream",
          "text": [
            "Soma = 30\n"
          ],
          "name": "stdout"
        }
      ]
    },
    {
      "cell_type": "markdown",
      "metadata": {
        "id": "8zje4UbeWowz"
      },
      "source": [
        "> ### **Operadores matemáticos:**\n",
        "---\n",
        "\n",
        "+ ### Adição: `+`\n",
        "+ ### Subtração: `-`\n",
        "+ ### Multiplicação: `*`\n",
        "+ ### Divisão: `/`\n",
        "+ ### Resto da divisão: `%`\n",
        "+ ### Quociente da divisão: `//`\n",
        "+ ### Potência: `**`"
      ]
    },
    {
      "cell_type": "code",
      "metadata": {
        "colab": {
          "base_uri": "https://localhost:8080/"
        },
        "id": "s-iaYWwEXVOO",
        "outputId": "e3dde2fa-0df5-4118-eb3f-21276dc307df"
      },
      "source": [
        "print(5 + 7)\n",
        "print(5 - 9)\n",
        "print(3 * 6)\n",
        "print(5 / 2)\n",
        "print(11 % 3)\n",
        "print(11 // 3)\n",
        "print(2 ** 10)"
      ],
      "execution_count": null,
      "outputs": [
        {
          "output_type": "stream",
          "text": [
            "12\n",
            "-4\n",
            "18\n",
            "2.5\n",
            "2\n",
            "3\n",
            "1024\n"
          ],
          "name": "stdout"
        }
      ]
    },
    {
      "cell_type": "markdown",
      "metadata": {
        "id": "t9ggSmiXZCNj"
      },
      "source": [
        "> ### `Exemplo`: calcular e mostrar a área de um retângulo, onde o usuário fornece os lados.\n",
        "---"
      ]
    },
    {
      "cell_type": "code",
      "metadata": {
        "colab": {
          "base_uri": "https://localhost:8080/"
        },
        "id": "tXJC_YCbZZb1",
        "outputId": "038ef049-b3b2-4e61-9d41-5f06d3e61b64"
      },
      "source": [
        "# área de um retângulo\n",
        "\n",
        "lado1 = float(input('Lado 1 (m): ')) # entrada de dados\n",
        "lado2 = float(input('\\nLado 2 (m): ')) # entrada de dados\n",
        "area = lado1 * lado2\n",
        "print(f'\\nÁrea do retângulo = {lado1:.2f} x {lado2:.2f} = {area:.2f} m²')"
      ],
      "execution_count": null,
      "outputs": [
        {
          "output_type": "stream",
          "text": [
            "Lado 1 (m): 2.567\n",
            "\n",
            "Lado 2 (m): 3.43245\n",
            "\n",
            "Área do retângulo = 2.57 x 3.43 = 8.81 m²\n"
          ],
          "name": "stdout"
        }
      ]
    },
    {
      "cell_type": "markdown",
      "metadata": {
        "id": "GKgUoKGZgv6Z"
      },
      "source": [
        "> ### **Funções matemáticas:**\n",
        "---\n",
        "+ ### Módulo (biblioteca) `math` (import)."
      ]
    },
    {
      "cell_type": "markdown",
      "metadata": {
        "id": "LFTGWHiOx2l8"
      },
      "source": [
        "> ### `Exemplos`:"
      ]
    },
    {
      "cell_type": "code",
      "metadata": {
        "colab": {
          "base_uri": "https://localhost:8080/"
        },
        "id": "TP8zfuush-EF",
        "outputId": "35a9e173-ac6f-40b4-fc0d-ca7aec185428"
      },
      "source": [
        "# Exemplo de cálculo da hipotenusa de um triângulo retângulo\n",
        "\n",
        "from math import sqrt # use 'import math' para importar o módulo inteiro\n",
        "\n",
        "ca = float(input('Cateto A: '))\n",
        "cb = float(input('\\nCateto B: '))\n",
        "hi = sqrt(ca ** 2 + cb ** 2)  # Ou ainda: (ca ** 2 + cb ** 2) ** 0.5\n",
        "print(f'\\nHipotenusa = {hi:.3f}')"
      ],
      "execution_count": null,
      "outputs": [
        {
          "output_type": "stream",
          "text": [
            "Cateto A: 4\n",
            "\n",
            "Cateto B: 3\n",
            "\n",
            "Hipotenusa = 5.000\n"
          ],
          "name": "stdout"
        }
      ]
    },
    {
      "cell_type": "code",
      "metadata": {
        "colab": {
          "base_uri": "https://localhost:8080/"
        },
        "id": "PnP4Gc9wl8KZ",
        "outputId": "1d518a87-f9fb-46ec-9e3a-19722fd096d5"
      },
      "source": [
        "# Exemplo de cálculo do seno de um ângulo em graus\n",
        "\n",
        "from math import sin, radians\n",
        "\n",
        "ang = float(input('Ângulo (graus): '))\n",
        "seno = sin(radians(ang))  # ou converter usando a fórmula: ang * 3.14 / 180\n",
        "print(f'\\nSeno de {ang:.1f}° = {seno:.1f}')"
      ],
      "execution_count": null,
      "outputs": [
        {
          "output_type": "stream",
          "text": [
            "Ângulo (graus): 30\n",
            "\n",
            "Seno de 30.0° = 0.5\n"
          ],
          "name": "stdout"
        }
      ]
    },
    {
      "cell_type": "markdown",
      "metadata": {
        "id": "dFu6GMsYpb_n"
      },
      "source": [
        "> ## **Estrutura lógica condicional (simples e composta):**\n",
        "---\n",
        "### Algoritmo: comando simples e composto.\n",
        "    se ? então\n",
        "    início\n",
        "        ...comandos...   (verdadeiro)\n",
        "    fim\n",
        "\n",
        "<br>\n",
        "\n",
        "    se ? então\n",
        "    início\n",
        "        ...comandos...   (verdadeiro)\n",
        "    fim\n",
        "    senão\n",
        "    início\n",
        "        ...comandos...   (falso)\n",
        "    fim"
      ]
    },
    {
      "cell_type": "markdown",
      "metadata": {
        "id": "mJ5B2BnLqCqN"
      },
      "source": [
        "> ### **Condições:**\n",
        "---\n",
        "+ ### Resultam sempre em Verdadeiro ou Falso (`True` ou `False`).\n",
        "+ ### Operadores relacionais:\n",
        " + ## `<` `<=` `>` `>=` `==` `!=`\n",
        "+ ### Operadores lógicos:\n",
        " + ## `and` (e) `or` (ou) `not` (negação)"
      ]
    },
    {
      "cell_type": "markdown",
      "metadata": {
        "id": "VmMFYk3B-rOO"
      },
      "source": [
        "> ### **Prioridade (ou precedência) de Operadores:**\n",
        "\n",
        "[https://www.inf.pucrs.br/flash/algfis/aulas/selecao/build/selecao/PrecedenceofOperators.html](https://www.inf.pucrs.br/flash/algfis/aulas/selecao/build/selecao/PrecedenceofOperators.html)"
      ]
    },
    {
      "cell_type": "markdown",
      "metadata": {
        "id": "90ZWcTa5SIDy"
      },
      "source": [
        "> ## **Exercícios:**\n",
        "---\n",
        "---"
      ]
    },
    {
      "cell_type": "markdown",
      "metadata": {
        "id": "wJ3zIZa4SaeV"
      },
      "source": [
        "> ### `1.` Programa para mostrar o maior valor entre 3 números inteiros:"
      ]
    },
    {
      "cell_type": "code",
      "metadata": {
        "colab": {
          "base_uri": "https://localhost:8080/"
        },
        "id": "LMWChkbuSHMn",
        "outputId": "848414e7-6417-412b-fe76-48ef11a75398"
      },
      "source": [
        "a = int(input('Valor de A: '))\n",
        "b = int(input('\\nValor de B: '))\n",
        "c = int(input('\\nValor de C: '))\n",
        "\n",
        "if a > b and a > c:\n",
        "    ma = a\n",
        "elif b > c:\n",
        "    ma = b\n",
        "else:\n",
        "    ma = c\n",
        "\n",
        "print(f'\\nMaior = {ma}')"
      ],
      "execution_count": null,
      "outputs": [
        {
          "output_type": "stream",
          "text": [
            "Valor de A: 3\n",
            "\n",
            "Valor de B: 3\n",
            "\n",
            "Valor de C: 2\n",
            "\n",
            "Maior = 3\n"
          ],
          "name": "stdout"
        }
      ]
    },
    {
      "cell_type": "markdown",
      "metadata": {
        "id": "emdy9NeWaWEb"
      },
      "source": [
        "> ### `Outra forma`: algoritmo diferente."
      ]
    },
    {
      "cell_type": "code",
      "metadata": {
        "colab": {
          "base_uri": "https://localhost:8080/"
        },
        "id": "vAEikZFAaiTS",
        "outputId": "5e0cbebe-79c6-4f6d-b35d-263c65cd3936"
      },
      "source": [
        "a = int(input('Valor de A: '))\n",
        "b = int(input('\\nValor de B: '))\n",
        "c = int(input('\\nValor de C: '))\n",
        "\n",
        "ma = a\n",
        "if b > ma:\n",
        "    ma = b\n",
        "if c > ma:\n",
        "    ma = c\n",
        "\n",
        "print(f'\\nMaior = {ma}')"
      ],
      "execution_count": null,
      "outputs": [
        {
          "output_type": "stream",
          "text": [
            "Valor de A: 7\n",
            "\n",
            "Valor de B: 3\n",
            "\n",
            "Valor de C: 9\n",
            "\n",
            "Maior = 9\n"
          ],
          "name": "stdout"
        }
      ]
    },
    {
      "cell_type": "markdown",
      "metadata": {
        "id": "CZgPDw6rcqHy"
      },
      "source": [
        "> ### `2.` Cálculo da idade de uma pessoa em anos.\n",
        "\n",
        "+ #### Entrada: data de nascimento (dd/mm/aaaa)."
      ]
    },
    {
      "cell_type": "code",
      "metadata": {
        "id": "8XCET3rsdL6F",
        "colab": {
          "base_uri": "https://localhost:8080/"
        },
        "outputId": "2f20360a-82da-4d76-fd26-23aafa1585d3"
      },
      "source": [
        "# Testes:\n",
        "\n",
        "# 01/01/2000  ->  21 anos\n",
        "# 30/01/2000  ->  21 anos\n",
        "# 01/08/2000  ->  21 anos\n",
        "# 30/08/2000  ->  20 anos\n",
        "# 01/12/2000  ->  20 anos\n",
        "# 30/12/2000  ->  20 anos\n",
        "\n",
        "from datetime import datetime\n",
        "from os import environ\n",
        "from time import tzset\n",
        "\n",
        "environ['TZ'] = 'America/Sao_Paulo'\n",
        "tzset()\n",
        "data_atual = datetime.now()\n",
        "da, ma, aa = data_atual.day, data_atual.month, data_atual.year\n",
        "\n",
        "dn, mn, an = input('Data de nascimento (dd/mm/aaaa): ').split('/')\n",
        "dn, mn, an = int(dn), int(mn), int(an)\n",
        "\n",
        "id = aa - an\n",
        "if mn > ma or (mn == ma and dn > da):\n",
        "    id -= 1  # id = id - 1\n",
        "\n",
        "print(f'\\nIdade = {id} anos')"
      ],
      "execution_count": null,
      "outputs": [
        {
          "output_type": "stream",
          "text": [
            "Data de nascimento (dd/mm/aaaa): 01/12/2000\n",
            "\n",
            "Idade = 20 anos\n"
          ],
          "name": "stdout"
        }
      ]
    },
    {
      "cell_type": "markdown",
      "metadata": {
        "id": "_ZBGu0JTihXA"
      },
      "source": [
        "> ### `3.` Criar um programa para ler 5 números reais (float) e, após a leitura, calcular e mostrar a qtde de valores negativos entre os 5 números.\n",
        "\n",
        "+ ### Usar um `contador`."
      ]
    },
    {
      "cell_type": "code",
      "metadata": {
        "colab": {
          "base_uri": "https://localhost:8080/"
        },
        "id": "v7heKMzkjSZ2",
        "outputId": "eb50ae4c-8cff-46e9-b2b2-eaceb49e8b9c"
      },
      "source": [
        "n1 = float(input('Número 1: '))\n",
        "n2 = float(input('Número 2: '))\n",
        "n3 = float(input('Número 3: '))\n",
        "n4 = float(input('Número 4: '))\n",
        "n5 = float(input('Número 5: '))\n",
        "\n",
        "qn = 0  # qtde de negativos (contador)\n",
        "if n1 < 0:\n",
        "    qn += 1  # qn = qn + 1 (incrementar)\n",
        "if n2 < 0:\n",
        "    qn += 1\n",
        "if n3 < 0:\n",
        "    qn += 1\n",
        "if n4 < 0:\n",
        "    qn += 1\n",
        "if n5 < 0:\n",
        "    qn += 1\n",
        "\n",
        "print(f'\\nQtde de negativos = {qn}')"
      ],
      "execution_count": null,
      "outputs": [
        {
          "output_type": "stream",
          "text": [
            "Número 1: 1\n",
            "Número 2: 2\n",
            "Número 3: -7\n",
            "Número 4: -5\n",
            "Número 5: 6\n",
            "\n",
            "Qtde de negativos = 2\n"
          ],
          "name": "stdout"
        }
      ]
    },
    {
      "cell_type": "markdown",
      "metadata": {
        "id": "8K4VD7qeotUa"
      },
      "source": [
        "> ### `4.` criar um programa para ler uma data no formato dd/mm/aaaa e, após a leitura, mostrar se a data é válida ou inválida."
      ]
    },
    {
      "cell_type": "code",
      "metadata": {
        "id": "ANaSqvBupgcC",
        "colab": {
          "base_uri": "https://localhost:8080/"
        },
        "outputId": "b0341696-283a-47cd-c80b-47df8faed8c9"
      },
      "source": [
        "d, m, a = input('Data (dd/mm/aaaa): ').split('/')\n",
        "d, m, a = int(d), int(m), int(a)\n",
        "\n",
        "val = True  # variável (flag) que indica se a data é válida ou não\n",
        "\n",
        "if a <= 0 or m < 1 or m > 12 or d < 1 or d > 31:\n",
        "    val = False  # False indica que é inválida\n",
        "elif m in {4, 6, 9, 11} and d > 30:\n",
        "    val = False\n",
        "elif m == 2:\n",
        "    if a % 4 == 0:\n",
        "        if d > 29:\n",
        "            val = False\n",
        "    elif d > 28:\n",
        "        val = False\n",
        "\n",
        "if val:\n",
        "    print('\\nData Válida!!!')\n",
        "else:\n",
        "    print('\\nData Inválida!!!')"
      ],
      "execution_count": null,
      "outputs": [
        {
          "output_type": "stream",
          "text": [
            "Data (dd/mm/aaaa): 30/02/2000\n",
            "\n",
            "Data Inválida!!!\n"
          ],
          "name": "stdout"
        }
      ]
    },
    {
      "cell_type": "markdown",
      "metadata": {
        "id": "axzJjzgAncXZ"
      },
      "source": [
        "> # **Estrutura Lógica de Repetição:**\n",
        "---\n",
        "---\n",
        "+ ## Comandos de repetição:\n",
        "    + ## `while`\n",
        "    + ## `for`"
      ]
    },
    {
      "cell_type": "markdown",
      "metadata": {
        "id": "viCLnEXnSjXy"
      },
      "source": [
        "> ### Algoritmo (pseudocódigo) dos comandos enquanto (`while`) e para (`for`):\n",
        "\n",
        "    enquanto ? faça\n",
        "    início\n",
        "        ...comandos...\n",
        "    fim\n",
        "<br>\n",
        "\n",
        "    para n de 1 até 10 faça\n",
        "    início\n",
        "        ...comandos...\n",
        "    fim"
      ]
    },
    {
      "cell_type": "markdown",
      "metadata": {
        "id": "9YdhTE2hUREo"
      },
      "source": [
        "> ## **Exemplos:**\n",
        "---"
      ]
    },
    {
      "cell_type": "markdown",
      "metadata": {
        "id": "CuPCW38bUcAm"
      },
      "source": [
        "> ### `1.` Criando uma repetição infinita."
      ]
    },
    {
      "cell_type": "code",
      "metadata": {
        "id": "Wsdfzg1fUs6Q"
      },
      "source": [
        "while True:\n",
        "    print('$', end='')"
      ],
      "execution_count": null,
      "outputs": []
    },
    {
      "cell_type": "markdown",
      "metadata": {
        "id": "cGb5ZFQWV8xX"
      },
      "source": [
        "> ### `2.` Criando uma repetição finita (contador)."
      ]
    },
    {
      "cell_type": "code",
      "metadata": {
        "colab": {
          "base_uri": "https://localhost:8080/"
        },
        "id": "b-OOE3_0WJiA",
        "outputId": "a58f6fc4-ff88-474e-c818-701568e05ce7"
      },
      "source": [
        "cont = 0\n",
        "while cont < 20:\n",
        "    print(cont, end=' ')\n",
        "    cont += 1  # cont = cont + 1"
      ],
      "execution_count": null,
      "outputs": [
        {
          "output_type": "stream",
          "name": "stdout",
          "text": [
            "0 1 2 3 4 5 6 7 8 9 10 11 12 13 14 15 16 17 18 19 "
          ]
        }
      ]
    },
    {
      "cell_type": "markdown",
      "metadata": {
        "id": "C605KJZfYMhr"
      },
      "source": [
        "> ### `Outra forma`: usando o comando `break`."
      ]
    },
    {
      "cell_type": "code",
      "metadata": {
        "colab": {
          "base_uri": "https://localhost:8080/"
        },
        "id": "srKApXLoYTYs",
        "outputId": "3ac914f8-9000-4624-a726-d9867d6c47ff"
      },
      "source": [
        "cont = 0\n",
        "while True:\n",
        "    print(cont, end=' ')\n",
        "    cont += 1\n",
        "    if cont > 19:\n",
        "        break  # termina a execução do while e desvia para o comando após o while"
      ],
      "execution_count": null,
      "outputs": [
        {
          "output_type": "stream",
          "name": "stdout",
          "text": [
            "0 1 2 3 4 5 6 7 8 9 10 11 12 13 14 15 16 17 18 19 "
          ]
        }
      ]
    },
    {
      "cell_type": "markdown",
      "metadata": {
        "id": "dFuCvN4kZhbI"
      },
      "source": [
        "> ### `3.` Usando o `for` para criar uma repetição finita (mesmo resultado do anterior)."
      ]
    },
    {
      "cell_type": "code",
      "metadata": {
        "colab": {
          "base_uri": "https://localhost:8080/"
        },
        "id": "R0rGJxLcZyJA",
        "outputId": "8af1234e-9e52-4e7f-91b8-ec1d46685379"
      },
      "source": [
        "for cont in range(20):\n",
        "    print(cont, end=' ')"
      ],
      "execution_count": null,
      "outputs": [
        {
          "output_type": "stream",
          "name": "stdout",
          "text": [
            "0 1 2 3 4 5 6 7 8 9 10 11 12 13 14 15 16 17 18 19 "
          ]
        }
      ]
    },
    {
      "cell_type": "markdown",
      "metadata": {
        "id": "1TOlZySEbbER"
      },
      "source": [
        "> ## **Exercícios:**\n",
        "---\n",
        "---"
      ]
    },
    {
      "cell_type": "markdown",
      "metadata": {
        "id": "5IGn02MBb6hx"
      },
      "source": [
        "> ### `1.` Criar um programa para somar os números inteiros entre **i** e **f**, com **i** e **f** fornecidos pelo usuário.\n",
        "+ ### Contador e Acumulador"
      ]
    },
    {
      "cell_type": "code",
      "metadata": {
        "colab": {
          "base_uri": "https://localhost:8080/"
        },
        "id": "wSJA_HZQcHHs",
        "outputId": "4e8ebdf9-347c-4062-9834-d3b9215faaff"
      },
      "source": [
        "# usando o while\n",
        "\n",
        "i = int(input('Início: '))\n",
        "f = int(input('\\nFim: '))\n",
        "\n",
        "c = i  # c é o contador e i é o início do intervalo\n",
        "s = 0  # s é o acumulador (0 é o elemento neutro da soma)\n",
        "while c <= f:  # f é o fim do intervalo\n",
        "    s += c  # s = s + c (s é o acumulador)\n",
        "    c += 1  # incrementa o contador\n",
        "\n",
        "print(f'\\nA soma entre {i} e {f} é igual a {s}')"
      ],
      "execution_count": null,
      "outputs": [
        {
          "output_type": "stream",
          "name": "stdout",
          "text": [
            "Início: 1\n",
            "\n",
            "Fim: 10\n",
            "\n",
            "A soma entre 1 e 10 é igual a 55\n"
          ]
        }
      ]
    },
    {
      "cell_type": "markdown",
      "metadata": {
        "id": "_ocmt1iynlBV"
      },
      "source": [
        "> ### `Outra forma`: usando o for."
      ]
    },
    {
      "cell_type": "code",
      "metadata": {
        "id": "zWCp88fynryF",
        "colab": {
          "base_uri": "https://localhost:8080/"
        },
        "outputId": "a0026ffa-796d-443a-cb16-750a40d1c8db"
      },
      "source": [
        "# usando o for\n",
        "\n",
        "i = int(input('Início: '))\n",
        "f = int(input('\\nFim: '))\n",
        "\n",
        "s = 0  # soma (acumulador)\n",
        "for c in range(i, f + 1):\n",
        "    s += c  # s = s + c\n",
        "\n",
        "print(f'\\nA soma entre {i} e {f} é igual a {s}')"
      ],
      "execution_count": null,
      "outputs": [
        {
          "output_type": "stream",
          "name": "stdout",
          "text": [
            "Início: 1\n",
            "\n",
            "Fim: 10\n",
            "\n",
            "A soma entre 1 e 10 é igual a 55\n"
          ]
        }
      ]
    },
    {
      "cell_type": "markdown",
      "metadata": {
        "id": "zJA7SCK7s1e6"
      },
      "source": [
        "> ### `2.` Criar uma programa para ler uma certa qtde de valores reais (`float`) e, após as leituras, mostrar a média aritmética dos números digitados. A qtde de valores é escolhida pelo usuário no início do programa.\n",
        "### Ex.:\n",
        "    Qtde de valores: 5\n",
        "    Valor 1: 6\n",
        "    Valor 2: 2\n",
        "    Valor 3: 7\n",
        "    Valor 4: 5\n",
        "    Valor 5: 1\n",
        "    Média aritmética = 4.20"
      ]
    },
    {
      "cell_type": "code",
      "metadata": {
        "id": "Fkcm785ks_2Q",
        "colab": {
          "base_uri": "https://localhost:8080/"
        },
        "outputId": "e5636a02-3f13-44c4-9b51-467f0921dc5a"
      },
      "source": [
        "qv = int(input('Qtde de valores: '))\n",
        "print()\n",
        "\n",
        "s = 0  # soma dos valores (acumulador)\n",
        "for i in range(qv):  # repete qv vezes\n",
        "    val = float(input(f'Valor {i + 1}: '))\n",
        "    s += val\n",
        "\n",
        "ma = s / qv  # cálculo da média\n",
        "print(f'\\nMédia aritmética = {ma:.2f}')"
      ],
      "execution_count": null,
      "outputs": [
        {
          "output_type": "stream",
          "name": "stdout",
          "text": [
            "Qtde de valores: 5\n",
            "\n",
            "Valor 1: 6\n",
            "Valor 2: 2\n",
            "Valor 3: 7\n",
            "Valor 4: 5\n",
            "Valor 5: 1\n",
            "\n",
            "Média aritmética = 4.20\n"
          ]
        }
      ]
    },
    {
      "cell_type": "markdown",
      "metadata": {
        "id": "jZlDvgrmtHNs"
      },
      "source": [
        "\n",
        "> ### `3.` Criar um programa para ler 8 valores inteiros (`int`) e, após as leituras, mostrar o produto (multiplicação) dos números negativos. Se não tiver números negativos, deve ser mostrada uma msg ao usuário."
      ]
    },
    {
      "cell_type": "code",
      "metadata": {
        "id": "Kd4anPHNtLZG",
        "colab": {
          "base_uri": "https://localhost:8080/"
        },
        "outputId": "4a3fa596-06d1-4aeb-c82f-ca9055067403"
      },
      "source": [
        "p = 1  # valor inicial de produto é o 1 (elemento neutro da multiplicação)\n",
        "neg = False  # flag que indica\n",
        "for i in range(8):\n",
        "    val = int(input(f'Valor {i + 1}: '))\n",
        "    if val < 0:\n",
        "        p *= val  # p = p * val\n",
        "        neg = True\n",
        "\n",
        "if neg:\n",
        "    print(f'\\nProduto dos valores negativos = {p}')\n",
        "else:\n",
        "    print('\\nNão há valores negativos')"
      ],
      "execution_count": null,
      "outputs": [
        {
          "output_type": "stream",
          "name": "stdout",
          "text": [
            "Valor 1: -3\n",
            "Valor 2: 5\n",
            "Valor 3: -4\n",
            "Valor 4: 5\n",
            "Valor 5: 6\n",
            "Valor 6: 7\n",
            "Valor 7: 6\n",
            "Valor 8: 5\n",
            "\n",
            "Produto dos valores negativos = 12\n"
          ]
        }
      ]
    },
    {
      "cell_type": "markdown",
      "metadata": {
        "id": "l6OtqQhqqwXw"
      },
      "source": [
        "> ### `4.` Criar um programa para ler 7 números inteiros e, após as leituras, mostrar a qtde de valores pares e a qtde de valores ímpares entre os 7 números."
      ]
    },
    {
      "cell_type": "code",
      "metadata": {
        "colab": {
          "base_uri": "https://localhost:8080/"
        },
        "id": "dI3306cPq2_o",
        "outputId": "a54ff07c-1f08-46c1-e9d2-28f6d1ec97b6"
      },
      "source": [
        "qp = qi = 0\n",
        "for i in range(7):\n",
        "    val = int(input(f'Valor {i + 1}: '))\n",
        "    if val % 2 == 0:  # verifica se val é par (resto zero -> múltiplo de 2)\n",
        "        qp += 1\n",
        "    else:\n",
        "        qi += 1\n",
        "\n",
        "print(f'\\nQtde de pares = {qp}\\n\\nQtde de ímpares = {qi}')"
      ],
      "execution_count": null,
      "outputs": [
        {
          "output_type": "stream",
          "name": "stdout",
          "text": [
            "Valor 1: 2\n",
            "Valor 2: 3\n",
            "Valor 3: 4\n",
            "Valor 4: 1\n",
            "Valor 5: 6\n",
            "Valor 6: 8\n",
            "Valor 7: 9\n",
            "\n",
            "Qtde de pares = 4\n",
            "\n",
            "Qtde de ímpares = 3\n"
          ]
        }
      ]
    },
    {
      "cell_type": "markdown",
      "metadata": {
        "id": "OUBl1ucBu4_t"
      },
      "source": [
        "> ### `Outra forma`: calculando apenas um deles (par, por exemplo)."
      ]
    },
    {
      "cell_type": "code",
      "metadata": {
        "colab": {
          "base_uri": "https://localhost:8080/"
        },
        "id": "Ou9He2T-vDdZ",
        "outputId": "6ff82da6-0ed6-4561-e526-8aa940e03d05"
      },
      "source": [
        "qp = 0\n",
        "for i in range(7):\n",
        "    val = int(input(f'Valor {i + 1}: '))\n",
        "    if val % 2 == 0:  # verifica se val é par (resto zero -> múltiplo de 2)\n",
        "        qp += 1\n",
        "\n",
        "qi = 7 - qp  # qtde de ímpares é o complemento em relação ao total (7)\n",
        "print(f'\\nQtde de pares = {qp}\\n\\nQtde de ímpares = {qi}')"
      ],
      "execution_count": null,
      "outputs": [
        {
          "output_type": "stream",
          "name": "stdout",
          "text": [
            "Valor 1: 2\n",
            "Valor 2: 3\n",
            "Valor 3: 4\n",
            "Valor 4: 1\n",
            "Valor 5: 6\n",
            "Valor 6: 8\n",
            "Valor 7: 9\n",
            "\n",
            "Qtde de pares = 4\n",
            "\n",
            "Qtde de ímpares = 3\n"
          ]
        }
      ]
    },
    {
      "cell_type": "markdown",
      "metadata": {
        "id": "VEqi0ClSr7PO"
      },
      "source": [
        "> ### `5.` Criar um programa para mostrar a tabuada de um número inteiro fornecido pelo usuário.\n",
        "### Exemplo de execução do programa:\n",
        "    Valor inteiro: 5\n",
        "\n",
        "    Tabuada do 5:\n",
        "\n",
        "    5 x 1 = 5\n",
        "    5 x 2 = 10\n",
        "    5 x 3 = 15\n",
        "    5 x 4 = 20\n",
        "    5 x 5 = 25\n",
        "    5 x 6 = 30\n",
        "    5 x 7 = 35\n",
        "    5 x 8 = 40\n",
        "    5 x 9 = 45\n",
        "    5 x 10 = 50"
      ]
    },
    {
      "cell_type": "code",
      "metadata": {
        "colab": {
          "base_uri": "https://localhost:8080/"
        },
        "id": "yz71aA2xsWOy",
        "outputId": "4c633ea3-917c-464a-afc8-61ebf0ab8fb6"
      },
      "source": [
        "n = int(input('Valor inteiro: '))\n",
        "print(f'\\nTabuada do {n}:\\n')\n",
        "for i in range(1, 11):  # repetição de 1 a 10\n",
        "    print(f'{n} x {i} = {n * i}')"
      ],
      "execution_count": null,
      "outputs": [
        {
          "output_type": "stream",
          "name": "stdout",
          "text": [
            "Valor inteiro: 9\n",
            "\n",
            "Tabuada do 9:\n",
            "\n",
            "9 x 1 = 9\n",
            "9 x 2 = 18\n",
            "9 x 3 = 27\n",
            "9 x 4 = 36\n",
            "9 x 5 = 45\n",
            "9 x 6 = 54\n",
            "9 x 7 = 63\n",
            "9 x 8 = 72\n",
            "9 x 9 = 81\n",
            "9 x 10 = 90\n"
          ]
        }
      ]
    },
    {
      "cell_type": "markdown",
      "metadata": {
        "id": "37z93DBTsj_e"
      },
      "source": [
        "> ### `6.` Criar um programa para ler 8 valores reais (`float`) e, após as leituras, mostrar a média aritmética dos valores positivos (maiores que zero). Mostrar uma mensagem se não tiver valores positivos."
      ]
    },
    {
      "cell_type": "code",
      "metadata": {
        "id": "orUkTrDus4pk",
        "colab": {
          "base_uri": "https://localhost:8080/"
        },
        "outputId": "9badb793-54a9-4c45-a81c-034a8470816b"
      },
      "source": [
        "sp = qp = 0\n",
        "for i in range(8):\n",
        "    val = float(input(f'Valor {i + 1}: '))\n",
        "    if val > 0:  # verifica se é positivo\n",
        "        sp += val  # sp = sp + val\n",
        "        qp += 1\n",
        "\n",
        "if qp > 0:\n",
        "    ma = sp / qp\n",
        "    print(f'\\nMédia aritmética dos positivos = {ma:.3f}')\n",
        "else:\n",
        "    print('\\nNão há valores positivos.')"
      ],
      "execution_count": null,
      "outputs": [
        {
          "output_type": "stream",
          "name": "stdout",
          "text": [
            "Valor 1: 4\n",
            "Valor 2: 8\n",
            "Valor 3: 9\n",
            "Valor 4: 2\n",
            "Valor 5: 0\n",
            "Valor 6: -1\n",
            "Valor 7: 1\n",
            "Valor 8: -10\n",
            "\n",
            "Média aritmética dos positivos = 4.800\n"
          ]
        }
      ]
    },
    {
      "cell_type": "markdown",
      "metadata": {
        "id": "yorp8qoLs-bi"
      },
      "source": [
        "> ### `7.` Criar um programa para ler 8 valores reais (`float`) e, após as leituras, mostrar o **menor** e o **maior** valor digitado pelo usuário."
      ]
    },
    {
      "cell_type": "code",
      "metadata": {
        "id": "VVDh7CWitCXt",
        "colab": {
          "base_uri": "https://localhost:8080/"
        },
        "outputId": "35ae0eec-c1fb-427f-d7d6-220a6270a79e"
      },
      "source": [
        "me = float('inf')  # \"infinito\" para valor inicial do menor\n",
        "ma = float('-inf')  # \"infinito\" negativo para valor inicial do maior\n",
        "for i in range(8):\n",
        "    val = float(input(f'Valor {i + 1}: '))\n",
        "    if val < me:\n",
        "        me = val\n",
        "    if val > ma:\n",
        "        ma = val\n",
        "\n",
        "print(f'\\nMenor = {me}\\n\\nMaior = {ma}')"
      ],
      "execution_count": null,
      "outputs": [
        {
          "output_type": "stream",
          "name": "stdout",
          "text": [
            "Valor 1: 50\n",
            "Valor 2: 100\n",
            "Valor 3: 4\n",
            "Valor 4: -10\n",
            "Valor 5: 300\n",
            "Valor 6: 67\n",
            "Valor 7: 10\n",
            "Valor 8: 30\n",
            "\n",
            "Menor = -10.0\n",
            "\n",
            "Maior = 300.0\n"
          ]
        }
      ]
    },
    {
      "cell_type": "markdown",
      "metadata": {
        "id": "ZhrKJk1ywiod"
      },
      "source": [
        "> ### `8.` Fulano tem 1 m de altura e Ciclano tem 1,4 m de altura. Fulano cresce 3 cm por ano e Ciclano cresce 2 cm por ano. Quantos anos serão necessários para que Fulano fique mais alto que Ciclano?\n",
        "> ### Crie um programa para realizar o cálculo."
      ]
    },
    {
      "cell_type": "code",
      "metadata": {
        "id": "qPWtKo5Fwq_W",
        "colab": {
          "base_uri": "https://localhost:8080/"
        },
        "outputId": "aa35c277-88d2-4490-857d-86e79dc1a5c6"
      },
      "source": [
        "f = 100\n",
        "c = 140\n",
        "qa = 0  # qtde de anos\n",
        "while f <= c:\n",
        "    f += 3\n",
        "    c += 2\n",
        "    qa += 1  # contador de anos\n",
        "\n",
        "print(f'\\nQtde de anos = {qa}')"
      ],
      "execution_count": null,
      "outputs": [
        {
          "output_type": "stream",
          "name": "stdout",
          "text": [
            "\n",
            "Qtde de anos = 41\n"
          ]
        }
      ]
    },
    {
      "cell_type": "markdown",
      "metadata": {
        "id": "FZGHPiF4x4Hm"
      },
      "source": [
        "> ### `9.` Criar um programa para calcular e mostrar o fatorial de um número N qualquer (N!), com N fornecido pelo usuário.\n",
        "> ### N! = N . (N - 1) . (N - 2) ... 1\n",
        "### Exemplo:\n",
        "    Valor de N: 5\n",
        "\n",
        "    5! = 120\n"
      ]
    },
    {
      "cell_type": "code",
      "metadata": {
        "id": "-7Zj_Q97zHQ5",
        "colab": {
          "base_uri": "https://localhost:8080/"
        },
        "outputId": "a3b3e433-976f-40f5-d3d8-35e954c51c92"
      },
      "source": [
        "n = int(input('Valor de N: '))\n",
        "f = 1\n",
        "print(f'\\n{n}! = ', end='')\n",
        "for x in range(n, 0, -1):  # de n até 1\n",
        "    if x > 1:\n",
        "        print(f'{x} . ', end='')\n",
        "    f *= x  # f = f * x\n",
        "\n",
        "print(f'1 = {f}')"
      ],
      "execution_count": null,
      "outputs": [
        {
          "output_type": "stream",
          "name": "stdout",
          "text": [
            "Valor de N: 10\n",
            "\n",
            "10! = 10 . 9 . 8 . 7 . 6 . 5 . 4 . 3 . 2 . 1 = 3628800\n"
          ]
        }
      ]
    },
    {
      "cell_type": "markdown",
      "metadata": {
        "id": "nycHoX4H2rHi"
      },
      "source": [
        "> ### `10.` Criar um programa para ler a idade (em anos) de 7 pessoas e, após as leituras, mostrar a idade da pessoa mais nova (menor idade)."
      ]
    },
    {
      "cell_type": "code",
      "metadata": {
        "id": "BiUXm2ZD21mK",
        "colab": {
          "base_uri": "https://localhost:8080/"
        },
        "outputId": "33234790-39ca-481e-b6cb-3ae6116c7b3c"
      },
      "source": [
        "meid = 1000  # valor inicial alto (bem acima dos valores permitidos para a entrada)\n",
        "for i in range(7):\n",
        "    id = int(input(f'Idade da {i + 1}ª pessoa: '))\n",
        "    if id < meid:\n",
        "        meid = id\n",
        "\n",
        "print(f'\\nIdade da pessoa mais nova = {meid} anos')"
      ],
      "execution_count": null,
      "outputs": [
        {
          "output_type": "stream",
          "name": "stdout",
          "text": [
            "Idade da 1ª pessoa: 55\n",
            "Idade da 2ª pessoa: 70\n",
            "Idade da 3ª pessoa: 10\n",
            "Idade da 4ª pessoa: 30\n",
            "Idade da 5ª pessoa: 50\n",
            "Idade da 6ª pessoa: 20\n",
            "Idade da 7ª pessoa: 53\n",
            "\n",
            "Idade da pessoa mais nova = 10 anos\n"
          ]
        }
      ]
    },
    {
      "cell_type": "markdown",
      "metadata": {
        "id": "6vpjfRJf28XT"
      },
      "source": [
        "> ### `11.` Criar um programa para ler a idade e o peso de 5 pessoas e resolver:\n",
        "+ ### Calcular e mostrar a qtde de pessoas com idade entre 10 e 50 anos (inclusive).\n",
        "+ ### Calcular e mostrar o menor peso das pessoas idosas (60 anos ou mais). Se não tiver idosos, mostrar uma msg."
      ]
    },
    {
      "cell_type": "code",
      "metadata": {
        "id": "baXUpfuQ3eR2",
        "colab": {
          "base_uri": "https://localhost:8080/"
        },
        "outputId": "d032fe62-7c60-4bda-948c-a76521a4f1de"
      },
      "source": [
        "q1050 = 0\n",
        "mep_idoso = 1000  # valor alto no início (para o contexto: peso)\n",
        "for i in range(5):\n",
        "    print(f'{i + 1}ª Pessoa:')\n",
        "    idade = int(input('Idade (anos): '))\n",
        "    peso = float(input('Peso (Kg): '))\n",
        "    print('-' * 20)\n",
        "\n",
        "    if idade >= 10 and idade <= 50:\n",
        "        q1050 += 1\n",
        "\n",
        "    if idade >= 60 and peso < mep_idoso:\n",
        "        mep_idoso = peso\n",
        "\n",
        "print(f'\\nQtde de pessoas com idade entre 10 e 50 anos = {q1050}')\n",
        "if mep_idoso != 1000:\n",
        "    print(f'\\nMenor peso dos idosos = {mep_idoso:.1f} Kg')\n",
        "else:\n",
        "    print('\\nNão há idosos!')"
      ],
      "execution_count": null,
      "outputs": [
        {
          "output_type": "stream",
          "name": "stdout",
          "text": [
            "1ª Pessoa:\n",
            "Idade (anos): 30\n",
            "Peso (Kg): 57\n",
            "--------------------\n",
            "2ª Pessoa:\n",
            "Idade (anos): 20\n",
            "Peso (Kg): 60\n",
            "--------------------\n",
            "3ª Pessoa:\n",
            "Idade (anos): 68\n",
            "Peso (Kg): 80\n",
            "--------------------\n",
            "4ª Pessoa:\n",
            "Idade (anos): 56\n",
            "Peso (Kg): 78\n",
            "--------------------\n",
            "5ª Pessoa:\n",
            "Idade (anos): 90\n",
            "Peso (Kg): 56\n",
            "--------------------\n",
            "\n",
            "Qtde de pessoas com idade entre 10 e 50 anos = 2\n",
            "\n",
            "Menor peso dos idosos = 56.0 Kg\n"
          ]
        }
      ]
    },
    {
      "cell_type": "markdown",
      "metadata": {
        "id": "Hyf14wCY3fNG"
      },
      "source": [
        "> ### `12.` Criar um programa para mostrar os N primeiros termos da sequência de Fibonacci, com N fornecido pelo usuário.\n",
        "\n",
        "### Sequência de Fibonacci: 0 1 1 2 3 5 8 13 21 ...\n",
        "+ ### O próximo valor é a soma dos dois anteriores."
      ]
    },
    {
      "cell_type": "code",
      "metadata": {
        "id": "pNVgsDK54S7L",
        "colab": {
          "base_uri": "https://localhost:8080/"
        },
        "outputId": "e4554784-bc9b-4078-b3ab-541ca77ba2b0"
      },
      "source": [
        "n = int(input('Qtde de termos da sequência de Fibonacci: '))\n",
        "print('\\nSequência de Fibonacci: ', end='')\n",
        "a = 0\n",
        "b = 1\n",
        "for i in range(n):\n",
        "    print(a, end=' ')\n",
        "    p = a + b  # próximo\n",
        "    a = b\n",
        "    b = p"
      ],
      "execution_count": null,
      "outputs": [
        {
          "output_type": "stream",
          "name": "stdout",
          "text": [
            "Qtde de termos da sequência de Fibonacci: 20\n",
            "\n",
            "Sequência de Fibonacci: 0 1 1 2 3 5 8 13 21 34 55 89 144 233 377 610 987 1597 2584 4181 "
          ]
        }
      ]
    },
    {
      "cell_type": "markdown",
      "metadata": {
        "id": "wtsQtO49pjAf"
      },
      "source": [
        "> ### `Outra forma`: usando atribuições múltiplas da linguagem Python."
      ]
    },
    {
      "cell_type": "code",
      "metadata": {
        "colab": {
          "base_uri": "https://localhost:8080/"
        },
        "id": "UMhQvIq4psrf",
        "outputId": "0f8bf763-8703-4db2-b30e-6dd74589d37b"
      },
      "source": [
        "n = int(input('Qtde de termos da sequência de Fibonacci: '))\n",
        "print('\\nSequência de Fibonacci: ', end='')\n",
        "a, b = 0, 1\n",
        "for i in range(n):\n",
        "    print(a, end=' ')\n",
        "    a, b = b, a + b"
      ],
      "execution_count": null,
      "outputs": [
        {
          "output_type": "stream",
          "name": "stdout",
          "text": [
            "Qtde de termos da sequência de Fibonacci: 20\n",
            "\n",
            "Sequência de Fibonacci: 0 1 1 2 3 5 8 13 21 34 55 89 144 233 377 610 987 1597 2584 4181 "
          ]
        }
      ]
    },
    {
      "cell_type": "markdown",
      "metadata": {
        "id": "1hfCT7DarX-N"
      },
      "source": [
        "> ### `13.` Em uma eleição existem três candidatos e voto em branco. Crie um programa para ler o número total de eleitores e o voto de cada eleitor. No final, mostrar o número de votos de cada candidato e os votos em branco.\n",
        "### `Desafio`: calcular a % de votos de cada candidato e também dos votos em branco."
      ]
    },
    {
      "cell_type": "code",
      "metadata": {
        "id": "LdrBStl5sLkg",
        "colab": {
          "base_uri": "https://localhost:8080/"
        },
        "outputId": "393e8ad2-e300-4c67-ac8a-ae5ae3b4bd45"
      },
      "source": [
        "from IPython.display import clear_output\n",
        "\n",
        "c1 = c2 = c3 = br = 0  # contadores\n",
        "te = int(input('Total de eleitores: '))\n",
        "for e in range(te):\n",
        "    clear_output(True)\n",
        "    print('Eleição\\n-------\\n')\n",
        "    print('1 - Candidato 1')\n",
        "    print('2 - Candidato 2')\n",
        "    print('3 - Candidato 3')\n",
        "    print('4 - Branco')\n",
        "    voto = int(input(f'\\nVoto do eleitor {e + 1}: '))\n",
        "\n",
        "    if voto == 1:\n",
        "        c1 += 1\n",
        "    elif voto == 2:\n",
        "        c2 += 1\n",
        "    elif voto == 3:\n",
        "        c3 += 1\n",
        "    elif voto == 4:\n",
        "        br += 1\n",
        "\n",
        "clear_output(True)\n",
        "print('Resultados da eleição:\\n')\n",
        "print(f'Candidato 1: {c1} votos - {c1 / te * 100:.1f}%')\n",
        "print(f'Candidato 2: {c2} votos - {c2 / te * 100:.1f}%')\n",
        "print(f'Candidato 3: {c3} votos - {c3 / te * 100:.1f}%')\n",
        "print(f'Brancos: {br} votos - {br / te * 100:.1f}%')"
      ],
      "execution_count": null,
      "outputs": [
        {
          "output_type": "stream",
          "name": "stdout",
          "text": [
            "Resultados da eleição:\n",
            "\n",
            "Candidato 1: 1 votos - 20.0%\n",
            "Candidato 2: 2 votos - 40.0%\n",
            "Candidato 3: 1 votos - 20.0%\n",
            "Brancos: 1 votos - 20.0%\n"
          ]
        }
      ]
    },
    {
      "cell_type": "markdown",
      "metadata": {
        "id": "5CTY_Jp7n4fJ"
      },
      "source": [
        "> ### `Outra forma`: total de eleitores desconhecido."
      ]
    },
    {
      "cell_type": "code",
      "metadata": {
        "colab": {
          "base_uri": "https://localhost:8080/"
        },
        "id": "X8wndM62oCLM",
        "outputId": "1e3d591d-432f-4baf-deb0-5ddfdbc0bc38"
      },
      "source": [
        "from IPython.display import clear_output\n",
        "\n",
        "c1 = c2 = c3 = br = 0  # contadores\n",
        "e = 0  # número do eleitor\n",
        "while True:\n",
        "    e += 1\n",
        "    clear_output(True)\n",
        "    print('Eleição\\n-------\\n')\n",
        "    print('1 - Candidato 1')\n",
        "    print('2 - Candidato 2')\n",
        "    print('3 - Candidato 3')\n",
        "    print('4 - Branco')\n",
        "    print('5 - Sair e ver resultados')\n",
        "    voto = int(input(f'\\nVoto do eleitor {e}: '))\n",
        "\n",
        "    if voto == 1:\n",
        "        c1 += 1\n",
        "    elif voto == 2:\n",
        "        c2 += 1\n",
        "    elif voto == 3:\n",
        "        c3 += 1\n",
        "    elif voto == 4:\n",
        "        br += 1\n",
        "    elif voto == 5:\n",
        "        break  # sair do while\n",
        "\n",
        "te = c1 + c2 + c3 + br  # total de votos\n",
        "clear_output(True)\n",
        "print('Resultados da eleição:\\n')\n",
        "print(f'Candidato 1: {c1} votos - {c1 / te * 100:.1f}%')\n",
        "print(f'Candidato 2: {c2} votos - {c2 / te * 100:.1f}%')\n",
        "print(f'Candidato 3: {c3} votos - {c3 / te * 100:.1f}%')\n",
        "print(f'Brancos: {br} votos - {br / te * 100:.1f}%')\n",
        "print(f'\\nTotal de eleitores (votos): {te}')"
      ],
      "execution_count": null,
      "outputs": [
        {
          "output_type": "stream",
          "name": "stdout",
          "text": [
            "Resultados da eleição:\n",
            "\n",
            "Candidato 1: 2 votos - 22.2%\n",
            "Candidato 2: 3 votos - 33.3%\n",
            "Candidato 3: 1 votos - 11.1%\n",
            "Brancos: 3 votos - 33.3%\n",
            "\n",
            "Total de votos: 9\n"
          ]
        }
      ]
    },
    {
      "cell_type": "markdown",
      "metadata": {
        "id": "eet1wPvysMlg"
      },
      "source": [
        "> ### **`14.`** Crie um programa para ler um número inteiro e, após a leitura, mostrar se o número é PRIMO ou não.\n",
        "### `Regra matemática`: número primo é divisível por 1 e por ele mesmo, APENAS. ** Exceção: número 1.\n",
        "### `Regra na programação`: todos são primos e devemos verificar se há divisores entre 2 e a metade inteira (quociente da divisão por 2) do número escolhido pelo usuário. Se houver, NÃO é primo."
      ]
    },
    {
      "cell_type": "code",
      "metadata": {
        "id": "cmGzPLYOsjan",
        "colab": {
          "base_uri": "https://localhost:8080/"
        },
        "outputId": "4d0d49ad-347d-430f-d2f9-1bd1c9c18fb4"
      },
      "source": [
        "n = int(input('Número inteiro: '))\n",
        "primo = True  # flag para afirmar que n é primo\n",
        "for x in range(2, n // 2 + 1):  # percorre os possíveis divisores de n\n",
        "    if n % x == 0:\n",
        "        primo = False\n",
        "        break  # sair da repetição, pois já encontrou um divisor\n",
        "\n",
        "if primo and n != 1:\n",
        "    print(f'\\n{n} é primo')\n",
        "else:\n",
        "    print(f'\\n{n} não é primo')"
      ],
      "execution_count": null,
      "outputs": [
        {
          "output_type": "stream",
          "name": "stdout",
          "text": [
            "Número inteiro: 37\n",
            "\n",
            "37 é primo\n"
          ]
        }
      ]
    },
    {
      "cell_type": "markdown",
      "metadata": {
        "id": "ubgwkqY1xNHr"
      },
      "source": [
        "> ### `Extra`: mostrar todos os números primos em um intervalo, com início e fim fornecidos pelo usuário."
      ]
    },
    {
      "cell_type": "code",
      "metadata": {
        "id": "UeYfDmyhyJa9",
        "colab": {
          "base_uri": "https://localhost:8080/"
        },
        "outputId": "02f3a1b5-c709-420e-ba6b-ea1ef3a4278d"
      },
      "source": [
        "i = int(input('Início do intervalo: '))\n",
        "f = int(input('Fim do intervalo: '))\n",
        "\n",
        "print(f'\\nNúmeros primos entre {i} e {f}: ', end='')\n",
        "for n in range(i, f + 1):\n",
        "    primo = True  # flag para afirmar que n é primo\n",
        "    for x in range(2, n // 2 + 1):  # percorre os possíveis divisores de n\n",
        "        if n % x == 0:\n",
        "            primo = False\n",
        "            break  # sair da repetição, pois já encontrou um divisor\n",
        "\n",
        "    if primo and n != 1:\n",
        "        print(n, end=' ')  # print(f'{n} ')"
      ],
      "execution_count": null,
      "outputs": [
        {
          "output_type": "stream",
          "name": "stdout",
          "text": [
            "Início do intervalo: 1\n",
            "Fim do intervalo: 100\n",
            "\n",
            "Números primos entre 1 e 100: 2 3 5 7 11 13 17 19 23 29 31 37 41 43 47 53 59 61 67 71 73 79 83 89 97 "
          ]
        }
      ]
    },
    {
      "cell_type": "markdown",
      "metadata": {
        "id": "XtFXDXZkoS0p"
      },
      "source": [
        "> ### **`15.`** Crie um programa para gerar e mostrar 10 números aleatórios entre 1 e 1000."
      ]
    },
    {
      "cell_type": "code",
      "metadata": {
        "colab": {
          "base_uri": "https://localhost:8080/"
        },
        "id": "f-sSdVLuoh1a",
        "outputId": "14b52716-4cd9-4111-c4b7-f14738581542"
      },
      "source": [
        "from random import randint, seed\n",
        "\n",
        "for i in range(10):\n",
        "    print(randint(1, 10), end=' ')"
      ],
      "execution_count": null,
      "outputs": [
        {
          "output_type": "stream",
          "name": "stdout",
          "text": [
            "9 3 4 7 8 10 1 1 5 2 "
          ]
        }
      ]
    },
    {
      "cell_type": "markdown",
      "metadata": {
        "id": "NqEJyngKrIPp"
      },
      "source": [
        "> ## **Jogo**: acerte o número.\n",
        "---\n",
        "### Regras:\n",
        "### `CPU`: gerar um número aleatório entre 1 e 100.\n",
        "### `Jogador`: o objetivo é acertar o número gerado no menor número de tentativas possível.\n",
        "### Detalhes:\n",
        "+ #### A cada tentativa com erro, o jogo deve informar se o valor \"pensado\" pela CPU é **menor** ou **maior** que o valor digitado pelo jogador.\n",
        "+ #### Após o acerto, mostrar a qtde de tentativas que o jogador realizou e, durante o jogo, mostrar qual a tentativa o jogador está realizando no momento."
      ]
    },
    {
      "cell_type": "code",
      "metadata": {
        "id": "53H09UjesSwW"
      },
      "source": [
        "from IPython.display import clear_output\n",
        "from random import randint\n",
        "from time import sleep\n",
        "\n",
        "while True:  # repete o jogo\n",
        "    clear_output(True)\n",
        "    cpu = randint(1, 100)  # gerar número aleatório entre 1 e 100\n",
        "    tent = 1\n",
        "    while True:  # repete as tentativas\n",
        "        print('A CPU gerou um número entre 1 e 100.\\nTente acertar o número...\\n\\n')\n",
        "        jog = int(input(f'Tentativa {tent}: '))\n",
        "        if cpu < jog:\n",
        "            print('\\nO valor é MENOR...\\n')\n",
        "        elif cpu > jog:\n",
        "            print('\\nO valor é MAIOR...\\n')\n",
        "        else:  # ganhou o jogo\n",
        "            print(f'\\nACERTOU o número em {tent} tentativas!!!')\n",
        "            break\n",
        "        tent += 1  # avança para próxima tentativa\n",
        "        sleep(1.5)  # espera 1 segundo e meio antes de continuar o programa\n",
        "        clear_output(True)\n",
        "\n",
        "    op = input('\\n\\nJogar novamente (sim ou não)?')\n",
        "    if op == 'não':\n",
        "        break"
      ],
      "execution_count": null,
      "outputs": []
    },
    {
      "cell_type": "markdown",
      "metadata": {
        "id": "LXwjvPGim6kf"
      },
      "source": [
        "> # **Strings** (textos): \"listas\" de caracteres. \n",
        "---\n",
        "---"
      ]
    },
    {
      "cell_type": "markdown",
      "metadata": {
        "id": "_TMTrMbMnVZx"
      },
      "source": [
        "> ## Principais operações com strings:\n",
        "---"
      ]
    },
    {
      "cell_type": "code",
      "metadata": {
        "colab": {
          "base_uri": "https://localhost:8080/"
        },
        "id": "QrKXnKJXnY1j",
        "outputId": "d86887ed-bf89-49a1-80f2-9cf2bcd99821"
      },
      "source": [
        "curso = 'Ciência da Computação'  # atribuição de uma string (texto) a uma variável\n",
        "print(curso, type(curso))\n",
        "\n",
        "curso = ''  # limpar uma string\n",
        "print(curso)  # nada é mostrado\n",
        "\n",
        "cidade = 'Franca' + '-' + 'SP'  # concatenar strings constantes\n",
        "print(cidade)\n",
        "\n",
        "cid = 'Franca'\n",
        "est = 'SP'\n",
        "cidade = cid + '-' * 5 + est  # concatenar variáveis do tipo string e multiplicar strings\n",
        "print(cidade)\n",
        "\n",
        "curso = 'Ciência da Computação'\n",
        "for i in range(len(curso)):  # len calcula a qtde de elementos na string\n",
        "    print(curso[i], end = ' ')\n",
        "\n",
        "print()\n",
        "for c in curso:  # percorre a string e atribui a c cada caractere\n",
        "    print(c, end=' ')\n",
        "\n",
        "print()\n",
        "texto = 'texto'\n",
        "for i, c in enumerate(texto):\n",
        "    print(i, c)\n",
        "\n",
        "# NÃO É POSSÍVEL modificar uma posição da string através do seu índice\n",
        "\n",
        "# curso = 'Ciência da Computação'\n",
        "# curso[6] = '@'  # proibido modificar um posição através do índice\n",
        "# print(curso)\n",
        "\n",
        "curso = 'Ciência da Computação'\n",
        "curso = list(curso)  # list converte a string em uma lista de caracteres\n",
        "curso[6] = '@'\n",
        "curso = ''.join(curso)  # join agrupa o elementos da lista em uma string\n",
        "print(curso)\n",
        "\n",
        "# Recortes em strings (recurso muito usado em Python)\n",
        "\n",
        "curso = 'Ciência da Computação'\n",
        "print(curso[:])  # O operador : indica TODOS os caracteres (o mesmo que curso)\n",
        "print(curso[:5])  # os 5 primeiros\n",
        "print(curso[8:])  # do 9º ao último\n",
        "print(curso[4:7])  # do 5º ao 7º valor\n",
        "print(curso[len(curso) - 1])  # último caractere\n",
        "print(curso[-1])  # último caractere"
      ],
      "execution_count": null,
      "outputs": [
        {
          "output_type": "stream",
          "name": "stdout",
          "text": [
            "Ciência da Computação <class 'str'>\n",
            "\n",
            "Franca-SP\n",
            "Franca-----SP\n",
            "C i ê n c i a   d a   C o m p u t a ç ã o \n",
            "C i ê n c i a   d a   C o m p u t a ç ã o \n",
            "0 t\n",
            "1 e\n",
            "2 x\n",
            "3 t\n",
            "4 o\n",
            "Ciênci@ da Computação\n",
            "Ciência da Computação\n",
            "Ciênc\n",
            "da Computação\n",
            "cia\n",
            "o\n",
            "o\n"
          ]
        }
      ]
    },
    {
      "cell_type": "markdown",
      "metadata": {
        "id": "lVASIKPG0DHo"
      },
      "source": [
        "> ## Leitura de strings:\n",
        "---"
      ]
    },
    {
      "cell_type": "code",
      "metadata": {
        "colab": {
          "base_uri": "https://localhost:8080/"
        },
        "id": "dRPXonQ_0QFI",
        "outputId": "13472dca-c834-4f84-8df4-8e8fdf51d328"
      },
      "source": [
        "from time import sleep\n",
        "\n",
        "frase = input('Frase: ')\n",
        "for c in frase:\n",
        "    print(c, end='')\n",
        "    sleep(0.5)"
      ],
      "execution_count": null,
      "outputs": [
        {
          "output_type": "stream",
          "name": "stdout",
          "text": [
            "Frase: Computação\n",
            "Computação"
          ]
        }
      ]
    },
    {
      "cell_type": "markdown",
      "metadata": {
        "id": "PHx0zyt305sS"
      },
      "source": [
        "> ## **Exercícios:**\n",
        "---\n",
        "---"
      ]
    },
    {
      "cell_type": "markdown",
      "metadata": {
        "id": "nUV3L5r41Abs"
      },
      "source": [
        "> ### `1.` Ler uma frase e contar a qtde de vogais contidas nessa frase."
      ]
    },
    {
      "cell_type": "code",
      "metadata": {
        "id": "PqY-2ipp1Fcf",
        "colab": {
          "base_uri": "https://localhost:8080/"
        },
        "outputId": "d7043d9a-0089-448a-f73b-e9b344fd0059"
      },
      "source": [
        "frase = input('Frase: ')\n",
        "qv = 0\n",
        "for c in frase:\n",
        "    if c.lower() in 'aeiou':  # lower() converte uma string em minúsculas (upper o contrário)\n",
        "        qv += 1\n",
        "\n",
        "print(f'\\nQtde de vogais = {qv}')"
      ],
      "execution_count": null,
      "outputs": [
        {
          "output_type": "stream",
          "name": "stdout",
          "text": [
            "Frase: computacao\n",
            "\n",
            "Qtde de vogais = 5\n"
          ]
        }
      ]
    },
    {
      "cell_type": "markdown",
      "metadata": {
        "id": "aFEFO1iv1SCQ"
      },
      "source": [
        "> ### `2.` Ler uma frase e contar a qtde de consoantes dessa frase."
      ]
    },
    {
      "cell_type": "code",
      "metadata": {
        "id": "uoPHI5Up1je-",
        "colab": {
          "base_uri": "https://localhost:8080/"
        },
        "outputId": "2b5cf200-fdf9-4cc1-8231-33f6db36ad09"
      },
      "source": [
        "frase = input('Frase: ')\n",
        "qc = 0\n",
        "for c in frase:\n",
        "    c = c.lower()\n",
        "    if c.isalpha() and c not in 'aeiou':  # isalpha verifica se é uma letra\n",
        "        qc += 1\n",
        "\n",
        "print(f'\\nQtde de consoantes = {qv}')"
      ],
      "execution_count": null,
      "outputs": [
        {
          "output_type": "stream",
          "name": "stdout",
          "text": [
            "Frase: computacao\n",
            "\n",
            "Qtde de consoantes = 5\n"
          ]
        }
      ]
    },
    {
      "cell_type": "markdown",
      "metadata": {
        "id": "JdoKzg2jufaz"
      },
      "source": [
        "> ### `3.` Ler uma frase e converter para maiúscula a primeira letra de cada palavra."
      ]
    },
    {
      "cell_type": "code",
      "metadata": {
        "colab": {
          "base_uri": "https://localhost:8080/"
        },
        "id": "1kBA3Icnuoet",
        "outputId": "d10c1288-6b8c-49a2-d954-8ae8d4b81952"
      },
      "source": [
        "frase = input('Frase: ')\n",
        "frase = list(frase)\n",
        "frase[0] = frase[0].upper()  # converte a 1ª letra\n",
        "for i in range(1, len(frase)):  # percorre a partir da 2º caractere\n",
        "    if frase[i - 1] == ' ':  # verifica se o anterior é um espaço em branco\n",
        "        frase[i] = frase[i].upper()\n",
        "frase = ''.join(frase)\n",
        "print(f'\\n{frase}')"
      ],
      "execution_count": null,
      "outputs": [
        {
          "output_type": "stream",
          "name": "stdout",
          "text": [
            "Frase: ciencia da computacao\n",
            "\n",
            "Ciencia Da Computacao\n"
          ]
        }
      ]
    },
    {
      "cell_type": "markdown",
      "metadata": {
        "id": "pHvxdOUR1mwh"
      },
      "source": [
        "> ### `Outra forma`: criando uma nova string."
      ]
    },
    {
      "cell_type": "code",
      "metadata": {
        "colab": {
          "base_uri": "https://localhost:8080/"
        },
        "id": "DECgIimE17xz",
        "outputId": "ebcc3605-9e7d-4015-efc5-7ccf93728d6a"
      },
      "source": [
        "frase = input('Frase: ')\n",
        "nova = frase[0].upper()\n",
        "for i in range(1, len(frase)):\n",
        "    if frase[i - 1] == ' ':\n",
        "        nova += frase[i].upper()\n",
        "    else:\n",
        "        nova += frase[i]\n",
        "frase = nova\n",
        "print(f'{frase}')"
      ],
      "execution_count": null,
      "outputs": [
        {
          "output_type": "stream",
          "name": "stdout",
          "text": [
            "Frase: computacao\n",
            "Computacao\n"
          ]
        }
      ]
    },
    {
      "cell_type": "markdown",
      "metadata": {
        "id": "aqH5pHM9ixHO"
      },
      "source": [
        "> # **Listas numéricas** (vetores).\n",
        "---\n",
        "---"
      ]
    },
    {
      "cell_type": "markdown",
      "metadata": {
        "id": "eWReNtzeoTjJ"
      },
      "source": [
        "> ## Criação, alteração e seleção de valores em listas.\n",
        "---"
      ]
    },
    {
      "cell_type": "markdown",
      "metadata": {
        "id": "rQwyV4k-oidO"
      },
      "source": [
        "> ## **Criação:**"
      ]
    },
    {
      "cell_type": "code",
      "metadata": {
        "colab": {
          "base_uri": "https://localhost:8080/"
        },
        "id": "5Cl1DqBEoP9U",
        "outputId": "4ad77e0c-fed5-4061-c016-c39336753781"
      },
      "source": [
        "lista = []  # criar uma lista vazia\n",
        "print(lista, type(lista))"
      ],
      "execution_count": null,
      "outputs": [
        {
          "output_type": "stream",
          "name": "stdout",
          "text": [
            "[] <class 'list'>\n"
          ]
        }
      ]
    },
    {
      "cell_type": "code",
      "metadata": {
        "colab": {
          "base_uri": "https://localhost:8080/"
        },
        "id": "RTxnT-NBpV2q",
        "outputId": "1853de61-b7e1-4039-88c2-b0b7c77af2e4"
      },
      "source": [
        "lista = [1, 2, 3, 4, 5]\n",
        "print(lista)"
      ],
      "execution_count": null,
      "outputs": [
        {
          "output_type": "stream",
          "name": "stdout",
          "text": [
            "[1, 2, 3, 4, 5]\n"
          ]
        }
      ]
    },
    {
      "cell_type": "code",
      "metadata": {
        "colab": {
          "base_uri": "https://localhost:8080/"
        },
        "id": "7ctgfB0ppjaE",
        "outputId": "248175f9-725f-4750-c333-c43e68a9d8a7"
      },
      "source": [
        "lista = [0] * 30  # criar uma lista com 30 zeros\n",
        "print(lista)"
      ],
      "execution_count": null,
      "outputs": [
        {
          "output_type": "stream",
          "name": "stdout",
          "text": [
            "[0, 0, 0, 0, 0, 0, 0, 0, 0, 0, 0, 0, 0, 0, 0, 0, 0, 0, 0, 0, 0, 0, 0, 0, 0, 0, 0, 0, 0, 0]\n"
          ]
        }
      ]
    },
    {
      "cell_type": "code",
      "metadata": {
        "colab": {
          "base_uri": "https://localhost:8080/"
        },
        "id": "-0OpeFINqQGz",
        "outputId": "63f45d25-d01b-4191-bb31-da3b423ee7d8"
      },
      "source": [
        "lista = []\n",
        "for v in range(30):\n",
        "    lista.append(v + 1)  # append acrescenta um valor no final da lista\n",
        "print(lista)"
      ],
      "execution_count": null,
      "outputs": [
        {
          "output_type": "stream",
          "name": "stdout",
          "text": [
            "[1, 2, 3, 4, 5, 6, 7, 8, 9, 10, 11, 12, 13, 14, 15, 16, 17, 18, 19, 20, 21, 22, 23, 24, 25, 26, 27, 28, 29, 30]\n"
          ]
        }
      ]
    },
    {
      "cell_type": "code",
      "metadata": {
        "colab": {
          "base_uri": "https://localhost:8080/"
        },
        "id": "Y_IfntrOrNL5",
        "outputId": "ca0594f3-9228-4543-cedc-c8a89da27195"
      },
      "source": [
        "lista = [v + 1 for v in range(30)]  # o for fornece os valores da lista\n",
        "print(lista)"
      ],
      "execution_count": null,
      "outputs": [
        {
          "output_type": "stream",
          "name": "stdout",
          "text": [
            "[1, 2, 3, 4, 5, 6, 7, 8, 9, 10, 11, 12, 13, 14, 15, 16, 17, 18, 19, 20, 21, 22, 23, 24, 25, 26, 27, 28, 29, 30]\n"
          ]
        }
      ]
    },
    {
      "cell_type": "markdown",
      "metadata": {
        "id": "A9FOOW7psVPi"
      },
      "source": [
        "> ## **Alteração:**"
      ]
    },
    {
      "cell_type": "code",
      "metadata": {
        "colab": {
          "base_uri": "https://localhost:8080/"
        },
        "id": "mteegh5BsYMS",
        "outputId": "21f84e3c-1152-4949-8e35-edd363fc6e2b"
      },
      "source": [
        "lista = [0] * 10\n",
        "print(f'Antes: {lista}')\n",
        "lista[0] = 111  # altera o primeiro\n",
        "lista[-1] = 999  # altera o último\n",
        "print(f'\\nDepois: {lista}')"
      ],
      "execution_count": null,
      "outputs": [
        {
          "output_type": "stream",
          "name": "stdout",
          "text": [
            "Antes: [0, 0, 0, 0, 0, 0, 0, 0, 0, 0]\n",
            "\n",
            "Depois: [111, 0, 0, 0, 0, 0, 0, 0, 0, 999]\n"
          ]
        }
      ]
    },
    {
      "cell_type": "code",
      "metadata": {
        "colab": {
          "base_uri": "https://localhost:8080/"
        },
        "id": "l3tb21tGt16m",
        "outputId": "5a93c97b-8931-4d89-91d0-412f6a437485"
      },
      "source": [
        "lista = [10] * 5\n",
        "print(f'Lista: {lista}')\n",
        "copia = lista[:]  # ou lista.copy()  (: representa todos os valores)\n",
        "copia[0] = 111\n",
        "print(f'\\nLista: {lista}')\n",
        "print(f'\\nCópia: {copia}')"
      ],
      "execution_count": null,
      "outputs": [
        {
          "output_type": "stream",
          "name": "stdout",
          "text": [
            "Lista: [10, 10, 10, 10, 10]\n",
            "\n",
            "Lista: [10, 10, 10, 10, 10]\n",
            "\n",
            "Cópia: [111, 10, 10, 10, 10]\n"
          ]
        }
      ]
    },
    {
      "cell_type": "markdown",
      "metadata": {
        "id": "__7s0NFowp8f"
      },
      "source": [
        "> ## **Seleção de valores (recortes):**"
      ]
    },
    {
      "cell_type": "code",
      "metadata": {
        "colab": {
          "base_uri": "https://localhost:8080/"
        },
        "id": "GuW3B-Ybw0k3",
        "outputId": "22f1261a-d1e6-4a05-a0f9-57a49998e245"
      },
      "source": [
        "lista = [v for v in range(10)]\n",
        "print(lista)  # lista inteira\n",
        "print(lista[5:])  # do 6º até o fim\n",
        "print(lista[:5])  # do 1º ao 5º\n",
        "print(lista[2:5])  # do 3º ao 5º\n",
        "print(lista[-3:])  # os 3 últimos"
      ],
      "execution_count": null,
      "outputs": [
        {
          "output_type": "stream",
          "name": "stdout",
          "text": [
            "[0, 1, 2, 3, 4, 5, 6, 7, 8, 9]\n",
            "[5, 6, 7, 8, 9]\n",
            "[0, 1, 2, 3, 4]\n",
            "[2, 3, 4]\n",
            "[7, 8, 9]\n"
          ]
        }
      ]
    },
    {
      "cell_type": "markdown",
      "metadata": {
        "id": "HPF8-A5Byrq_"
      },
      "source": [
        "> ## **Exercícios:**\n",
        "---\n",
        "---"
      ]
    },
    {
      "cell_type": "markdown",
      "metadata": {
        "id": "d-BXJO5Ty-sx"
      },
      "source": [
        "> ### `1.` Ler 7 valores inteiros, armazená-los em uma lista e, em seguida, calcular e mostrar: o menor valor, o maior valor e a média aritmética de todos os números."
      ]
    },
    {
      "cell_type": "code",
      "metadata": {
        "colab": {
          "base_uri": "https://localhost:8080/"
        },
        "id": "YNf-IW5dzXNK",
        "outputId": "1d3790f3-7806-4abf-9c00-3253b0b7c636"
      },
      "source": [
        "'''\n",
        "lis = [0] * 7       # leitura com uma lista já criada\n",
        "for i in range(7):\n",
        "    lis[i] = int(input(f'Lista[{i}]: '))\n",
        "'''\n",
        "\n",
        "lis = []\n",
        "for i in range(7):\n",
        "    lis.append(int(input(f'{i + 1}º valor: ')))\n",
        "\n",
        "# ou ainda: lis = [int(input(f'{i + 1}º valor: ')) for i in range(7)]\n",
        "\n",
        "'''\n",
        "me = ma = lis[0]  # menor recebe primeiro\n",
        "for i in range(1, 7):\n",
        "    if lis[i] < me:  # troca se for menor\n",
        "        me = lis[i]\n",
        "    elif lis[i] > ma:  # troca se for maior\n",
        "        ma = lis[i]\n",
        "'''\n",
        "'''\n",
        "me = ma = lis[0]  # menor recebe primeiro\n",
        "for v in lis[1:]:\n",
        "    if v < me:  # troca se for menor\n",
        "        me = v\n",
        "    elif v > ma:  # troca se for maior\n",
        "        ma = v\n",
        "'''\n",
        "\n",
        "me = min(lis)  # calcula o menor da lista\n",
        "ma = max(lis)  # calcula o maior da lista\n",
        "\n",
        "print(f'\\nMenor = {me}')\n",
        "print(f'\\nMaior = {ma}')\n",
        "\n",
        "'''\n",
        "s = 0\n",
        "for i in range(7):\n",
        "    s += lis[i]\n",
        "'''\n",
        "'''\n",
        "s = 0\n",
        "for v in lis:\n",
        "    s += v\n",
        "'''\n",
        "\n",
        "ma = sum(lis) / len(lis)  # sum soma todos da lista e len a qtde de elementos\n",
        "\n",
        "print(f'\\nMédia aritmética = {ma:.3f}')"
      ],
      "execution_count": null,
      "outputs": [
        {
          "output_type": "stream",
          "name": "stdout",
          "text": [
            "1º valor: 2\n",
            "2º valor: 2\n",
            "3º valor: 2\n",
            "4º valor: 2\n",
            "5º valor: 15\n",
            "6º valor: 5\n",
            "7º valor: 0\n",
            "\n",
            "Menor = 0\n",
            "\n",
            "Maior = 15\n",
            "\n",
            "Média aritmética = 4.000\n"
          ]
        }
      ]
    },
    {
      "cell_type": "markdown",
      "metadata": {
        "id": "dQ7mWkFD7VtZ"
      },
      "source": [
        "> ### `2.` Ler uma lista com 6 valores inteiros e, em seguida, mostrar os valores separados por vírgula, sem sobrar vírgulas no início ou no final.\n",
        "### Ex.:\n",
        "### Lista = 1, 3, 6, 0, 2, 6"
      ]
    },
    {
      "cell_type": "code",
      "metadata": {
        "id": "F9vosPgn7hew",
        "colab": {
          "base_uri": "https://localhost:8080/"
        },
        "outputId": "61c48136-821c-4b84-9479-4434119393b4"
      },
      "source": [
        "lis = []\n",
        "for i in range(6):\n",
        "    lis.append(int(input(f'{i + 1}º valor: ')))\n",
        "\n",
        "print(f'\\nLista = {lis[0]}', end='')\n",
        "for i in range(1, 6):\n",
        "    print(f', {lis[i]}', end='')"
      ],
      "execution_count": null,
      "outputs": [
        {
          "output_type": "stream",
          "name": "stdout",
          "text": [
            "1º valor: 1\n",
            "2º valor: 4\n",
            "3º valor: 8\n",
            "4º valor: 76\n",
            "5º valor: 9\n",
            "6º valor: 34\n",
            "\n",
            "Lista = 1, 4, 8, 76, 9, 34"
          ]
        }
      ]
    },
    {
      "cell_type": "markdown",
      "metadata": {
        "id": "4V-ar2GH8IzP"
      },
      "source": [
        "> ### `3.` Ler uma lista com 7 valores inteiros e, após as leituras, ler um inteiro qualquer (X), buscar pelo primeiro valor igual a X na lista e mostrar sua posição (índice). Caso não encontre X, o programa deve mostrar -1 como posição.\n",
        "### `Ex. 1`: encontrou o valor.\n",
        "    Vet = 1  2  3  4  5  6  7\n",
        "    X = 5\n",
        "    Posicao (índice) = 4\n",
        "\n",
        "### `Ex. 2`: não encontrou o valor.\n",
        "    Vet = 6  2  8  4  2  6  9\n",
        "    X = 10\n",
        "    Posicao (índice) = -1"
      ]
    },
    {
      "cell_type": "code",
      "metadata": {
        "id": "AnD9YLpQ848B",
        "colab": {
          "base_uri": "https://localhost:8080/"
        },
        "outputId": "764ed907-14c0-47fa-d83b-6489476d1285"
      },
      "source": [
        "lis = []\n",
        "for i in range(7):\n",
        "    lis.append(int(input(f'{i + 1}º valor: ')))\n",
        "x = int(input('\\nDigite um valor inteiro para busca: '))\n",
        "\n",
        "pos = -1  # -1 indica que não encontrou\n",
        "for i, v in enumerate(lis):\n",
        "    if x == v:\n",
        "        pos = i  # armazena a posição (índice)\n",
        "        break\n",
        "\n",
        "print(f'\\nPosição (índice) = {pos}')"
      ],
      "execution_count": null,
      "outputs": [
        {
          "output_type": "stream",
          "name": "stdout",
          "text": [
            "1º valor: 3\n",
            "2º valor: 2\n",
            "3º valor: 7\n",
            "4º valor: 5\n",
            "5º valor: 9\n",
            "6º valor: 8\n",
            "7º valor: 2\n",
            "\n",
            "Digite um valor inteiro para busca: 2\n",
            "\n",
            "Posição (índice) = 1\n"
          ]
        }
      ]
    },
    {
      "cell_type": "markdown",
      "metadata": {
        "id": "ODIBmNt21_Dl"
      },
      "source": [
        "> ### `Extra:` modificar o programa para armazenar as posições (índices) de todas as ocorrências e mostrá-las no final."
      ]
    },
    {
      "cell_type": "code",
      "metadata": {
        "id": "dUeNZHGb2O7L",
        "colab": {
          "base_uri": "https://localhost:8080/"
        },
        "outputId": "2d669e6a-8364-4384-c395-726ffde3616c"
      },
      "source": [
        "lis = []\n",
        "for i in range(7):\n",
        "    lis.append(int(input(f'{i + 1}º valor: ')))\n",
        "x = int(input('\\nDigite um valor inteiro para busca: '))\n",
        "\n",
        "lis_pos = []  # lista de posições (vazia inicialmente)\n",
        "for i, v in enumerate(lis):\n",
        "    if x == v:\n",
        "        lis_pos.append(i)  # armazena na lista a posição (índice)\n",
        "\n",
        "print(f'\\nLista com as posições (índices) = {lis_pos}')"
      ],
      "execution_count": null,
      "outputs": [
        {
          "output_type": "stream",
          "name": "stdout",
          "text": [
            "1º valor: 3\n",
            "2º valor: 1\n",
            "3º valor: 2\n",
            "4º valor: 3\n",
            "5º valor: 3\n",
            "6º valor: 6\n",
            "7º valor: 3\n",
            "\n",
            "Digite um valor inteiro para busca: 3\n",
            "\n",
            "Lista com as posições (índices) = [0, 3, 4, 6]\n"
          ]
        }
      ]
    },
    {
      "cell_type": "markdown",
      "metadata": {
        "id": "92KhXYHV2wFN"
      },
      "source": [
        "> ### `4.` Ler uma lista com 5 valores inteiros e não permitir a entrada de valores repetidos. Sempre que isso ocorrer, não avançar para o próximo valor (índice) e mostrar uma msg.\n",
        "\n",
        "### Exemplo:\n",
        "\n",
        "    1º Valor: 10\n",
        "    2º Valor: 10\n",
        "    Valor já inserido. Digite novamente...\n",
        "    2º Valor: "
      ]
    },
    {
      "cell_type": "code",
      "metadata": {
        "colab": {
          "base_uri": "https://localhost:8080/"
        },
        "id": "eugZg-oM4DI9",
        "outputId": "fb68fdbe-1f54-4963-eabf-c7c3d9b41a38"
      },
      "source": [
        "'''\n",
        "lis = [0] * 5\n",
        "i = 0\n",
        "while i < 5:\n",
        "    lis[i] = int(input(f'{i + 1}º valor: '))\n",
        "    achou = False\n",
        "    for j in range(i):  #  busca pelo valor nos valores já digitados\n",
        "        if lis[i] == lis[j]:\n",
        "            achou = True\n",
        "            break\n",
        "    if not achou:\n",
        "        i += 1\n",
        "    else:\n",
        "        print('Valor já digitado. Digite novamente...')\n",
        "'''\n",
        "\n",
        "lis = []\n",
        "i = 0\n",
        "while i < 5:\n",
        "    v = int(input(f'{i + 1}º valor: '))\n",
        "    if v not in lis:\n",
        "        lis.append(v)\n",
        "        i += 1\n",
        "    else:\n",
        "        print('Valor já digitado. Digite novamente...')\n",
        "\n",
        "print(f'\\nLista = {lis}')"
      ],
      "execution_count": null,
      "outputs": [
        {
          "output_type": "stream",
          "name": "stdout",
          "text": [
            "1º valor: 1\n",
            "2º valor: 2\n",
            "3º valor: 3\n",
            "4º valor: 3\n",
            "Valor já digitado. Digite novamente...\n",
            "4º valor: 2\n",
            "Valor já digitado. Digite novamente...\n",
            "4º valor: 4\n",
            "5º valor: 4\n",
            "Valor já digitado. Digite novamente...\n",
            "5º valor: 1\n",
            "Valor já digitado. Digite novamente...\n",
            "5º valor: 5\n",
            "\n",
            "Lista = [1, 2, 3, 4, 5]\n"
          ]
        }
      ]
    },
    {
      "cell_type": "markdown",
      "metadata": {
        "id": "nOS_Jn6P4A3h"
      },
      "source": [
        "> ### `5.` Gerar uma lista com 10 números inteiros aleatórios entre 1 e 100 e, em seguida, separar os valores pares e ímpares em duas listas. Mostrar as 3 listas no final."
      ]
    },
    {
      "cell_type": "code",
      "metadata": {
        "id": "_9xSzhms4Afi",
        "colab": {
          "base_uri": "https://localhost:8080/"
        },
        "outputId": "4c6778d3-42fd-493c-9fae-0623f15da468"
      },
      "source": [
        "from random import randint\n",
        "\n",
        "'''\n",
        "lista = [0] * 10\n",
        "for i in range(10):\n",
        "    lista[i] = randint(1, 100)\n",
        "\n",
        "par = [0] * 10\n",
        "cp = 0\n",
        "for i in range(10):\n",
        "    if lista[i] % 2 == 0:\n",
        "        par[cp] = lista[i]\n",
        "        cp += 1\n",
        "\n",
        "print(par)\n",
        "for i in range(cp):\n",
        "    print(par[i])\n",
        "'''\n",
        "\n",
        "lista = [randint(1, 100) for _ in range(10)]\n",
        "\n",
        "par, impar = [], []\n",
        "for v in lista:\n",
        "    par.append(v) if v % 2 == 0 else impar.append(v)\n",
        "\n",
        "'''\n",
        "par = [v for v in lista if v % 2 == 0]\n",
        "impar = [v for v in lista if v % 2 != 0]\n",
        "'''\n",
        "\n",
        "print(f'Lista: {lista}')\n",
        "print(f'\\nPares: {par}')\n",
        "print(f'\\nÍmpares: {impar}')"
      ],
      "execution_count": null,
      "outputs": [
        {
          "output_type": "stream",
          "name": "stdout",
          "text": [
            "Lista: [20, 40, 63, 30, 61, 1, 78, 84, 95, 19]\n",
            "\n",
            "Pares: [20, 40, 30, 78, 84]\n",
            "\n",
            "Ímpares: [63, 61, 1, 95, 19]\n"
          ]
        }
      ]
    },
    {
      "cell_type": "markdown",
      "metadata": {
        "id": "BXSR6pQo4Pxn"
      },
      "source": [
        "> ### `6.` Ler uma lista com 7 valores inteiros e, após as leituras, calcular e mostrar:\n",
        " + ### O menor valor da lista;\n",
        " + ### A qtde de valores iguais ao menor."
      ]
    },
    {
      "cell_type": "code",
      "metadata": {
        "id": "WB2l5f7o4fq5",
        "colab": {
          "base_uri": "https://localhost:8080/"
        },
        "outputId": "8d467b93-a883-407f-a7ff-359be30b68b7"
      },
      "source": [
        "lis = []\n",
        "for i in range(7):\n",
        "    lis.append(int(input(f'{i + 1}º valor: ')))\n",
        "\n",
        "'''\n",
        "me = lis[0]\n",
        "for v in lis[1:]:\n",
        "    if v < me:\n",
        "        me = v\n",
        "'''\n",
        "\n",
        "me = min(lis)\n",
        "print(f'\\nMenor valor = {me}')\n",
        "\n",
        "'''\n",
        "qim = 0\n",
        "for v in lis:\n",
        "    if v == me:\n",
        "        qim += 1\n",
        "'''\n",
        "\n",
        "qim = lis.count(me)\n",
        "print(f'\\nQtde de valores iguais ao menor = {qim}')"
      ],
      "execution_count": null,
      "outputs": [
        {
          "output_type": "stream",
          "name": "stdout",
          "text": [
            "1º valor: -1\n",
            "2º valor: 2\n",
            "3º valor: -1\n",
            "4º valor: 4\n",
            "5º valor: -1\n",
            "6º valor: -1\n",
            "7º valor: 5\n",
            "\n",
            "Menor valor = -1\n",
            "\n",
            "Qtde de valores iguais ao menor = 4\n"
          ]
        }
      ]
    },
    {
      "cell_type": "markdown",
      "metadata": {
        "id": "0AxVqZr8489V"
      },
      "source": [
        "> ### `7.` Gerar uma lista com 20 valores aleatórios entre 10 e 20 e, em seguida, calcular e mostrar (em ordem crescente) a qtde de ocorrências de cada valor dentro da lista (não repetir valores já mostrados)."
      ]
    },
    {
      "cell_type": "code",
      "metadata": {
        "id": "kYu9gU0a5e3E",
        "colab": {
          "base_uri": "https://localhost:8080/"
        },
        "outputId": "f617d047-0877-4ac3-8268-50e858cc0dfc"
      },
      "source": [
        "from random import randint\n",
        "\n",
        "lis = [randint(10, 20) for _ in range(20)]\n",
        "lis.sort()\n",
        "print(f'Lista: {lis}\\n')\n",
        "print('Valores e quantidades:\\n')\n",
        "ach = []  # lista de achados\n",
        "for v in lis:\n",
        "    if v not in ach:\n",
        "        print(f'{v}: {lis.count(v)}x')\n",
        "        ach.append(v)"
      ],
      "execution_count": null,
      "outputs": [
        {
          "output_type": "stream",
          "name": "stdout",
          "text": [
            "Lista: [10, 10, 10, 11, 11, 12, 12, 13, 13, 13, 13, 13, 14, 15, 16, 19, 19, 20, 20, 20]\n",
            "\n",
            "Valores e quantidades:\n",
            "\n",
            "10: 3x\n",
            "11: 2x\n",
            "12: 2x\n",
            "13: 5x\n",
            "14: 1x\n",
            "15: 1x\n",
            "16: 1x\n",
            "19: 2x\n",
            "20: 3x\n"
          ]
        }
      ]
    },
    {
      "cell_type": "markdown",
      "metadata": {
        "id": "YdZ9NuR6DBTC"
      },
      "source": [
        "> ### `8.` Criar um programa para gerar uma lista com `10 valores` inteiros **distintos** e aleatórios entre 1 e 100. Depois, gerar outra lista com `20 valores` aleatórios entre 1 e 100, também **distintos**. Após a criação das listas, ordená-las em ordem crescente e criar uma terceira lista com os valores presentes em ambas as listas (1ª e 2ª), ou seja, presente tanto na primeira como na segunda lista. Mostrar as 3 listas no final do programa."
      ]
    },
    {
      "cell_type": "code",
      "metadata": {
        "id": "vnv3qJ-6DDfY",
        "colab": {
          "base_uri": "https://localhost:8080/"
        },
        "outputId": "9e26fefd-070c-4b69-8e3a-f54e03037830"
      },
      "source": [
        "from random import sample\n",
        "\n",
        "'''\n",
        "lis1 = []\n",
        "for _ in range(10):\n",
        "    while True:\n",
        "        v = randint(1, 100)\n",
        "        if v not in lis1:\n",
        "            lis1.append(v)\n",
        "            break\n",
        "'''\n",
        "\n",
        "lis1 = sample(range(1, 101), 10)  # gera uma lista com 10 números distintos entre 1 e 100\n",
        "lis1.sort()\n",
        "lis2 = sample(range(1, 101), 20)  # gera com 20 números\n",
        "lis2.sort()\n",
        "\n",
        "'''\n",
        "lis3 = []\n",
        "for i in range(10):\n",
        "    achou = False\n",
        "    for j in range(20):\n",
        "        if lis1[i] == lis2[j]:\n",
        "            achou = True\n",
        "            break\n",
        "    if achou:\n",
        "        lis3.append(lis1[i])\n",
        "'''\n",
        "\n",
        "lis3 = []\n",
        "for v in lis1:\n",
        "    if v in lis2:\n",
        "        lis3.append(v)\n",
        "\n",
        "print(f'Lista 1: {lis1}')\n",
        "print(f'\\nLista 2: {lis2}')\n",
        "print(f'\\nLista 3 = {lis3}')"
      ],
      "execution_count": null,
      "outputs": [
        {
          "output_type": "stream",
          "name": "stdout",
          "text": [
            "Lista 1: [4, 27, 46, 48, 50, 54, 56, 59, 98, 99]\n",
            "\n",
            "Lista 2: [8, 15, 30, 32, 38, 39, 47, 50, 51, 55, 58, 59, 65, 73, 74, 76, 78, 83, 96, 97]\n",
            "\n",
            "Lista 3 = [50, 59]\n"
          ]
        }
      ]
    },
    {
      "cell_type": "markdown",
      "metadata": {
        "id": "ykADcUBIGsYg"
      },
      "source": [
        "> ## `Resumo das operações com listas` (métodos e funções):"
      ]
    },
    {
      "cell_type": "code",
      "metadata": {
        "colab": {
          "base_uri": "https://localhost:8080/"
        },
        "id": "7_X4NubeGvyC",
        "outputId": "0061e273-5c28-4f6d-9acb-c6f98a114873"
      },
      "source": [
        "lis = []  # criar uma lista vazia\n",
        "lis = [1, 2, 3, 4, 5]  # criar uma lista com valores pré-inseridos\n",
        "lis = [0] * 10  # criar uma lista com 10 zeros\n",
        "lis = [x for x in range(10)]  # criar a lista: [0, 1, 2, 3, 4, 5, 6, 7, 8, 9]\n",
        "copia = lis[:]  # copiar a lista lis para copia\n",
        "copia = lis.copy()  # copiar a lista lis para copia\n",
        "print(copia)\n",
        "print(copia[1:4])  # mostra o recorte da lista entre o 2º e o 4º valor\n",
        "lis.append(10)  # inserir no final da lista o valor 10\n",
        "print(lis)\n",
        "val = lis.pop()  # retirar da lista o valor final (val recebe o último da lista)\n",
        "print(val, lis)\n",
        "val = lis.pop(0)  # retirar o primeiro da lista (o índice deve ser passado)\n",
        "print(val, lis)\n",
        "lis.insert(4, 99)  # inserir 99 na posição (índice) 4 (5º posição)\n",
        "print(lis)\n",
        "lis = [6, 2, 9, 0, 2, 6, 7, 3]\n",
        "print(f'Lista desordenada = {lis}')\n",
        "tam = len(lis)  # calcular o tamanho da lista (nº de elementos)\n",
        "print(tam, 'elementos')\n",
        "novalis = sorted(lis)  # criar uma nova lista ordenada da lista passada com parâmetro (lis)\n",
        "print(f'Lista desordenada = {lis} e lista ordenada = {novalis}')\n",
        "lis.sort()  # ordenar a lista (a lista será alterada)\n",
        "print(f'Lista ordenada = {lis}')\n",
        "me, ma, soma = min(lis), max(lis), sum(lis)  # calcular menor, maior e a soma dos valores de uma lista\n",
        "print('Menor =', me, 'Maior =', ma, 'Soma =', soma)\n",
        "cont = lis.count(2)  # calcular a qtde de elementos iguais ao 2\n",
        "print('Qtde iguais ao 2 =', cont)\n",
        "if 3 in lis:  # verifica se o valor 3 está contido na lista lis\n",
        "    print('3 está contido na lista')\n",
        "if 5 not in lis:  # verifica se o 5 NÃO está contido na lista lis\n",
        "    print('SIM')\n",
        "else:\n",
        "    print('NÃO')\n",
        "lis1 = [1, 2, 3]\n",
        "lis2 = [4, 5, 6, 7, 8]\n",
        "lis3 = lis1 + lis2  # soma de listas resulta em outra lista com os valores reunidos\n",
        "print(f'Lista (listas somadas): {lis3}')"
      ],
      "execution_count": null,
      "outputs": [
        {
          "output_type": "stream",
          "name": "stdout",
          "text": [
            "[0, 1, 2, 3, 4, 5, 6, 7, 8, 9]\n",
            "[1, 2, 3]\n",
            "[0, 1, 2, 3, 4, 5, 6, 7, 8, 9, 10]\n",
            "10 [0, 1, 2, 3, 4, 5, 6, 7, 8, 9]\n",
            "0 [1, 2, 3, 4, 5, 6, 7, 8, 9]\n",
            "[1, 2, 3, 4, 99, 5, 6, 7, 8, 9]\n",
            "Lista desordenada = [6, 2, 9, 0, 2, 6, 7, 3]\n",
            "8 elementos\n",
            "Lista desordenada = [6, 2, 9, 0, 2, 6, 7, 3] e lista ordenada = [0, 2, 2, 3, 6, 6, 7, 9]\n",
            "Lista ordenada = [0, 2, 2, 3, 6, 6, 7, 9]\n",
            "Menor = 0 Maior = 9 Soma = 35\n",
            "Qtde iguais ao 2 = 2\n",
            "3 está contido na lista\n",
            "SIM\n",
            "Lista (listas somadas): [1, 2, 3, 4, 5, 6, 7, 8]\n"
          ]
        }
      ]
    },
    {
      "cell_type": "markdown",
      "metadata": {
        "id": "zMnUkZgo4sO7"
      },
      "source": [
        "> # **Listas de listas numéricas** (Matrizes).\n",
        "---\n",
        "---"
      ]
    },
    {
      "cell_type": "markdown",
      "metadata": {
        "id": "XPcmLBvy5RVY"
      },
      "source": [
        "> ## Criação e apresentação (mostrar) de matrizes:"
      ]
    },
    {
      "cell_type": "code",
      "metadata": {
        "colab": {
          "base_uri": "https://localhost:8080/"
        },
        "id": "3TtV6J_j5Vye",
        "outputId": "2f62fab4-7b8a-4907-9e3f-684360abc133"
      },
      "source": [
        "# Criar uma matriz 3x3 (3 linhas e 3 colunas) com zeros\n",
        "\n",
        "mat = [[0, 0, 0],\n",
        "       [0, 0, 0],\n",
        "       [0, 0, 0]]\n",
        "print(f'Matriz = {mat}')"
      ],
      "execution_count": null,
      "outputs": [
        {
          "output_type": "stream",
          "name": "stdout",
          "text": [
            "Matriz = [[0, 0, 0], [0, 0, 0], [0, 0, 0]]\n"
          ]
        }
      ]
    },
    {
      "cell_type": "code",
      "metadata": {
        "colab": {
          "base_uri": "https://localhost:8080/"
        },
        "id": "nv8B5gnd64Oi",
        "outputId": "e7151434-1566-46bf-e1f6-7da5f83a9990"
      },
      "source": [
        "# o mesmo de outra forma\n",
        "\n",
        "mat = [[0] * 3 for i in range(3)]  # cria uma matriz 3x3 onde i representa as linhas\n",
        "print(f'Matriz = {mat}')"
      ],
      "execution_count": null,
      "outputs": [
        {
          "output_type": "stream",
          "name": "stdout",
          "text": [
            "Matriz = [[0, 0, 0], [0, 0, 0], [0, 0, 0]]\n"
          ]
        }
      ]
    },
    {
      "cell_type": "code",
      "metadata": {
        "colab": {
          "base_uri": "https://localhost:8080/"
        },
        "id": "L0grLzZB-Voj",
        "outputId": "9da64ac6-4f3f-4929-c524-1f54ae00fdec"
      },
      "source": [
        "# mostrar uma matriz linha por linha\n",
        "\n",
        "mat = [[9] * 3 for i in range(5)]\n",
        "\n",
        "'''\n",
        "print('Matriz:')\n",
        "for i in range(5):\n",
        "    print(mat[i])  # i é a linha\n",
        "'''\n",
        "\n",
        "print('Matriz:')\n",
        "for lin in mat:  # mostra a matriz linha por linha\n",
        "    print(lin)\n",
        "\n",
        "print('\\nMatriz:')\n",
        "for i in range(5):  # i é linha\n",
        "    for j in range(3):  # j é coluna\n",
        "        print(mat[i][j], end=' ')\n",
        "    print()\n",
        "\n",
        "print('\\nMatriz:')\n",
        "for lin in mat:  # lin recebe uma linha\n",
        "    for v in lin:  # v recebe valor por valor da linha (lin)\n",
        "        print(v, end=' ')\n",
        "    print()"
      ],
      "execution_count": null,
      "outputs": [
        {
          "output_type": "stream",
          "name": "stdout",
          "text": [
            "Matriz:\n",
            "[9, 9, 9]\n",
            "[9, 9, 9]\n",
            "[9, 9, 9]\n",
            "[9, 9, 9]\n",
            "[9, 9, 9]\n",
            "\n",
            "Matriz:\n",
            "9 9 9 \n",
            "9 9 9 \n",
            "9 9 9 \n",
            "9 9 9 \n",
            "9 9 9 \n",
            "\n",
            "Matriz:\n",
            "9 9 9 \n",
            "9 9 9 \n",
            "9 9 9 \n",
            "9 9 9 \n",
            "9 9 9 \n"
          ]
        }
      ]
    },
    {
      "cell_type": "markdown",
      "metadata": {
        "id": "oHhbQdzJD8G6"
      },
      "source": [
        "> ## Atribuição e leitura de valores em matrizes:"
      ]
    },
    {
      "cell_type": "code",
      "metadata": {
        "colab": {
          "base_uri": "https://localhost:8080/"
        },
        "id": "0thKM2WUyitd",
        "outputId": "f9311160-09a7-454f-af89-b9953a02d96c"
      },
      "source": [
        "# Atribuição direta a posições da matriz\n",
        "\n",
        "mat = [[0] * 4 for i in range(5)]\n",
        "mat[0][0] = -1  # linha 0 e coluna 0\n",
        "mat[2][2] = 99\n",
        "mat[4][3] = 1000\n",
        "\n",
        "print('Matriz:')\n",
        "for lin in mat:\n",
        "    print(lin)"
      ],
      "execution_count": null,
      "outputs": [
        {
          "output_type": "stream",
          "name": "stdout",
          "text": [
            "Matriz:\n",
            "[-1, 0, 0, 0]\n",
            "[0, 0, 0, 0]\n",
            "[0, 0, 99, 0]\n",
            "[0, 0, 0, 0]\n",
            "[0, 0, 0, 1000]\n"
          ]
        }
      ]
    },
    {
      "cell_type": "code",
      "metadata": {
        "colab": {
          "base_uri": "https://localhost:8080/"
        },
        "id": "u2VE_ePJz2AA",
        "outputId": "fcd30b81-2e07-4e2c-c133-6d84691821ae"
      },
      "source": [
        "# Leitura de dados em uma matriz\n",
        "\n",
        "mat = [[0] * 3 for i in range(2)]  # matriz 2x3\n",
        "for i in range(2):  # for da linha\n",
        "    for j in range(3):  # for da coluna\n",
        "        mat[i][j] = int(input(f'Mat[{i}][{j}]: '))\n",
        "    print()\n",
        "\n",
        "print('Matriz:')\n",
        "for lin in mat:\n",
        "    print(lin)"
      ],
      "execution_count": null,
      "outputs": [
        {
          "output_type": "stream",
          "name": "stdout",
          "text": [
            "Mat[0][0]: 4\n",
            "Mat[0][1]: 2\n",
            "Mat[0][2]: 8\n",
            "\n",
            "Mat[1][0]: 4\n",
            "Mat[1][1]: 9\n",
            "Mat[1][2]: 2\n",
            "\n",
            "Matriz:\n",
            "[4, 2, 8]\n",
            "[4, 9, 2]\n"
          ]
        }
      ]
    },
    {
      "cell_type": "code",
      "metadata": {
        "colab": {
          "base_uri": "https://localhost:8080/"
        },
        "id": "JSeKmJjB344j",
        "outputId": "5b4039ce-bfb2-4831-90bf-7a1ebb51e5c5"
      },
      "source": [
        "# Outra forma: usando append\n",
        "\n",
        "mat = []\n",
        "for i in range(2):  # for da linha\n",
        "    lin = []\n",
        "    for j in range(3):  # for da coluna\n",
        "        lin.append(int(input(f'Mat[{i}][{j}]: ')))  # leitura da linha\n",
        "    mat.append(lin)  # insere a linha na matriz\n",
        "    print()\n",
        "\n",
        "print('Matriz:')\n",
        "for lin in mat:\n",
        "    print(lin)"
      ],
      "execution_count": null,
      "outputs": [
        {
          "output_type": "stream",
          "name": "stdout",
          "text": [
            "Mat[0][0]: 3\n",
            "Mat[0][1]: 2\n",
            "Mat[0][2]: 6\n",
            "\n",
            "Mat[1][0]: 7\n",
            "Mat[1][1]: 8\n",
            "Mat[1][2]: 2\n",
            "\n",
            "Matriz:\n",
            "[3, 2, 6]\n",
            "[7, 8, 2]\n"
          ]
        }
      ]
    },
    {
      "cell_type": "markdown",
      "metadata": {
        "id": "pxVkbRhk5L4m"
      },
      "source": [
        "> ### `Extra`: teste de performance dos dois algoritmos de atribuição de valores a uma matriz."
      ]
    },
    {
      "cell_type": "code",
      "metadata": {
        "colab": {
          "base_uri": "https://localhost:8080/"
        },
        "id": "BYApoRdS5NJf",
        "outputId": "c0828094-2128-416e-977e-0aa8f765c331"
      },
      "source": [
        "from time import time\n",
        "from random import randint\n",
        "\n",
        "t = time()\n",
        "mat = [[0] * 1000 for i in range(1000)]  # matriz 1000x1000\n",
        "for i in range(1000):\n",
        "    for j in range(1000):\n",
        "        mat[i][j] = randint(1, 100)\n",
        "dt = time() - t  # dt é o delta tempo (diferença)\n",
        "print(f'Tempo do algoritmo 1: {dt} s')\n",
        "\n",
        "t = time()\n",
        "mat = []\n",
        "for i in range(1000):\n",
        "    lin = []\n",
        "    for j in range(1000):\n",
        "        lin.append(randint(1, 100))\n",
        "    mat.append(lin)\n",
        "dt = time() - t  # dt é o delta tempo (diferença)\n",
        "print(f'Tempo do algoritmo 2: {dt} s')"
      ],
      "execution_count": null,
      "outputs": [
        {
          "output_type": "stream",
          "name": "stdout",
          "text": [
            "Tempo do algoritmo 1: 1.493278980255127 s\n",
            "Tempo do algoritmo 2: 1.4200525283813477 s\n"
          ]
        }
      ]
    },
    {
      "cell_type": "markdown",
      "metadata": {
        "id": "v_RztqxY7sIG"
      },
      "source": [
        "> ### `Conclusão`: praticamente não há diferença entre os algoritmos."
      ]
    },
    {
      "cell_type": "markdown",
      "metadata": {
        "id": "gYOvI_zk9H4J"
      },
      "source": [
        "> ## **Exercícios:**\n",
        "---\n",
        "---"
      ]
    },
    {
      "cell_type": "markdown",
      "metadata": {
        "id": "zZt9DtgA9QiY"
      },
      "source": [
        "> ### `1.` Ler uma matriz 3x5 de inteiros e, após as leituras, calcular e mostrar:\n",
        "+ ### A média arimética dos valores da matriz.\n",
        "+ ### O menor e o maior valor da matriz.\n",
        "+ ### A qtde de valores negativos contidos na matriz."
      ]
    },
    {
      "cell_type": "code",
      "metadata": {
        "id": "ntMuzOraC9le",
        "colab": {
          "base_uri": "https://localhost:8080/"
        },
        "outputId": "a183f045-8378-45d5-c752-0ee1289f7c0f"
      },
      "source": [
        "# Leitura dos valores da matriz\n",
        "\n",
        "mat = [[0] * 5 for i in range(3)]\n",
        "for i in range(3):\n",
        "    for j in range(5):\n",
        "        mat[i][j] = int(input(f'Mat[{i}][{j}]: '))\n",
        "    print()"
      ],
      "execution_count": null,
      "outputs": [
        {
          "output_type": "stream",
          "name": "stdout",
          "text": [
            "Mat[0][0]: 3\n",
            "Mat[0][1]: 12\n",
            "Mat[0][2]: -4\n",
            "Mat[0][3]: 34\n",
            "Mat[0][4]: 78\n",
            "\n",
            "Mat[1][0]: 0\n",
            "Mat[1][1]: -45\n",
            "Mat[1][2]: 2\n",
            "Mat[1][3]: 34\n",
            "Mat[1][4]: 456\n",
            "\n",
            "Mat[2][0]: 23\n",
            "Mat[2][1]: 100\n",
            "Mat[2][2]: 2\n",
            "Mat[2][3]: 98\n",
            "Mat[2][4]: 4\n",
            "\n"
          ]
        }
      ]
    },
    {
      "cell_type": "code",
      "metadata": {
        "colab": {
          "base_uri": "https://localhost:8080/"
        },
        "id": "wAh-CjaW9YIC",
        "outputId": "7b21373a-d528-4d92-d3a3-8f73ea4fc3b1"
      },
      "source": [
        "# Cálculo do item 1:\n",
        "\n",
        "'''\n",
        "soma = 0\n",
        "for i in range(3):\n",
        "    for j in range(5):\n",
        "        soma += mat[i][j]\n",
        "'''\n",
        "\n",
        "'''\n",
        "soma = 0\n",
        "for lin in mat:\n",
        "    for v in lin:\n",
        "        soma += v\n",
        "'''\n",
        "\n",
        "soma = 0\n",
        "for lin in mat:\n",
        "    soma += sum(lin)\n",
        "\n",
        "ma = soma / 15\n",
        "print(f'Média = {ma:.3f}')"
      ],
      "execution_count": null,
      "outputs": [
        {
          "output_type": "stream",
          "name": "stdout",
          "text": [
            "Média = 53.133\n"
          ]
        }
      ]
    },
    {
      "cell_type": "code",
      "metadata": {
        "colab": {
          "base_uri": "https://localhost:8080/"
        },
        "id": "Me4A78miEGBB",
        "outputId": "4db5b4f5-9c60-4e38-84b8-f988825d8284"
      },
      "source": [
        "# usando a módulo (biblioteca) Numpy\n",
        "\n",
        "import numpy as np\n",
        "\n",
        "npmat = np.array(mat)\n",
        "\n",
        "ma = npmat.sum() / 15\n",
        "print(f'Média = {ma:.3f}')"
      ],
      "execution_count": null,
      "outputs": [
        {
          "output_type": "stream",
          "name": "stdout",
          "text": [
            "Média = 53.133\n"
          ]
        }
      ]
    },
    {
      "cell_type": "code",
      "metadata": {
        "colab": {
          "base_uri": "https://localhost:8080/"
        },
        "id": "szeEoS2w2Hk8",
        "outputId": "6b5e9104-5901-4c8a-e5e6-cd9a056afd1d"
      },
      "source": [
        "# Cálculo do item 2\n",
        "\n",
        "'''\n",
        "me = ma = mat[0][0]\n",
        "for i in range(3):\n",
        "    for j in range(5):\n",
        "        if mat[i][j] < me:\n",
        "            me = mat[i][j]\n",
        "        elif mat[i][j] > ma:\n",
        "            ma = mat[i][j]\n",
        "'''\n",
        "\n",
        "'''\n",
        "me = ma = mat[0][0]\n",
        "for lin in mat:\n",
        "    for v in lin:\n",
        "        if v < me:\n",
        "            me = v\n",
        "        elif v > ma:\n",
        "            ma = v\n",
        "'''\n",
        "\n",
        "lis_me = [min(lin) for lin in mat]  # cria uma lista com os menores de cada linha\n",
        "me = min(lis_me)  # calcula o menor da lista de menores\n",
        "lis_ma = [max(lin) for lin in mat]  # cria uma lista com os maiores de cada linha\n",
        "ma = max(lis_ma)  # calcula o maior da lista de maiores\n",
        "\n",
        "print(f'Menor = {me}\\n\\nMaior = {ma}')"
      ],
      "execution_count": null,
      "outputs": [
        {
          "output_type": "stream",
          "name": "stdout",
          "text": [
            "Menor = -45\n",
            "\n",
            "Maior = 456\n"
          ]
        }
      ]
    },
    {
      "cell_type": "code",
      "metadata": {
        "colab": {
          "base_uri": "https://localhost:8080/"
        },
        "id": "w5eOfbX66IcN",
        "outputId": "1d1124fb-1202-4341-c36a-38a459444ff6"
      },
      "source": [
        "# usando a módulo (biblioteca) Numpy\n",
        "\n",
        "import numpy as np\n",
        "\n",
        "npmat = np.array(mat)\n",
        "\n",
        "me = npmat.min()\n",
        "ma = npmat.max()\n",
        "\n",
        "print(f'Menor = {me}\\n\\nMaior = {ma}')"
      ],
      "execution_count": null,
      "outputs": [
        {
          "output_type": "stream",
          "name": "stdout",
          "text": [
            "Menor = -45\n",
            "\n",
            "Maior = 456\n"
          ]
        }
      ]
    },
    {
      "cell_type": "code",
      "metadata": {
        "colab": {
          "base_uri": "https://localhost:8080/"
        },
        "id": "5zE5p7Mv7FlO",
        "outputId": "d02a7806-e901-4311-dda8-b7eb696b8483"
      },
      "source": [
        "# Cálculo do item 3\n",
        "\n",
        "'''\n",
        "qn = 0\n",
        "for i in range(3):\n",
        "    for j in range(5):\n",
        "        if mat[i][j] < 0:\n",
        "            qn += 1\n",
        "'''\n",
        "\n",
        "qn = 0\n",
        "for lin in mat:\n",
        "    for v in lin:\n",
        "        if v < 0:\n",
        "            qn += 1\n",
        "            \n",
        "print(f'Qtde de negativos = {qn}')"
      ],
      "execution_count": null,
      "outputs": [
        {
          "output_type": "stream",
          "name": "stdout",
          "text": [
            "Qtde de negativos = 2\n"
          ]
        }
      ]
    },
    {
      "cell_type": "markdown",
      "metadata": {
        "id": "px8UywG79S90"
      },
      "source": [
        "> ### `2.` Gerar uma matriz 5x5 de inteiros aleatórios entre 0 e 9 e, em seguida, calcular e mostrar a soma dos valores da diagonal principal e o produto dos valores da diagonal secundária da matriz."
      ]
    },
    {
      "cell_type": "code",
      "metadata": {
        "colab": {
          "base_uri": "https://localhost:8080/"
        },
        "id": "PkOe7Tpg9X1N",
        "outputId": "8b7d85f0-9079-4b7d-a3b3-8ed4d16e27c2"
      },
      "source": [
        "from random import randint\n",
        "\n",
        "'''\n",
        "mat = []\n",
        "for i in range(5):\n",
        "    lin = []\n",
        "    for j in range(5):\n",
        "        lin.append(randint(0, 9))\n",
        "    mat.append(lin)\n",
        "'''\n",
        "\n",
        "mat = [[randint(0, 9) for j in range(5)] for i in range(5)]\n",
        "\n",
        "print('Matriz:')\n",
        "for lin in mat:\n",
        "    print(lin)\n",
        "\n",
        "'''\n",
        "s = 0\n",
        "for i in range(5):\n",
        "    for j in range(5):\n",
        "        if i == j:\n",
        "            s += mat[i][j]\n",
        "'''\n",
        "\n",
        "s = 0\n",
        "for i in range(5):\n",
        "    s += mat[i][i]\n",
        "\n",
        "print(f'\\nSoma da diagonal principal = {s}')\n",
        "\n",
        "'''\n",
        "p = 1\n",
        "for i in range(5):\n",
        "    for j in range(5):\n",
        "        if i + j == 4:\n",
        "            p *= mat[i][j]\n",
        "'''\n",
        "\n",
        "'''\n",
        "p, j = 1, 4\n",
        "for i in range(5):\n",
        "    p *= mat[i][j]\n",
        "    j -= 1\n",
        "'''\n",
        "\n",
        "p = 1\n",
        "for i in range(5):\n",
        "    p *= mat[i][4 - i]\n",
        "     \n",
        "print(f'\\nProduto da diagonal secundária = {p}')"
      ],
      "execution_count": null,
      "outputs": [
        {
          "output_type": "stream",
          "name": "stdout",
          "text": [
            "Matriz:\n",
            "[4, 4, 4, 5, 8]\n",
            "[6, 4, 4, 2, 7]\n",
            "[0, 3, 1, 4, 8]\n",
            "[9, 1, 1, 1, 4]\n",
            "[3, 5, 0, 4, 5]\n",
            "\n",
            "Soma da diagonal principal = 15\n",
            "\n",
            "Produto da diagonal secundária = 48\n"
          ]
        }
      ]
    },
    {
      "cell_type": "markdown",
      "metadata": {
        "id": "rT2NwEKIKSQO"
      },
      "source": [
        "> ### `3.` Ler uma matriz 4x4 de inteiros e, após as leituras, calcular e mostrar a qtde de pares e a qtde de ímpares contidos nessa matriz."
      ]
    },
    {
      "cell_type": "code",
      "metadata": {
        "id": "6aj6dWo9Ka3K",
        "colab": {
          "base_uri": "https://localhost:8080/"
        },
        "outputId": "12cbcac6-2845-4b11-c499-b3d4eb1b50b9"
      },
      "source": [
        "mat = [[0] * 4 for i in range(4)]\n",
        "for i in range(4):\n",
        "    for j in range(4):\n",
        "        mat[i][j] = int(input(f'Mat[{i}][{j}]: '))\n",
        "    print()\n",
        "\n",
        "'''\n",
        "qp = qi = 0\n",
        "for i in range(4):\n",
        "    for j in range(4):\n",
        "        if mat[i][j] % 2 == 0:\n",
        "            qp += 1\n",
        "        else:\n",
        "            qi += 1\n",
        "'''\n",
        "\n",
        "qp = qi = 0\n",
        "for lin in mat:\n",
        "    for v in lin:\n",
        "        if v % 2 == 0:\n",
        "            qp += 1\n",
        "        else:\n",
        "            qi += 1\n",
        "\n",
        "print(f'\\nQtde de pares = {qp}')\n",
        "print(f'\\nQtde de ímpares = {qi}')"
      ],
      "execution_count": null,
      "outputs": [
        {
          "output_type": "stream",
          "name": "stdout",
          "text": [
            "Mat[0][0]: 3\n",
            "Mat[0][1]: 7\n",
            "Mat[0][2]: 6\n",
            "Mat[0][3]: 4\n",
            "\n",
            "Mat[1][0]: 3\n",
            "Mat[1][1]: 2\n",
            "Mat[1][2]: 9\n",
            "Mat[1][3]: 0\n",
            "\n",
            "Mat[2][0]: 12\n",
            "Mat[2][1]: 11\n",
            "Mat[2][2]: 2\n",
            "Mat[2][3]: 3\n",
            "\n",
            "Mat[3][0]: 4\n",
            "Mat[3][1]: 1\n",
            "Mat[3][2]: 6\n",
            "Mat[3][3]: 5\n",
            "\n",
            "\n",
            "Qtde de pares = 8\n",
            "\n",
            "Qtde de ímpares = 8\n"
          ]
        }
      ]
    },
    {
      "cell_type": "markdown",
      "metadata": {
        "id": "SllYCpmvKqEn"
      },
      "source": [
        "> ### `4.` Gerar uma matriz 4x5 com números inteiros e aleatórios entre 1 e 10 e, em seguida, calcular e mostrar:\n",
        "+ ### O menor e o maior valor de cada linha.\n",
        "+ ### A média aritmética de cada linha e inseri-la na 6ª coluna. Mostrar a matriz após o cálculo."
      ]
    },
    {
      "cell_type": "code",
      "metadata": {
        "id": "hJ1sM1wCK3nZ",
        "colab": {
          "base_uri": "https://localhost:8080/"
        },
        "outputId": "11bb44c2-a32f-4b0b-8588-83dcd988a02e"
      },
      "source": [
        "from random import randint\n",
        "\n",
        "mat = [[randint(1, 10) for j in range(5)] for i in range(4)]\n",
        "\n",
        "print('Matriz:')\n",
        "for lin in mat:\n",
        "    print(lin)\n",
        "\n",
        "for i, lin in enumerate(mat):\n",
        "    print(f'\\n{i + 1}ª linha:\\nMenor = {min(lin)}\\nMaior = {max(lin)}')\n",
        "\n",
        "for lin in mat:\n",
        "    lin.append(sum(lin) / len(lin))  # ou dividir por 5\n",
        "\n",
        "print('\\nMatriz com as médias aritméticas de cada linha:')\n",
        "for lin in mat:\n",
        "    print(lin)"
      ],
      "execution_count": null,
      "outputs": [
        {
          "output_type": "stream",
          "name": "stdout",
          "text": [
            "Matriz:\n",
            "[7, 8, 10, 9, 4]\n",
            "[6, 2, 7, 7, 9]\n",
            "[6, 5, 6, 9, 5]\n",
            "[10, 10, 4, 1, 10]\n",
            "\n",
            "1ª linha:\n",
            "Menor = 4\n",
            "Maior = 10\n",
            "\n",
            "2ª linha:\n",
            "Menor = 2\n",
            "Maior = 9\n",
            "\n",
            "3ª linha:\n",
            "Menor = 5\n",
            "Maior = 9\n",
            "\n",
            "4ª linha:\n",
            "Menor = 1\n",
            "Maior = 10\n",
            "\n",
            "Matriz com as médias aritméticas de cada linha:\n",
            "[7, 8, 10, 9, 4, 7.6]\n",
            "[6, 2, 7, 7, 9, 6.2]\n",
            "[6, 5, 6, 9, 5, 6.2]\n",
            "[10, 10, 4, 1, 10, 7.0]\n"
          ]
        }
      ]
    },
    {
      "cell_type": "markdown",
      "metadata": {
        "id": "0_9SjaibLap1"
      },
      "source": [
        "> ### `5.` Gerar uma matriz 5x3 com números inteiros e aleatórios entre 1 e 10 e, em seguida, calcular e mostrar:    \n",
        "+ ### O menor e o maior valor de cada coluna.\n",
        "+ ### Calcular e inserir a média aritmética de cada coluna em uma linha no final da matriz. Mostrar a matriz após o cálculo."
      ]
    },
    {
      "cell_type": "code",
      "metadata": {
        "id": "6f1RPi0QL2Zz",
        "colab": {
          "base_uri": "https://localhost:8080/"
        },
        "outputId": "36bd1b40-e4fa-43c8-a8f3-86acddfccfdf"
      },
      "source": [
        "from random import randint\n",
        "\n",
        "mat = [[randint(1, 10) for j in range(3)] for i in range(5)]\n",
        "\n",
        "print('Matriz:')\n",
        "for lin in mat:\n",
        "    print(lin)\n",
        "\n",
        "med = []\n",
        "for j in range(3):  # for da coluna em primeiro lugar para percorrer coluna por coluna\n",
        "    col = []\n",
        "    for i in range(5):\n",
        "        col.append(mat[i][j])\n",
        "    print(f'\\n{j + 1}ª coluna:\\nMenor = {min(col)}\\nMaior = {max(col)}')\n",
        "    med.append(sum(col) / len(col))\n",
        "mat.append(med)\n",
        "\n",
        "print('\\nMatriz com as médias aritméticas de cada coluna:')\n",
        "for lin in mat:\n",
        "    print(lin)"
      ],
      "execution_count": null,
      "outputs": [
        {
          "output_type": "stream",
          "name": "stdout",
          "text": [
            "Matriz:\n",
            "[9, 6, 5]\n",
            "[10, 4, 4]\n",
            "[7, 1, 5]\n",
            "[9, 4, 1]\n",
            "[5, 8, 10]\n",
            "\n",
            "1ª coluna:\n",
            "Menor = 5\n",
            "Maior = 10\n",
            "\n",
            "2ª coluna:\n",
            "Menor = 1\n",
            "Maior = 8\n",
            "\n",
            "3ª coluna:\n",
            "Menor = 1\n",
            "Maior = 10\n",
            "\n",
            "Matriz com as médias aritméticas de cada coluna:\n",
            "[9, 6, 5]\n",
            "[10, 4, 4]\n",
            "[7, 1, 5]\n",
            "[9, 4, 1]\n",
            "[5, 8, 10]\n",
            "[8.0, 4.6, 5.0]\n"
          ]
        }
      ]
    },
    {
      "cell_type": "markdown",
      "metadata": {
        "id": "Od_CGiQjFfda"
      },
      "source": [
        "> # **Funções (sub-rotinas)**:\n",
        "---\n",
        "---\n",
        "+ ## Blocos de códigos (comandos) inseridos em um programa e identificados por nomes únicos.\n",
        "+ ## Executam tarefas específicas dentro de um programa e podem ser chamadas (executadas) sempre que necessário."
      ]
    },
    {
      "cell_type": "markdown",
      "metadata": {
        "id": "3MPCg33MFnFQ"
      },
      "source": [
        "> ## **Tipos de funções:**\n",
        "---"
      ]
    },
    {
      "cell_type": "markdown",
      "metadata": {
        "id": "54yL9wWOFtFo"
      },
      "source": [
        "> ### **Sem** parâmetros e **sem** retorno:"
      ]
    },
    {
      "cell_type": "code",
      "metadata": {
        "colab": {
          "base_uri": "https://localhost:8080/"
        },
        "id": "1exArYRKFvI4",
        "outputId": "f362271a-1ee1-4fc8-8341-a5ce598961ce"
      },
      "source": [
        "def msg():\n",
        "    print('Ciência da Computação - 2021')\n",
        "\n",
        "# programa principal\n",
        "\n",
        "msg()"
      ],
      "execution_count": null,
      "outputs": [
        {
          "output_type": "stream",
          "name": "stdout",
          "text": [
            "Ciência da Computação - 2021\n"
          ]
        }
      ]
    },
    {
      "cell_type": "markdown",
      "metadata": {
        "id": "CBB2d9fdFvi-"
      },
      "source": [
        "> ### **Sem** parâmetros e **com** retorno:"
      ]
    },
    {
      "cell_type": "code",
      "metadata": {
        "colab": {
          "base_uri": "https://localhost:8080/"
        },
        "id": "k17sDohwF0L9",
        "outputId": "51082fe1-dec1-4bf3-ad93-9ba792b0e1cf"
      },
      "source": [
        "def soma():\n",
        "    a = int(input('A: '))\n",
        "    b = int(input('\\nB: '))\n",
        "    return a + b\n",
        "\n",
        "# programa principal\n",
        "\n",
        "s = soma()\n",
        "print(f'\\nSoma = {s}')"
      ],
      "execution_count": null,
      "outputs": [
        {
          "output_type": "stream",
          "name": "stdout",
          "text": [
            "A: 5\n",
            "\n",
            "B: 6\n",
            "\n",
            "Soma = 11\n"
          ]
        }
      ]
    },
    {
      "cell_type": "markdown",
      "metadata": {
        "id": "Q13BFhgtF0tK"
      },
      "source": [
        "> ### **Com** parâmetros e **sem** retorno:"
      ]
    },
    {
      "cell_type": "code",
      "metadata": {
        "colab": {
          "base_uri": "https://localhost:8080/"
        },
        "id": "nWBBtNejF4T2",
        "outputId": "2bfdfbfa-34ce-4661-cab2-f105a25e2f11"
      },
      "source": [
        "def potencia(pbase, pexp): # base e exp são parâmetros (dados externos passados à função)\n",
        "    p = pbase ** pexp\n",
        "    print(f'{pbase} elevado a {pexp} = {p}')\n",
        "\n",
        "# programa principal\n",
        "\n",
        "potencia(2, 10)\n",
        "potencia(3, 5)\n",
        "b = 5\n",
        "e = 8\n",
        "potencia(b, e)"
      ],
      "execution_count": null,
      "outputs": [
        {
          "output_type": "stream",
          "name": "stdout",
          "text": [
            "2 elevado a 10 = 1024\n",
            "3 elevado a 5 = 243\n",
            "5 elevado a 8 = 390625\n"
          ]
        }
      ]
    },
    {
      "cell_type": "markdown",
      "metadata": {
        "id": "7bqn5MeoF42B"
      },
      "source": [
        "> ### **Com** parâmetros e **com** retorno:"
      ]
    },
    {
      "cell_type": "code",
      "metadata": {
        "colab": {
          "base_uri": "https://localhost:8080/"
        },
        "id": "1s19Y6m0F8cP",
        "outputId": "c1bc549e-19ed-480d-a994-8fdecc8cccd1"
      },
      "source": [
        "def menor3(pa, pb, pc):\n",
        "    return min(pa, pb, pc)\n",
        "\n",
        "# programa principal\n",
        "\n",
        "va = int(input('A: '))\n",
        "vb = int(input('\\nB: '))\n",
        "vc = int(input('\\nC: '))\n",
        "me = menor3(va, vb, vc)\n",
        "print(f'\\nMenor = {me}')\n",
        "\n",
        "if menor3(va, vb, vc) == va:\n",
        "    print('\\nOK')"
      ],
      "execution_count": null,
      "outputs": [
        {
          "output_type": "stream",
          "name": "stdout",
          "text": [
            "A: 3\n",
            "\n",
            "B: 2\n",
            "\n",
            "C: 1\n",
            "\n",
            "Menor = 1\n"
          ]
        }
      ]
    },
    {
      "cell_type": "markdown",
      "metadata": {
        "id": "aME_L7bTGDDk"
      },
      "source": [
        "> ## **Exercícios:**\n",
        "---\n",
        "---"
      ]
    },
    {
      "cell_type": "markdown",
      "metadata": {
        "id": "006tIQkf5NIH"
      },
      "source": [
        "> ### `1.` Criar um programa para calcular e mostrar o comprimento e a área de uma circunferência e o volume de uma esfera usando as fórmulas abaixo. Cada cálculo deve ser feito por uma função (3 funções). O main deve ler o raio, chamar as funções e mostrar os resultados no final.\n",
        "+ ## comp = 2 . PI . raio\n",
        "+ ## area = PI . raio²\n",
        "+ ## vol = 4 . PI. raio³ / 3\n",
        "Onde PI = 3.14"
      ]
    },
    {
      "cell_type": "code",
      "metadata": {
        "colab": {
          "base_uri": "https://localhost:8080/"
        },
        "id": "AWWP0Oqy5amc",
        "outputId": "4242110f-580d-4877-e883-233ec3e77be8"
      },
      "source": [
        "def comp(pr):\n",
        "    return 2 * 3.14 * pr\n",
        "\n",
        "def area(pr):\n",
        "    return 3.14 * pr ** 2\n",
        "\n",
        "def vol(pr):\n",
        "    return 4 * 3.14 * pr ** 3 / 3\n",
        "\n",
        "# programa principalO\n",
        "\n",
        "def main():\n",
        "    r = float(input('Raio (m): '))\n",
        "    c = comp(r)\n",
        "    print(f'\\nComprimento da circunferência = {c:.2f} m')\n",
        "    a = area(r)\n",
        "    print(f'\\nÁrea da circunferência = {a:.2f} m²')\n",
        "    v = vol(r)\n",
        "    print(f'\\nVolume da esfera = {v:.2f} m³')\n",
        "\n",
        "main()"
      ],
      "execution_count": null,
      "outputs": [
        {
          "output_type": "stream",
          "name": "stdout",
          "text": [
            "Raio (m): 1\n",
            "\n",
            "Comprimento da circunferência = 6.28 m\n",
            "\n",
            "Área da circunferência = 3.14 m²\n",
            "\n",
            "Volume da esfera = 4.19 m³\n"
          ]
        }
      ]
    },
    {
      "cell_type": "markdown",
      "metadata": {
        "id": "_mfn9Td4CoiI"
      },
      "source": [
        "> ### `2.` Através do exercício anterior, crie apenas uma função para calcular e retornar os 3 cálculos. O restante permanece igual."
      ]
    },
    {
      "cell_type": "code",
      "metadata": {
        "colab": {
          "base_uri": "https://localhost:8080/"
        },
        "id": "VKnPc8BDC8xd",
        "outputId": "ba58b366-0e11-4197-e797-f54580d7d838"
      },
      "source": [
        "def cav(pr):\n",
        "    return 2 * 3.14 * pr, 3.14 * pr ** 2, 4 * 3.14 * pr ** 3 / 3\n",
        "\n",
        "# programa principal\n",
        "\n",
        "def main():\n",
        "    r = float(input('Raio (m): '))\n",
        "    c, a, v = cav(r)\n",
        "    print(f'\\nComprimento da circunferência = {c:.2f} m')\n",
        "    print(f'\\nÁrea da circunferência = {a:.2f} m²')\n",
        "    print(f'\\nVolume da esfera = {v:.2f} m³')\n",
        "\n",
        "main()"
      ],
      "execution_count": null,
      "outputs": [
        {
          "output_type": "stream",
          "name": "stdout",
          "text": [
            "Raio (m): 1\n",
            "\n",
            "Comprimento da circunferência = 6.28 m\n",
            "\n",
            "Área da circunferência = 3.14 m²\n",
            "\n",
            "Volume da esfera = 4.19 m³\n"
          ]
        }
      ]
    },
    {
      "cell_type": "markdown",
      "metadata": {
        "id": "mka1QE8HEpx3"
      },
      "source": [
        "> ### `3.` Criar uma função para calcular e retornar o **Arranjo** e a **Combinação** de `n`, `m` a `m`, onde `n` e `m` são parâmetros da função. No programa principal, `n` e `m` são fornecidos pelo usuário, a função é chamada e os resultados são mostrados. Use as fórmulas abaixo para realizar os cálculos:\n",
        "+ ### A = n! / (n - m)!\n",
        "+ ### C = n! / (m! . (n - m)!)"
      ]
    },
    {
      "cell_type": "code",
      "metadata": {
        "colab": {
          "base_uri": "https://localhost:8080/"
        },
        "id": "3q1mWL1jLrCD",
        "outputId": "b5674ad8-4aa7-4ed5-befb-bab76cdb0c85"
      },
      "source": [
        "from math import factorial as fat\n",
        "\n",
        "'''\n",
        "def fat(pn):\n",
        "    f = 1\n",
        "    for x in range(2, pn + 1):\n",
        "        f *= x\n",
        "    return f\n",
        "'''\n",
        "\n",
        "def arr_comb(pn, pm):\n",
        "    return fat(pn) / fat(pn - pm), fat(pn) / (fat(pm) * fat(pn - pm))\n",
        "\n",
        "# programa principal\n",
        "\n",
        "def main():\n",
        "    n = int(input('N: '))\n",
        "    m = int(input('\\nM: '))\n",
        "    a, c = arr_comb(n, m)\n",
        "    print(f'\\nArranjo {n}, {m} = {a}')\n",
        "    print(f'\\nCombinação {n}, {m} = {c}')\n",
        "\n",
        "main()"
      ],
      "execution_count": null,
      "outputs": [
        {
          "output_type": "stream",
          "name": "stdout",
          "text": [
            "N: 5\n",
            "\n",
            "M: 3\n",
            "\n",
            "Arranjo 5, 3 = 60.0\n",
            "\n",
            "Combinação 5, 3 = 10.0\n"
          ]
        }
      ]
    },
    {
      "cell_type": "markdown",
      "metadata": {
        "id": "8QE9RiKQLlKS"
      },
      "source": [
        "\n",
        "> ### `4.` Criar um programa com uma função para mostrar os `n` primeiros termos da sequência de Fibonacci (`n` é um parâmetro), onde `n` deve ser fornecido pelo usuário no início do programa principal antes de chamar a função. Os termos da sequência devem ser mostrados pela função.\n",
        "### Exemplo:\n",
        "    fibonacci(10)\n",
        "### Na tela será mostrado:\n",
        "    0 1 1 2 3 5 8 13 21 34"
      ]
    },
    {
      "cell_type": "code",
      "metadata": {
        "colab": {
          "base_uri": "https://localhost:8080/"
        },
        "id": "FjlG47Ip-jz1",
        "outputId": "49d8ae79-246d-4348-ffce-513d03a7d088"
      },
      "source": [
        "def fibonacci(pn):\n",
        "    print(f'\\n{pn} termos da sequência de Fibonacci: ', end='')\n",
        "    a, b = 0, 1\n",
        "    for i in range(pn):\n",
        "        print(a, end=' ')\n",
        "        a, b = b, a + b\n",
        "\n",
        "# programa principal\n",
        "\n",
        "def main():\n",
        "    n = int(input('Número de termos (n): '))\n",
        "    fibonacci(n)\n",
        "\n",
        "main()"
      ],
      "execution_count": null,
      "outputs": [
        {
          "output_type": "stream",
          "name": "stdout",
          "text": [
            "Número de termos (n): 10\n",
            "\n",
            "10 termos da sequência de Fibonacci: 0 1 1 2 3 5 8 13 21 34 "
          ]
        }
      ]
    },
    {
      "cell_type": "markdown",
      "metadata": {
        "id": "0mie7boTM9TU"
      },
      "source": [
        "> ### `Extra`: modificar a função para retornar uma lista com os `n` primeiros termos da sequência de Fibonacci. O programa principal lê o valor de `n`, chama a função e mostra a lista retornada."
      ]
    },
    {
      "cell_type": "code",
      "metadata": {
        "id": "9CfRaYoVNbQw",
        "colab": {
          "base_uri": "https://localhost:8080/"
        },
        "outputId": "dde4f0af-ecdf-44cc-979d-2a13dd1ce98e"
      },
      "source": [
        "def fibonacci(pn):\n",
        "    lis = []\n",
        "    a, b = 0, 1\n",
        "    for i in range(pn):\n",
        "        lis.append(a)\n",
        "        a, b = b, a + b\n",
        "\n",
        "    return lis\n",
        "\n",
        "# programa principal\n",
        "\n",
        "def main():\n",
        "    n = int(input('Número de termos (n): '))\n",
        "    lis_sf = fibonacci(n)\n",
        "    print(f'\\nLista com os {n} termos da sequência de Fibonacci: {lis_sf}')\n",
        "\n",
        "main()"
      ],
      "execution_count": null,
      "outputs": [
        {
          "output_type": "stream",
          "name": "stdout",
          "text": [
            "Número de termos (n): 10\n",
            "\n",
            "Lista com os 10 termos da sequência de Fibonacci: [0, 1, 1, 2, 3, 5, 8, 13, 21, 34]\n"
          ]
        }
      ]
    },
    {
      "cell_type": "markdown",
      "metadata": {
        "id": "h5dB6UVOBlL5"
      },
      "source": [
        "> ### `5.` Criar uma função para receber uma lista com valores inteiros com parâmetro, separar e retornar esses valores em duas listas com os pares e os ímpares. O programa principal deve gerar uma lista com 30 valores aleatórios entre 1 e 100, chamar a função passando a lista como parâmetro, receber os resultados e mostrar as 3 listas no final."
      ]
    },
    {
      "cell_type": "code",
      "metadata": {
        "colab": {
          "base_uri": "https://localhost:8080/"
        },
        "id": "eUdIIl4lCbTA",
        "outputId": "8ff90d8f-1c5b-4548-c0f5-81cbe9dd4576"
      },
      "source": [
        "from random import randint\n",
        "\n",
        "def par_impar(plis):\n",
        "    par, imp = [], []\n",
        "    for v in plis:\n",
        "        par.append(v) if v % 2 == 0 else imp.append(v)\n",
        "\n",
        "    return par, imp\n",
        "\n",
        "# programa principal\n",
        "\n",
        "def main():\n",
        "    lis = [randint(1, 100) for _ in range(30)]\n",
        "    lis_p, lis_i = par_impar(lis)\n",
        "    print(f'Lista geral: {lis}')\n",
        "    print(f'\\nLista com os pares: {lis_p}')\n",
        "    print(f'\\nLista com os ímpares: {lis_i}')\n",
        "\n",
        "main()"
      ],
      "execution_count": null,
      "outputs": [
        {
          "output_type": "stream",
          "name": "stdout",
          "text": [
            "Lista geral: [72, 35, 33, 55, 43, 93, 89, 66, 87, 9, 38, 33, 8, 23, 11, 79, 48, 80, 37, 53, 59, 16, 23, 36, 9, 88, 64, 23, 51, 8]\n",
            "\n",
            "Lista com os pares: [72, 66, 38, 8, 48, 80, 16, 36, 88, 64, 8]\n",
            "\n",
            "Lista com os ímpares: [35, 33, 55, 43, 93, 89, 87, 9, 33, 23, 11, 79, 37, 53, 59, 23, 9, 23, 51]\n"
          ]
        }
      ]
    },
    {
      "cell_type": "markdown",
      "metadata": {
        "id": "ZM63TMzlEDY9"
      },
      "source": [
        "> ### `6.` Criar um programa com uma função que recebe uma lista com valores inteiros e um valor `x` inteiro qualquer (2 parâmetros). A função deve procurar pelo valor `x` dentro da lista e retornar a posição (índice) da primeira ocorrência. Caso não encontre, retorna `-1`. O programa principal deve gerar uma lista com 20 valores inteiros aleatórios entre 1 e 100, ler um valor inteiro qualquer (usuário fornece) e, após a leitura, mostrar a lista, chamar a função passando a lista e o valor inteiro (`x`) como parâmetros e mostrar o resultado da busca no final (posição)."
      ]
    },
    {
      "cell_type": "code",
      "metadata": {
        "colab": {
          "base_uri": "https://localhost:8080/"
        },
        "id": "CaB24FfkEFHA",
        "outputId": "6ed2014c-5b47-4424-d59d-486b5fb292bf"
      },
      "source": [
        "from random import randint\n",
        "\n",
        "def busca(plis, px):\n",
        "    for i, v in enumerate(plis):\n",
        "        if v == px:\n",
        "            return i  # retorna a posição (índice) da 1ª ocorrência de px na lista\n",
        "    \n",
        "    return -1  # não encontrado\n",
        "\n",
        "# programa principal\n",
        "\n",
        "def main():\n",
        "    lis = [randint(1, 100) for _ in range(20)]\n",
        "    x = int(input('Valor a ser encontrado: '))\n",
        "    p = busca(lis, x)\n",
        "    print(f'\\nLista: {list(enumerate(lis))}')\n",
        "    print(f'\\nPosição (1ª ocorrência) de {x} na lista (-1: não encontrado): {p}')\n",
        "\n",
        "main()"
      ],
      "execution_count": null,
      "outputs": [
        {
          "output_type": "stream",
          "name": "stdout",
          "text": [
            "Valor a ser encontrado: 50\n",
            "\n",
            "Lista: [(0, 27), (1, 2), (2, 8), (3, 10), (4, 95), (5, 62), (6, 29), (7, 85), (8, 78), (9, 83), (10, 18), (11, 47), (12, 26), (13, 84), (14, 24), (15, 42), (16, 78), (17, 89), (18, 50), (19, 51)]\n",
            "\n",
            "Posição (1ª ocorrência) de 50 na lista (-1: não encontrado): 18\n"
          ]
        }
      ]
    },
    {
      "cell_type": "markdown",
      "metadata": {
        "id": "nLnqQ9quEGKa"
      },
      "source": [
        "> ### `7.` Criar um programa com uma função que recebe uma lista com valores inteiros como parâmetro, calcula e retorna:\n",
        "+ ### O menor e o maior valor da lista.\n",
        "+ ### A média aritmética dos valores da lista.\n",
        "+ ### A qtde de valores negativos.\n",
        "+ ### A diferença do maior valor par com o menor valor ímpar (maior par menos menor ímpar).\n",
        "\n",
        "> ### O programa principal deve gerar uma lista com 20 valores inteiros aleatórios entre -50 e 50, chamar a função passando a lista como parâmetro e mostrar os resultados no final."
      ]
    },
    {
      "cell_type": "code",
      "metadata": {
        "id": "ucMb9hMqEMN1",
        "colab": {
          "base_uri": "https://localhost:8080/"
        },
        "outputId": "e10e4149-13bc-41f1-bc68-faee73e6f969"
      },
      "source": [
        "from random import randint\n",
        "\n",
        "def calculos(plis):\n",
        "    me_lis, ma_lis = min(plis), max(plis)\n",
        "    med_lis = sum(plis) / len(plis)\n",
        "    qn_lis = 0\n",
        "    for v in plis:\n",
        "        if v < 0:\n",
        "            qn_lis += 1\n",
        "\n",
        "    dif_ma_me = max([v for v in plis if v % 2 == 0]) - min([v for v in plis if v % 2 != 0])\n",
        "\n",
        "    return me_lis, ma_lis, med_lis, qn_lis, dif_ma_me\n",
        "\n",
        "\n",
        "# programa principal\n",
        "\n",
        "def main():\n",
        "    lis = [randint(-50, 50) for _ in range(20)]\n",
        "    print(f'Lista ordenada: {sorted(lis)}')\n",
        "    me, ma, med, qn, dif = calculos(lis)\n",
        "    print(f'\\nMenor e maior valor da lista: {me} e {ma}')\n",
        "    print(f'\\nMédia aritmética = {med:.3f}')\n",
        "    print(f'\\nQtde de negativos = {qn}')\n",
        "    print(f'\\nDiferença do maior par com o menor ímpar = {dif}')\n",
        "\n",
        "main()"
      ],
      "execution_count": null,
      "outputs": [
        {
          "output_type": "stream",
          "name": "stdout",
          "text": [
            "Lista ordenada: [-48, -39, -37, -32, -26, -25, -24, -15, -11, -5, -4, 0, 14, 21, 25, 26, 38, 39, 40, 46]\n",
            "\n",
            "Menor e maior valor da lista: -48 e 46\n",
            "\n",
            "Média aritmética = -0.850\n",
            "\n",
            "Qtde de negativos = 11\n",
            "\n",
            "Diferença do maior par com o menor ímpar = 85\n"
          ]
        }
      ]
    },
    {
      "cell_type": "markdown",
      "metadata": {
        "id": "l1oxVo-QLnah"
      },
      "source": [
        "> ### `8.` Criar uma função para gerar e retornar uma cartela de bingo com 25 valores aleatórios (matriz 5x5), seguindo as regras abaixo. O programa principal chama a função e mostra a cartela gerada e retornada.\n",
        "### Regras:\n",
        "+ ### 5 linhas e 5 colunas.\n",
        "+ ### 1ª coluna de 0 a 19, 2ª coluna de 20 a 39 e, assim, até a 5ª coluna.\n",
        "+ ### Não pode haver repetições.\n",
        ">### **Obs.**: use o módulo `numpy` para facilitar a criação da cartela."
      ]
    },
    {
      "cell_type": "code",
      "metadata": {
        "id": "g3kqulIPLrxZ",
        "colab": {
          "base_uri": "https://localhost:8080/"
        },
        "outputId": "8ab2bb63-b076-429c-a7b3-6c85302360cc"
      },
      "source": [
        "import numpy as np\n",
        "from random import sample\n",
        "\n",
        "def cartela():\n",
        "    np_cart = np.array([[0] * 5 for i in range(5)])\n",
        "    for j in range(5):\n",
        "        np_cart[:, j] = sorted(sample(range(j * 20, j * 20 + 20), 5))\n",
        "\n",
        "    return np_cart\n",
        "\n",
        "def main():\n",
        "    c = cartela()\n",
        "    print(c)\n",
        "\n",
        "main()"
      ],
      "execution_count": null,
      "outputs": [
        {
          "output_type": "stream",
          "name": "stdout",
          "text": [
            "[[ 3 20 40 61 81]\n",
            " [ 8 22 42 67 88]\n",
            " [ 9 30 46 68 90]\n",
            " [11 35 52 75 91]\n",
            " [18 36 55 77 93]]\n"
          ]
        }
      ]
    },
    {
      "cell_type": "markdown",
      "metadata": {
        "id": "6-oPv_dYB_QC"
      },
      "source": [
        "> ## Passagem de parâmetros por `valor` e por `referência` (endereço de memória):\n",
        "---"
      ]
    },
    {
      "cell_type": "code",
      "metadata": {
        "colab": {
          "base_uri": "https://localhost:8080/"
        },
        "id": "t2hzrj_oCUmD",
        "outputId": "6bd1aba8-4b26-4b0b-ad76-4d106241c77d"
      },
      "source": [
        "def fx(pa, pb):\n",
        "    pa[0] = 99999 # pa faz referência à variável 'a' global.\n",
        "    pb = 20 # pb recebe um novo endereço (Não faz referência a 'b' global).\n",
        "    print(f'Endereço de pa: {id(pa)}')\n",
        "    print(f'Endereço de pb: {id(pb)}')\n",
        "    print(f'Valor de pb: {pb}')\n",
        "\n",
        "a = [x for x in range(10)]\n",
        "b = 10\n",
        "print(f'Endereço de a: {id(a)}')\n",
        "print(f'Endereço de b: {id(b)}')\n",
        "print(f'Valor de a e b antes: {a}  -  {b}') # o valor de b não foi trocado\n",
        "fx(a, b)\n",
        "print(f'Valor de a e b depois: {a}  -  {b}') # ao mostrar a lista, o primeiro valor foi trocado"
      ],
      "execution_count": null,
      "outputs": [
        {
          "output_type": "stream",
          "name": "stdout",
          "text": [
            "Endereço de a: 140631346788144\n",
            "Endereço de b: 94367855442720\n",
            "Valor de a e b antes: [0, 1, 2, 3, 4, 5, 6, 7, 8, 9]  -  10\n",
            "Endereço de pa: 140631346788144\n",
            "Endereço de pb: 94367855443040\n",
            "Valor de pb: 20\n",
            "Valor de a e b depois: [99999, 1, 2, 3, 4, 5, 6, 7, 8, 9]  -  10\n"
          ]
        }
      ]
    },
    {
      "cell_type": "markdown",
      "metadata": {
        "id": "hUndCrNxKabC"
      },
      "source": [
        "> ## Funções `lambda`: funções declaradas em uma única linha e usadas para cálculos simples.\n",
        "---"
      ]
    },
    {
      "cell_type": "markdown",
      "metadata": {
        "id": "GCLxN9tGKlJa"
      },
      "source": [
        "> ### Exemplo 1:"
      ]
    },
    {
      "cell_type": "code",
      "metadata": {
        "colab": {
          "base_uri": "https://localhost:8080/"
        },
        "id": "eBBtmIg-KZ-X",
        "outputId": "4750b7f6-9fa3-4775-da8c-b237ff0518c6"
      },
      "source": [
        "cubo = lambda x: x ** 3\n",
        "\n",
        "v = float(input('Valor numérico: '))\n",
        "c = cubo(v)\n",
        "print(f'\\n{v} ao cubo igual a {c}')"
      ],
      "execution_count": null,
      "outputs": [
        {
          "output_type": "stream",
          "name": "stdout",
          "text": [
            "Valor numérico: 2\n",
            "\n",
            "2.0 ao cubo igual a 8.0\n"
          ]
        }
      ]
    },
    {
      "cell_type": "markdown",
      "metadata": {
        "id": "ht-pS69tK3d3"
      },
      "source": [
        "> ### Exemplo 2:"
      ]
    },
    {
      "cell_type": "code",
      "metadata": {
        "colab": {
          "base_uri": "https://localhost:8080/"
        },
        "id": "Vz1xXHElK_TC",
        "outputId": "20e35db0-dd2b-410c-81c5-61b64d6412c8"
      },
      "source": [
        "from math import sqrt\n",
        "\n",
        "hip = lambda ca, cb: sqrt(ca ** 2 + cb ** 2)\n",
        "\n",
        "a = float(input('Cateto A: '))\n",
        "b = float(input('\\nCateto B: '))\n",
        "h = hip(a, b)\n",
        "print(f'\\nHipotenusa com catetos {a} e {b} = {h}')"
      ],
      "execution_count": null,
      "outputs": [
        {
          "output_type": "stream",
          "name": "stdout",
          "text": [
            "Cateto A: 3\n",
            "\n",
            "Cateto B: 4\n",
            "\n",
            "Hipotenusa com catetos 3.0 e 4.0 = 5.0\n"
          ]
        }
      ]
    },
    {
      "cell_type": "markdown",
      "metadata": {
        "id": "zNQ5txM6LQi5"
      },
      "source": [
        "> ### Exemplo 3:"
      ]
    },
    {
      "cell_type": "code",
      "metadata": {
        "colab": {
          "base_uri": "https://localhost:8080/"
        },
        "id": "ONyqPEH1LX5N",
        "outputId": "1723dfdc-82ce-49e9-ea46-fd0201d2f8dd"
      },
      "source": [
        "from random import randint\n",
        "\n",
        "lista = [randint(1, 100) for i in range(10)]\n",
        "print(f'Lista original: {lista}')\n",
        "\n",
        "pares = [v for v in lista if v % 2 == 0]\n",
        "print(f'\\nLista dos pares: {pares}')\n",
        "\n",
        "impares = list(filter(lambda x: x % 2 != 0, lista))\n",
        "print(f'\\nLista dos ímpares: {impares}')"
      ],
      "execution_count": null,
      "outputs": [
        {
          "output_type": "stream",
          "name": "stdout",
          "text": [
            "Lista original: [75, 47, 13, 14, 99, 55, 55, 66, 23, 26]\n",
            "\n",
            "Lista dos pares: [14, 66, 26]\n",
            "\n",
            "Lista dos ímpares: [75, 47, 13, 99, 55, 55, 23]\n"
          ]
        }
      ]
    },
    {
      "cell_type": "markdown",
      "metadata": {
        "id": "Gwb1kxwSMBzh"
      },
      "source": [
        "> ### Exemplo 4:"
      ]
    },
    {
      "cell_type": "code",
      "metadata": {
        "colab": {
          "base_uri": "https://localhost:8080/"
        },
        "id": "DjzpXhbGMJsZ",
        "outputId": "e7a78f8a-75fc-40f8-cc19-d1edb553d6ec"
      },
      "source": [
        "from random import randint\n",
        "\n",
        "lista = [[randint(1, 10) for j in range(2)] for i in range(5)]\n",
        "print(f'\\nLista original: {lista}')\n",
        "ord = sorted(lista, key=lambda x: x[1]) # o 2º valor será usado como chave\n",
        "print(f'\\nLista original ordenada pelo 2º valor: {ord}')"
      ],
      "execution_count": null,
      "outputs": [
        {
          "output_type": "stream",
          "name": "stdout",
          "text": [
            "\n",
            "Lista original: [[6, 3], [6, 5], [7, 10], [2, 3], [3, 2]]\n",
            "\n",
            "Lista original ordenada pelo 2º valor: [[3, 2], [6, 3], [2, 3], [6, 5], [7, 10]]\n"
          ]
        }
      ]
    },
    {
      "cell_type": "code",
      "metadata": {
        "id": "VtTNChOg7Y_4"
      },
      "source": [
        ""
      ],
      "execution_count": null,
      "outputs": []
    }
  ]
}