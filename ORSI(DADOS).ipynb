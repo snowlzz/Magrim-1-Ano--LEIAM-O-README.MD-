{
  "nbformat": 4,
  "nbformat_minor": 0,
  "metadata": {
    "colab": {
      "name": "Prova A1 MAGRIM 2.ipynb",
      "provenance": [],
      "collapsed_sections": [],
      "authorship_tag": "ABX9TyPAU2Ep+4y8iTT10K81Gz1I",
      "include_colab_link": true
    },
    "kernelspec": {
      "name": "python3",
      "display_name": "Python 3"
    },
    "language_info": {
      "name": "python"
    }
  },
  "cells": [
    {
      "cell_type": "markdown",
      "metadata": {
        "id": "view-in-github",
        "colab_type": "text"
      },
      "source": [
        "<a href=\"https://colab.research.google.com/github/snowlzz/Magrim-1-Ano--LEIAM-O-README.MD-/blob/main/ORSI(DADOS).ipynb\" target=\"_parent\"><img src=\"https://colab.research.google.com/assets/colab-badge.svg\" alt=\"Open In Colab\"/></a>"
      ]
    },
    {
      "cell_type": "code",
      "metadata": {
        "colab": {
          "base_uri": "https://localhost:8080/"
        },
        "id": "bQaWN0W-Bj1h",
        "outputId": "696b70ff-c4d2-40c7-f238-859c6bb1aa3e"
      },
      "source": [
        "from random import randint\n",
        "\n",
        "lis = [randint(1, 10) for _ in range(20)]\n",
        "lis1 = [randint(1, 10) for _ in range(10)]\n",
        "print(f'Primeira Lista: {lis}')\n",
        "print(f'Segunda Lista: {lis1}')\n",
        "\n",
        "lis2 = []\n",
        "for v in lis:\n",
        "    if v in lis1:\n",
        "        lis2.append(v)\n",
        "print(f'Lista de números em comum: {lis2}')\n",
        "found = []\n",
        "for v in lis:\n",
        "  if v in lis1:\n",
        "    if v not in found:\n",
        "      found.append(v)\n",
        "\n",
        "if lis2 == found:\n",
        "  print('Sim\\n')\n",
        "else:\n",
        "  print('Não')"
      ],
      "execution_count": null,
      "outputs": [
        {
          "output_type": "stream",
          "name": "stdout",
          "text": [
            "Primeira Lista: [5, 10, 5, 3, 4, 2, 9, 1, 7, 3, 2, 7, 7, 5, 8, 4, 9, 9, 8, 8]\n",
            "Segunda Lista: [5, 4, 4, 7, 9, 6, 6, 6, 6, 5]\n",
            "Lista de números em comum: [5, 5, 4, 9, 7, 7, 7, 5, 4, 9, 9]\n",
            "Não\n"
          ]
        }
      ]
    },
    {
      "cell_type": "code",
      "metadata": {
        "colab": {
          "base_uri": "https://localhost:8080/"
        },
        "id": "OL623sO8DGaY",
        "outputId": "c83c1d4c-d19f-4ab0-e8d8-84782c5e8383"
      },
      "source": [
        "def curso(pn):\n",
        "    rela = []\n",
        "    x, y = 1, 10\n",
        "\n",
        "    for v in range(pn):\n",
        "        rela.append(x)\n",
        "        rela.append(y)\n",
        "        x = x + 1\n",
        "        y = y + 5\n",
        "\n",
        "    return curso\n",
        "def main():\n",
        "    n = int(input('Quantidadde de termos desejados: '))\n",
        "    rela_cr = curso(n)\n",
        "    print(rela_cr)\n",
        "main()"
      ],
      "execution_count": null,
      "outputs": [
        {
          "output_type": "stream",
          "name": "stdout",
          "text": [
            "Quantidadde de termos desejados: 8\n",
            "<function curso at 0x7f7bb8303290>\n"
          ]
        }
      ]
    },
    {
      "cell_type": "code",
      "source": [
        "def vazia(p):\n",
        "  return False if p else True\n",
        "\n",
        "def push(p,v):\n",
        "  p.append(v)\n",
        "\n",
        "def pop(p):\n",
        "  return p.pop()\n",
        "\n",
        "def mostraPilha(p):\n",
        "  aux = []\n",
        "  while not vazia(p):\n",
        "    v = pop(p)\n",
        "    print(v)\n",
        "    push(aux,v)\n",
        "\n",
        "  while not vazia(aux):\n",
        "    v = pop(aux)\n",
        "    push(p,v)\n",
        "\n",
        "def qtdePilha(p):\n",
        "  qt = 0\n",
        "  aux = []\n",
        "\n",
        "  while not vazia(p):\n",
        "    v = pop(p)\n",
        "    qt += 1\n",
        "    push(aux,v)\n",
        "\n",
        "  while not vazia(aux):\n",
        "    v = pop(aux)\n",
        "    push(p,v)\n",
        "\n",
        "  return qt\n",
        "\n",
        "def retira(p):\n",
        "  aux = []\n",
        "  while not vazia(p):\n",
        "    v = pop(p)\n",
        "    push(aux,v)\n",
        "  v = pop(aux)\n",
        "\n",
        "  while not vazia(v):\n",
        "    v = pop(aux)\n",
        "    push(p,v)\n",
        "\n",
        "def pilhasIguais(p1, p2):\n",
        "  aux1 = []\n",
        "  aux2 = []\n",
        "  retorno = True\n",
        "  if qtdePilha(p1) != qtdePilha(p2):\n",
        "    return False\n",
        "  \n",
        "  while not vazia(p1) and not vazia(p2):\n",
        "    \n",
        "    v1 = pop(p1)\n",
        "    v2 = pop(p2)\n",
        "    push(aux1,v1)\n",
        "    push(aux2,v2)\n",
        "\n",
        "p1 = []\n",
        "p2 = []\n",
        "\n",
        "push(p1, 10)\n",
        "push(p1, 20)\n",
        "push(p1, 30)\n",
        "mostraPilha(p1)\n",
        "\n",
        "print(f'Quantidade: {qtdePilha(p1)}')\n",
        "pop(p1)\n",
        "print('Nova chamada')\n",
        "mostraPilha(p1)\n",
        "\n",
        "\n",
        "\n",
        "pilha = [1, 2, 3, 4, 5, 6, 7, 8]\n",
        "\n",
        "def retiraPar():\n",
        "  if pilha >"
      ],
      "metadata": {
        "colab": {
          "base_uri": "https://localhost:8080/"
        },
        "id": "nAFkiFnj7HTv",
        "outputId": "8be0e7bb-6f9a-4651-9f14-f0088a40ccb6"
      },
      "execution_count": null,
      "outputs": [
        {
          "output_type": "stream",
          "name": "stdout",
          "text": [
            "30\n",
            "20\n",
            "10\n",
            "Quantidade: 3\n",
            "Nova chamada\n",
            "20\n",
            "10\n",
            "Quantidade: 2\n",
            "50\n",
            "20\n",
            "10\n",
            "Quantidade: 0\n",
            "Quantidade: 3\n",
            "10\n",
            "20\n",
            "30\n"
          ]
        }
      ]
    },
    {
      "cell_type": "code",
      "source": [
        "def push(p,v):\n",
        "  p.append(v)\n",
        "\n",
        "def pop(p):\n",
        "  return p.pop\n",
        "\n",
        "def vazia(p):\n",
        "  return False if p else True\n",
        "\n",
        "def verifica()"
      ],
      "metadata": {
        "id": "ZI7wD8fk86uF"
      },
      "execution_count": null,
      "outputs": []
    },
    {
      "cell_type": "code",
      "source": [
        "def push(p,v): \n",
        "    p.append(v)\n",
        "\n",
        "def pop(p):\n",
        "    return p.pop()\n",
        "\n",
        "def vazia(p):\n",
        "    return False if p else True\n",
        "\n",
        "def verifica(p):\n",
        "    par=[]\n",
        "    aux=[]\n",
        "    while not vazia(p):\n",
        "        v=pop(p)\n",
        "        if v % 2 == 0:\n",
        "            push(par,v)\n",
        "        else:\n",
        "            push(aux,v)\n",
        "    while not vazia(aux):\n",
        "        a=pop(aux)\n",
        "        push(p,a)\n",
        "\n",
        "\n",
        "pilha=[]\n",
        "push(pilha,1)\n",
        "push(pilha,2)\n",
        "push(pilha,3)\n",
        "push(pilha,4)\n",
        "push(pilha,5)\n",
        "print(pilha)\n",
        "verifica(pilha)\n",
        "print(pilha)"
      ],
      "metadata": {
        "colab": {
          "base_uri": "https://localhost:8080/"
        },
        "id": "I3GfGdfQ8Zuf",
        "outputId": "dd8f17b1-9ab2-40b6-902b-867f0aa36b6d"
      },
      "execution_count": null,
      "outputs": [
        {
          "output_type": "stream",
          "name": "stdout",
          "text": [
            "[1, 2, 3, 4, 5]\n",
            "[1, 3, 5]\n"
          ]
        }
      ]
    },
    {
      "cell_type": "code",
      "source": [
        "# print(f'Quantidade: {quantidadePilha(p1)}')\n",
        "# pop(p1)\n",
        "# print('nova chamada do metodo mostraPilha')\n",
        "# mostraPilha(p1)\n",
        "# print(f'Quantidade: {quantidadePilha(p1)}')\n",
        "# push(p1,50)\n",
        "# print('mostrar a pilha apos o numero 50 ter sido incluido')\n",
        "# mostraPilha(p1)\n",
        "# print(f'Quantidade p1: {quantidadePilha(p1)}')\n",
        "# mostraPilha(p1)\n",
        "# print(f'Quantidade p2: {quantidadePilha(p2)}')\n",
        "# mostraPilha(p2)\n",
        "# print(f'Quantidade: {quantidadePilha(p1)}')\n",
        "# pilhasIguais(p1,p2)"
      ],
      "metadata": {
        "id": "keoJGukBquiV"
      },
      "execution_count": null,
      "outputs": []
    },
    {
      "cell_type": "code",
      "source": [
        "class Veiculo:\n",
        "\n",
        "  def __init__(self, placa, manobra):\n",
        "    self.placa = placa\n",
        "    self.manobra = manobra\n",
        "  \n",
        "def push(p,v):\n",
        "  p.append(v)\n",
        "\n",
        "def pop(p):\n",
        "  return p.pop()\n",
        "\n",
        "def vazia(p):\n",
        "  return False if p else True\n",
        "\n",
        "def entradaEstacionamento(p,v):\n",
        "  push(p,v)\n",
        "  print('Veiculo no estacionamento')\n",
        "\n",
        "def saidaEstacionamento(p,placa):\n",
        "  encontrou = False\n",
        "  aux = []\n",
        "  while not vazia(p):\n",
        "    v = pop(p)\n",
        "    if v.placa != placa:\n",
        "      v.manobra = v.manobra + 1\n",
        "      push(aux,v)\n",
        "    else:\n",
        "      encontrou=True\n",
        "      break\n",
        "  while not vazia(aux):\n",
        "    a=pop(aux)\n",
        "    push(p,a)\n",
        "\n",
        "  if encontrou:\n",
        "    return v\n",
        "  else:\n",
        "    return None\n",
        "\n",
        "\n",
        "#teste\n",
        "est = []\n",
        "x = Veiculo('ABC1090', 0)\n",
        "entradaEstacionamento(est,x)\n",
        "x = Veiculo('ABC9990', 0)\n",
        "entradaEstacionamento(est,x)\n",
        "s=saidaEstacionamento(est, 'ABC1090')\n",
        "print(s.placa,' ', s.manobra)\n",
        "s=saidaEstacionamento(est,'ABC9990')\n",
        "print(s.placa,' ', s.manobra)"
      ],
      "metadata": {
        "id": "R1Vdr2Yw7UfY",
        "colab": {
          "base_uri": "https://localhost:8080/"
        },
        "outputId": "f524349d-1cc7-41f1-841d-dd3796d7887d"
      },
      "execution_count": null,
      "outputs": [
        {
          "output_type": "stream",
          "name": "stdout",
          "text": [
            "Veiculo no estacionamento\n",
            "Veiculo no estacionamento\n",
            "ABC1090   0\n",
            "ABC9990   1\n"
          ]
        }
      ]
    },
    {
      "cell_type": "code",
      "source": [
        "# 2. Escrever um programa para determinar se um conjunto de caracteres é da forma xCy, onde x é um conjunto de caracteres, consistindo nas letras:\n",
        "# 'a' e 'b'. e y é o inverso de x (isto é se x = 'ABABBA', y equivale a 'ABBABA')\n",
        "\n",
        "x = 'ABABBA'\n",
        "print(x)\n",
        "y = x[::-1]\n",
        "print(y)"
      ],
      "metadata": {
        "id": "g324OnR87UMH",
        "colab": {
          "base_uri": "https://localhost:8080/"
        },
        "outputId": "6386a72f-e88f-4174-cf84-38b3d44450b9"
      },
      "execution_count": null,
      "outputs": [
        {
          "output_type": "stream",
          "name": "stdout",
          "text": [
            "ABABBA\n",
            "ABBABA\n"
          ]
        }
      ]
    },
    {
      "cell_type": "code",
      "source": [
        "# FILA  \n",
        "# f = fila\n",
        "# v = valor\n",
        "def inserir(f,v):\n",
        "  f.append(v)\n",
        "\n",
        "def retirar(f):\n",
        "  return f.pop(0)\n",
        "\n",
        "def vaziaFila(f):\n",
        "  return False if f else True\n",
        "\n",
        "def push(p,v):\n",
        "  p.append(v)\n",
        "\n",
        "def pop(p):\n",
        "  return p.pop\n",
        "\n",
        "fila = []\n",
        "\n",
        "def showFila(f):\n",
        "  aux = []\n",
        "  while not vaziaFila(f):\n",
        "    v = retirar(f)\n",
        "    print(v, end=' ')\n",
        "    inserir(aux,v)\n",
        "\n",
        "  while not vaziaFila(aux):\n",
        "    v = retirar(aux)\n",
        "    inserir(f, v)\n",
        "\n",
        "def qtdeElementos(f):\n",
        "  qt = 0\n",
        "  aux = []\n",
        "\n",
        "  while not vazia(f):\n",
        "    v = retira(f)\n",
        "    qt += 1\n",
        "    inserir(aux,v)\n",
        "\n",
        "  while not vazia(aux):\n",
        "    v = retira(aux)\n",
        "    inserir(f, v)\n",
        "\n",
        "  return qt\n",
        "\n",
        "def inverteFila(f):\n",
        "  aux = []\n",
        "  while not vaziaFila(f):\n",
        "    a = retirar\n",
        "    inserir(aux,a)\n",
        "  print(aux)\n",
        "  f == aux\n",
        "\n",
        "inserir(fila, 10)\n",
        "inserir(fila, 20)\n",
        "inserir(fila, 30)\n",
        "\n",
        "showFila(fila)\n",
        "\n",
        "def inserirPilhaFila(p,x):\n",
        "  push(p,x)\n",
        "\n",
        "def retirarPilhaFila(p):\n",
        "  aux=[];\n",
        "  while not vazia(p):\n",
        "    v=pop(p)\n",
        "    push(aux,v)\n",
        "\n",
        "  valor =pop(aux)\n",
        "\n",
        "  while not vazia(aux):\n",
        "    v=pop(aux)\n",
        "    push(p,v)\n",
        "\n",
        "  return\n",
        "\n"
      ],
      "metadata": {
        "colab": {
          "base_uri": "https://localhost:8080/"
        },
        "id": "8x3RBLCM0d5M",
        "outputId": "688b9161-af91-425b-d964-13b7e0bf94e0"
      },
      "execution_count": 6,
      "outputs": [
        {
          "output_type": "stream",
          "name": "stdout",
          "text": [
            "10 20 30 "
          ]
        }
      ]
    },
    {
      "cell_type": "code",
      "source": [
        "\n",
        "\n",
        "def inserirPilhaFila(p,x):\n",
        "  push(p,x)\n",
        "\n",
        "def retirarPilhaFila(p):\n",
        "  aux=[];\n",
        "  while not vazia(p):\n",
        "    v=pop(p)\n",
        "    push(aux,v)\n",
        "\n",
        "  valor =pop(aux)\n",
        "\n",
        "  while not vazia(aux):\n",
        "    v=pop(aux)\n",
        "    push(p,v)\n",
        "\n",
        "  return valor"
      ],
      "metadata": {
        "id": "zjmz4uXN34ZP"
      },
      "execution_count": 4,
      "outputs": []
    },
    {
      "cell_type": "code",
      "source": [
        ""
      ],
      "metadata": {
        "id": "qYu0Zr5542VY"
      },
      "execution_count": null,
      "outputs": []
    }
  ]
}