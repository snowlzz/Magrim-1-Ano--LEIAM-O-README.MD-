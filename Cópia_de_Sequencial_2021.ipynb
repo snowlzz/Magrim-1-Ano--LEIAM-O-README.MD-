{
  "nbformat": 4,
  "nbformat_minor": 0,
  "metadata": {
    "colab": {
      "name": "Cópia de Sequencial_2021.ipynb",
      "provenance": [],
      "collapsed_sections": [],
      "include_colab_link": true
    },
    "kernelspec": {
      "name": "python3",
      "display_name": "Python 3"
    }
  },
  "cells": [
    {
      "cell_type": "markdown",
      "metadata": {
        "id": "view-in-github",
        "colab_type": "text"
      },
      "source": [
        "<a href=\"https://colab.research.google.com/github/snowlzz/Magrim-1-Ano--LEIAM-O-README.MD-/blob/main/C%C3%B3pia_de_Sequencial_2021.ipynb\" target=\"_parent\"><img src=\"https://colab.research.google.com/assets/colab-badge.svg\" alt=\"Open In Colab\"/></a>"
      ]
    },
    {
      "cell_type": "markdown",
      "metadata": {
        "id": "LEcXUzwF8SoZ"
      },
      "source": [
        "# **Estrutura Lógica Sequencial**\n",
        "---\n",
        "---"
      ]
    },
    {
      "cell_type": "markdown",
      "metadata": {
        "id": "P_ZToqCH81Ps"
      },
      "source": [
        "> ## **Variável**: armazena uma informação (memória do computador).\n",
        "\n",
        "- ### Nomes (identificadores) para variáveis:\n",
        "    - ### Início com `letra` (maiúscula ou minúscula) ou `_`, seguidos ou não de `letras`, `dígitos` ou `_`.\n",
        "    - ### Exemplos:\n",
        "        - ### `a`, `A`, `a123`, `area`, `nome_cliente`, `_contador`, `EnderecoCliente` ..."
      ]
    },
    {
      "cell_type": "markdown",
      "metadata": {
        "id": "pzQ8Gjo2ZE2r"
      },
      "source": [
        "> ## **Algoritmo**: sequência finita de passos que soluciona um determinado problema.\n",
        "\n",
        "- ### Mais informações sobre algoritmos, consulte o livro: Fundamentos da Programação de Computadores (Ascêncio, Ana; Campos, Edilene)."
      ]
    },
    {
      "cell_type": "markdown",
      "metadata": {
        "id": "56eHO996FFHc"
      },
      "source": [
        "> ### **Exemplo**: cálculo da área de um retângulo.\n",
        "\n",
        "- #### area = lado1 . lado2\n",
        "\n",
        "\n",
        "    Algoritmo Area_Retangulo\n",
        "    Declare area, lado1, lado2: numérico\n",
        "    início\n",
        "        leia lado1, lado2\n",
        "        area = lado1 * lado2\n",
        "        escreva area\n",
        "    fim"
      ]
    },
    {
      "cell_type": "code",
      "metadata": {
        "colab": {
          "base_uri": "https://localhost:8080/"
        },
        "id": "cb-GC1NBLa-8",
        "outputId": "32adbac2-2659-4f71-c83a-9e7fa7285854"
      },
      "source": [
        "# Programa para calcular a área de um retângulo\n",
        "\n",
        "lado1 = float(input('Lado 1 (m): '))\n",
        "lado2 = float(input('\\nLado 2 (m): '))\n",
        "area = lado1 * lado2\n",
        "print(f'\\nÁrea do retângulo = {lado1:.2f} x {lado2:.2f} = {area:.2f} m²')"
      ],
      "execution_count": null,
      "outputs": [
        {
          "output_type": "stream",
          "text": [
            "Lado 1 (m): 20\n",
            "\n",
            "Lado 2 (m): 4.56\n",
            "\n",
            "Área do retângulo = 20.00 x 4.56 = 91.20 m²\n"
          ],
          "name": "stdout"
        }
      ]
    },
    {
      "cell_type": "markdown",
      "metadata": {
        "id": "y9CaAz3N7kxC"
      },
      "source": [
        "> ## **Operadores matemáticos:**\n",
        "---\n",
        "\n",
        "- ## `+` : soma.\n",
        "- ## `-` : subtração.\n",
        "- ## `*` : multiplicação (produto).\n",
        "- ## `/` : divisão.\n",
        "- ## `**` : potência.\n",
        "- ## `//` : quociente da divisão entre 2 números.\n",
        "- ## `%` : resto da divisão entre 2 números."
      ]
    },
    {
      "cell_type": "code",
      "metadata": {
        "colab": {
          "base_uri": "https://localhost:8080/"
        },
        "id": "nMt32jZG9KKX",
        "outputId": "21a81392-cf94-40b7-d0b2-1df4311cf474"
      },
      "source": [
        "# Exemplo de cálculos com os operadores matemáticos\n",
        "\n",
        "print('Soma =', 5 + 3)\n",
        "print('Subtração =', 10 - 8)\n",
        "print('Multiplicação =', 6 * 7)\n",
        "print('Divisão =', 9 / 2)\n",
        "print('Potência =', 2 ** 10)\n",
        "print('Quociente =', 5 // 2)\n",
        "print('Resto =', 5 % 2)"
      ],
      "execution_count": null,
      "outputs": [
        {
          "output_type": "stream",
          "text": [
            "Soma = 8\n",
            "Subtração = 2\n",
            "Multiplicação = 42\n",
            "Divisão = 4.5\n",
            "Potência = 1024\n",
            "Quociente = 2\n",
            "Resto = 1\n"
          ],
          "name": "stdout"
        }
      ]
    },
    {
      "cell_type": "markdown",
      "metadata": {
        "id": "cHxLnkWtSn4l"
      },
      "source": [
        "> ## **Exercícios:**\n",
        "---\n",
        "---"
      ]
    },
    {
      "cell_type": "markdown",
      "metadata": {
        "id": "6oxImPP2S-Nn"
      },
      "source": [
        "## `1)` Crie um programa para ler `3 notas` (0 a 10) e, após a leitura, calcular e mostrar a média aritmética das notas."
      ]
    },
    {
      "cell_type": "code",
      "metadata": {
        "id": "vLZBttVoTY7R",
        "colab": {
          "base_uri": "https://localhost:8080/"
        },
        "outputId": "27f3b90c-d23a-4ccb-ee37-2b1d1e6b3ae2"
      },
      "source": [
        "n1 = float(input('Nota 1 (0 a 10): '))\n",
        "n2 = float(input('\\nNota 2 (0 a 10): '))\n",
        "n3 = float(input('\\nNota 3 (0 a 10): '))\n",
        "ma = (n1 + n2 + n3) / 3\n",
        "print(f'\\nMédia aritmética = {ma:.1f}')"
      ],
      "execution_count": null,
      "outputs": [
        {
          "output_type": "stream",
          "text": [
            "Nota 1 (0 a 10): 8\n",
            "\n",
            "Nota 2 (0 a 10): 7\n",
            "\n",
            "Nota 3 (0 a 10): 5\n",
            "\n",
            "Média aritmética = 6.7\n"
          ],
          "name": "stdout"
        }
      ]
    },
    {
      "cell_type": "markdown",
      "metadata": {
        "id": "qSt2fZRKTZl3"
      },
      "source": [
        "## `2)` Crie um programa para ler o `raio` (m) de um círculo e, após a leitura, calcular e mostrar:\n",
        "- ### comp = 2 . PI . raio\n",
        "- ### area = PI . raio²\n",
        "\n",
        "### **OBS.**: PI = 3.1415"
      ]
    },
    {
      "cell_type": "code",
      "metadata": {
        "id": "aAUUruApU9uJ",
        "colab": {
          "base_uri": "https://localhost:8080/"
        },
        "outputId": "fea734c2-aa3a-4839-fc0e-0d36d61aa5f6"
      },
      "source": [
        "r = float(input('Raio do círculo (m): '))\n",
        "c = 2 * 3.1415 * r\n",
        "a = 3.1415 * r ** 2\n",
        "print(f'\\nComprimento do círculo = {c:.4f} m')\n",
        "print(f'\\nÁrea do círculo = {a:.4f} m²')"
      ],
      "execution_count": null,
      "outputs": [
        {
          "output_type": "stream",
          "text": [
            "Raio do círculo (m): 2.5\n",
            "\n",
            "Comprimento do círculo = 15.7075 m\n",
            "\n",
            "Área do círculo = 19.6344 m²\n"
          ],
          "name": "stdout"
        }
      ]
    },
    {
      "cell_type": "markdown",
      "metadata": {
        "id": "dkU3BYGwGxeA"
      },
      "source": [
        "### Outra forma: valor de PI do módulo (ou biblioteca) `math`."
      ]
    },
    {
      "cell_type": "code",
      "metadata": {
        "colab": {
          "base_uri": "https://localhost:8080/"
        },
        "id": "cII3_JlzJEEW",
        "outputId": "f083bcbb-07a2-4243-d84e-c0a2e455acec"
      },
      "source": [
        "# import math : importa todas as funções e constantes do módulo math\n",
        "from math import pi # importa apenas o pi\n",
        "\n",
        "r = float(input('Raio do círculo (m): '))\n",
        "c = 2 * pi * r\n",
        "a = pi * r ** 2\n",
        "print(f'\\nComprimento do círculo = {c:.4f} m')\n",
        "print(f'\\nÁrea do círculo = {a:.4f} m²')"
      ],
      "execution_count": null,
      "outputs": [
        {
          "output_type": "stream",
          "text": [
            "Raio do círculo (m): 2.5\n",
            "\n",
            "Comprimento do círculo = 15.7080 m\n",
            "\n",
            "Área do círculo = 19.6350 m²\n"
          ],
          "name": "stdout"
        }
      ]
    },
    {
      "cell_type": "markdown",
      "metadata": {
        "id": "liTTJu6KLgNT"
      },
      "source": [
        "## `3)` Crie um programa para ler o `preço` de um produto e, após a leitura, calcular e mostrar o valor do produto após um desconto de 7% e o valor do produto após um aumento de 5,5%."
      ]
    },
    {
      "cell_type": "code",
      "metadata": {
        "colab": {
          "base_uri": "https://localhost:8080/"
        },
        "id": "dO_3oL8qMdGh",
        "outputId": "f0e241c2-1836-43f9-81b4-e7fe6f8e131e"
      },
      "source": [
        "p = float(input('Preço do produto: R$ '))\n",
        "pd = p - 7 / 100 * p\n",
        "pa = p + 5.5 / 100 * p\n",
        "print(f'\\nPreço com desconto de 7% = R$ {pd:.2f}')\n",
        "print(f'\\nPreço com aumento de 5,5% = R$ {pa:.2f}')"
      ],
      "execution_count": null,
      "outputs": [
        {
          "output_type": "stream",
          "text": [
            "Preço do produto: R$ 100\n",
            "\n",
            "Preço com desconto de 7% = R$ 93.00\n",
            "\n",
            "Preço com aumento de 5,5% = R$ 105.50\n"
          ],
          "name": "stdout"
        }
      ]
    },
    {
      "cell_type": "markdown",
      "metadata": {
        "id": "6K2BApfIN3Va"
      },
      "source": [
        "## `4)` Crie um programa para calcular e mostrar a média ponderada entre 2 notas. As `notas` e seus respectivos `pesos` devem ser fornecidos pelo usuário no início do programa.\n",
        "### Fórmula:\n",
        "\n",
        "            n1 . p1 + n2 . p2\n",
        "    mp = ------------------------\n",
        "                 p1 + p2"
      ]
    },
    {
      "cell_type": "code",
      "metadata": {
        "id": "78ifFJObPK0P",
        "colab": {
          "base_uri": "https://localhost:8080/"
        },
        "outputId": "12fb4aad-a563-437f-e979-278274e3be8a"
      },
      "source": [
        "n1 = float(input('Nota 1 (0 a 10): '))\n",
        "p1 = int(input('Peso 1: '))\n",
        "n2 = float(input('\\nNota 2 (0 a 10): '))\n",
        "p2 = int(input('Peso 2: '))\n",
        "mp = (n1 * p1 + n2 * p2) / (p1 + p2)\n",
        "print(f'\\nMédia ponderada = {mp:.1f}')"
      ],
      "execution_count": null,
      "outputs": [
        {
          "output_type": "stream",
          "text": [
            "Nota 1 (0 a 10): 7\n",
            "Peso 1: 2\n",
            "\n",
            "Nota 2 (0 a 10): 5\n",
            "Peso 2: 3\n",
            "\n",
            "Média ponderada = 5.8\n"
          ],
          "name": "stdout"
        }
      ]
    },
    {
      "cell_type": "markdown",
      "metadata": {
        "id": "xIaK6uOMPLNK"
      },
      "source": [
        "## `5)` Uma empresa paga aos seus funcionários um salário fixo mais uma comissão de 7,5% sobre as vendas realizadas por cada funcionário. Sabendo disso, crie um programa para ler o `salário fixo` e o `valor das vendas` de um funcionário e, após a leitura, calcular e mostrar a comissão sobre as vendas e o salário final desse funcionário."
      ]
    },
    {
      "cell_type": "code",
      "metadata": {
        "id": "ECEGx_J3PM-9",
        "colab": {
          "base_uri": "https://localhost:8080/"
        },
        "outputId": "b8a5b583-bd68-4188-ea3b-522e6b691736"
      },
      "source": [
        "fixo = float(input('Salário fixo: R$ '))\n",
        "vendas = float(input('\\nTotal de vendas: R$ '))\n",
        "com = 7.5 / 100 * vendas\n",
        "final = fixo + com\n",
        "print(f'\\nComissão sobre as vendas = R$ {com:.2f}')\n",
        "print(f'\\nSalário final = R$ {fixo:.2f} + R$ {com:.2f} = R$ {final:.2f}')"
      ],
      "execution_count": null,
      "outputs": [
        {
          "output_type": "stream",
          "text": [
            "Salário fixo: R$ 1000\n",
            "\n",
            "Total de vendas: R$ 100000\n",
            "\n",
            "Comissão sobre as vendas = R$ 7500.00\n",
            "\n",
            "Salário final = R$ 1000.00 + R$ 7500.00 = R$ 8500.00\n"
          ],
          "name": "stdout"
        }
      ]
    },
    {
      "cell_type": "markdown",
      "metadata": {
        "id": "XQtu4pLVUU9y"
      },
      "source": [
        "## `6)` Crie um programa para ler os valores dos `catetos` de um triângulo retângulo e, após a leitura, calcular e mostrar o valor da hipotenusa. \n",
        "### OBS.: use Pitágoras para calcular.\n",
        "### $h = \\sqrt{ca^2 + cb^2}$"
      ]
    },
    {
      "cell_type": "code",
      "metadata": {
        "id": "RrYRxrVuVG2-",
        "colab": {
          "base_uri": "https://localhost:8080/"
        },
        "outputId": "6a445117-eb4a-49ae-a77c-f9835affea98"
      },
      "source": [
        "from math import sqrt # sqrt é a função que calcula a raiz quadrada\n",
        "\n",
        "ca = float(input('Cateto A: '))\n",
        "cb = float(input('\\nCateto B: '))\n",
        "h = sqrt(ca ** 2 + cb ** 2)\n",
        "print(f'\\nHipotenusa = {h:.3f}')"
      ],
      "execution_count": null,
      "outputs": [
        {
          "output_type": "stream",
          "text": [
            "Cateto A: 3\n",
            "\n",
            "Cateto B: 4\n",
            "\n",
            "Hipotenusa = 5.000\n"
          ],
          "name": "stdout"
        }
      ]
    },
    {
      "cell_type": "markdown",
      "metadata": {
        "id": "NIrxGjsWHO65"
      },
      "source": [
        "## `7)` Uma escada está apoiada no chão formando um ângulo `a` e há uma distância `d` da parede. A parede forma um ângulo de 90º com o chão. Sabendo disso, crie um programa para ler os valores de `a` (graus) e `d` (metros), calcule e mostre o comprimento da escada (`c`).\n",
        "\n",
        "    |\\\n",
        "    | \\\n",
        "    |  \\\n",
        "    |   \\                      d\n",
        "    |    \\ c         cos a = -----  ->  c = d / cos a\n",
        "    |     \\                    c\n",
        "    |      \\\n",
        "    |_      \\\n",
        "    |.|    a \\\n",
        "    -----------\n",
        "         d\n"
      ]
    },
    {
      "cell_type": "code",
      "metadata": {
        "colab": {
          "base_uri": "https://localhost:8080/"
        },
        "id": "C7e385c3K9ez",
        "outputId": "65e46006-7c29-4f33-fec0-31ebba500d7d"
      },
      "source": [
        "from math import cos, radians\n",
        "\n",
        "a = float(input('Ângulo (graus): '))\n",
        "d = float(input('\\nDistância (m): '))\n",
        "c = d / cos(radians(a))\n",
        "print(f'\\nComprimento da escada = {c:.1f} m')"
      ],
      "execution_count": null,
      "outputs": [
        {
          "output_type": "stream",
          "text": [
            "Ângulo (graus): 60\n",
            "\n",
            "Distância (m): 2\n",
            "\n",
            "Comprimento da escada = 4.0 m\n"
          ],
          "name": "stdout"
        }
      ]
    },
    {
      "cell_type": "markdown",
      "metadata": {
        "id": "EHOVAyMEN4fX"
      },
      "source": [
        "## `8)` Crie um programa para ler uma certa quantidade de `dias`, `horas`, `minutos` e `segundos` (o usuário fornece). Após as leituras, calcular e mostrar a qtde total de segundos contidos nesses valores."
      ]
    },
    {
      "cell_type": "code",
      "metadata": {
        "colab": {
          "base_uri": "https://localhost:8080/"
        },
        "id": "7z0bUnpSOii5",
        "outputId": "592f66e6-983b-4b4f-f8ef-9027f731d593"
      },
      "source": [
        "d = int(input('Dias: '))\n",
        "h = int(input('\\nHoras: '))\n",
        "m = int(input('\\nMinutos: '))\n",
        "s = int(input('\\nSegundos: '))\n",
        "ts = s + m * 60 + h * 60 * 60 + d * 24 * 60 * 60\n",
        "print(f'\\nTotal de segundos = {ts}')"
      ],
      "execution_count": null,
      "outputs": [
        {
          "output_type": "stream",
          "text": [
            "Dias: 1\n",
            "\n",
            "Horas: 2\n",
            "\n",
            "Minutos: 10\n",
            "\n",
            "Segundos: 1\n",
            "\n",
            "Total de segundos = 94201\n"
          ],
          "name": "stdout"
        }
      ]
    },
    {
      "cell_type": "markdown",
      "metadata": {
        "id": "zqwaq3cdO7wp"
      },
      "source": [
        "## `9)` Crie um programa para ler o `tamanho` de um arquivo em GBytes e a `velocidade` de download de uma rede em Mbits por segundo. Após as leituras, calcular e mostrar o tempo em minutos gasto para transferir o arquivo pela rede.\n",
        "- ### 1 Byte = 8 bits\n",
        "- ### 1 GByte = 1024 MBytes\n"
      ]
    },
    {
      "cell_type": "code",
      "metadata": {
        "id": "ta5StrPrRHJI",
        "colab": {
          "base_uri": "https://localhost:8080/"
        },
        "outputId": "044fd97e-a99e-42e9-fd83-6070af5916b0"
      },
      "source": [
        "tam = float(input('Tamanho do arquivo (GB): '))\n",
        "vel = float(input('\\nVelocidade da rede (Mb/s): '))\n",
        "vel_gbyte = vel / 8 / 1024 # converte a velocidade em GB/s\n",
        "ts = int(tam / vel_gbyte) # tempo em segundos (apenas o valor inteiro)\n",
        "tm = ts // 60 # calcula apenas os minutos\n",
        "ts %= 60 # calcula os segundos que restaram (ts = ts % 60)\n",
        "print(f'\\nTempo gasto de download = {tm} min e {ts} seg')"
      ],
      "execution_count": null,
      "outputs": [
        {
          "output_type": "stream",
          "text": [
            "Tamanho do arquivo (GB): 1.8\n",
            "\n",
            "Velocidade da rede (Mb/s): 100\n",
            "\n",
            "Tempo gasto de download = 2 min e 27 seg\n"
          ],
          "name": "stdout"
        }
      ]
    },
    {
      "cell_type": "markdown",
      "metadata": {
        "id": "OJQQsumHO3FH"
      },
      "source": [
        "# Correção da Avaliação A2 - Parte 1\n",
        "---\n",
        "---"
      ]
    },
    {
      "cell_type": "code",
      "metadata": {
        "colab": {
          "base_uri": "https://localhost:8080/"
        },
        "id": "YEeRgUdvO_e0",
        "outputId": "94c80aaf-9032-4afa-86a3-c82c75709f4b"
      },
      "source": [
        "# Questão 1\n",
        "\n",
        "from math import sqrt\n",
        "\n",
        "v0 = float(input('Velocidade inicial (m/s): '))\n",
        "a = float(input('Aceleração (m/s²): '))\n",
        "ds = float(input('Distância percorrida (m): '))\n",
        "s0 = float(input('Posição inicial (m): '))\n",
        "t = float(input('Tempo (s): '))\n",
        "\n",
        "v = sqrt(v0 ** 2 + 2 * a * ds)\n",
        "s = s0 + v0 * t + a * t ** 2 / 2\n",
        "\n",
        "print(f'\\nVelocidade final = {v:.3f} m/s')\n",
        "print(f'\\nPosição final = {s:.1f} m')"
      ],
      "execution_count": null,
      "outputs": [
        {
          "output_type": "stream",
          "text": [
            "Velocidade inicial (m/s): 30\n",
            "Aceleração (m/s²): 9.8\n",
            "Distância percorrida (m): 100\n",
            "Posição inicial (m): 0\n",
            "Tempo (s): 50\n",
            "\n",
            "Velocidade final = 53.479 m/s\n",
            "\n",
            "Posição final = 13750.0 m\n"
          ],
          "name": "stdout"
        }
      ]
    },
    {
      "cell_type": "code",
      "metadata": {
        "colab": {
          "base_uri": "https://localhost:8080/"
        },
        "id": "Xzgf9Cq3PDec",
        "outputId": "6b251a9c-e7c8-44fa-fc0b-952275cb2ec3"
      },
      "source": [
        "# Questão 2\n",
        "\n",
        "s = int(input('Segundos: '))\n",
        "\n",
        "m = s // 60\n",
        "s %= 60\n",
        "h = m // 60\n",
        "m %= 60\n",
        "d = h // 24\n",
        "h %= 24\n",
        "\n",
        "print(f'\\n{d} dias, {h} horas, {m} minutos e {s} segundos')"
      ],
      "execution_count": null,
      "outputs": [
        {
          "output_type": "stream",
          "text": [
            "Segundos: 1000002\n",
            "\n",
            "11 dias, 13 horas, 46 minutos e 42 segundos\n"
          ],
          "name": "stdout"
        }
      ]
    }
  ]
}